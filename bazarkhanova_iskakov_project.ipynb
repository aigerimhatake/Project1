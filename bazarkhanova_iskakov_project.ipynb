{
  "nbformat": 4,
  "nbformat_minor": 0,
  "metadata": {
    "colab": {
      "name": "MATH540 Project.ipynb",
      "provenance": [],
      "collapsed_sections": []
    },
    "kernelspec": {
      "name": "python3",
      "display_name": "Python 3"
    }
  },
  "cells": [
    {
      "cell_type": "markdown",
      "metadata": {
        "id": "hkPeHZOoumOP",
        "colab_type": "text"
      },
      "source": [
        "# MATH540 Project\n",
        "# Aigerim Bazarkhanova and Alisher Iskakov\n",
        "# Analyzing car accidents in Kazakhstan using machine learning"
      ]
    },
    {
      "cell_type": "markdown",
      "metadata": {
        "id": "AQ6KIA0bpRIj",
        "colab_type": "text"
      },
      "source": [
        "## Abstract\n",
        "\n",
        "In this project we have applied machine learning techniques to classify different types of road traffic  accidents. We have obtained the data from the open sources and then prepared it for machine learning models. We have approached this problem by extracting several features, such as road conditions, light conditions (day, night), number of injured people etc. We have used several classifier models, which included logistic regression, SVM, kNN, LDA, QDA, neural networks and random forests. We have decided to implement logistic regression from scratch, while for the other models we have used the implementations from scikit-learn library. We then compared all these classifiers according to the following evaluation metrics: accuracy, precision, recall, and F1-score."
      ]
    },
    {
      "cell_type": "markdown",
      "metadata": {
        "id": "HsyRg0vCE54a",
        "colab_type": "text"
      },
      "source": [
        "## Introduction\n",
        "\n",
        "Every year car accidents cause the deaths of millions of people over the world, with a lot more injured people after the accidents. Kazakstan is not an exception in this situation. There are many factors that lead to accidents, which include driver condition (fatigue, intoxication), road conditions, weather conditions and a lot more. It is important to analyze these factors and to be able to reason about the causes of car accidents. In our work we have chosen to do exactly this by using the publicly available data on road accidents in Kazakhstan and our knowledge of machine learning techniques. \n",
        "\n",
        "We would not be that confident to claim the significance of our findings, but we believe that the results of our work can give a better insight into the problem."
      ]
    },
    {
      "cell_type": "markdown",
      "metadata": {
        "id": "xJLiHPF3qp9F",
        "colab_type": "text"
      },
      "source": [
        "## Methods\n",
        "\n",
        "In this project we have followed the standard pipeline of data analysis routine. Firstly, we collected the data from the service that provides the information about car accidents in Kazakhstan during a selected range of time. Then, we preprocessed it using transformations we implemented specifically for this problem. Finally, we applied several classification models and evaluated their performance using different metrics.\n",
        "\n",
        "Let's start with data collection."
      ]
    },
    {
      "cell_type": "markdown",
      "metadata": {
        "id": "AnSFyRpg6Ue4",
        "colab_type": "text"
      },
      "source": [
        "## Data collection\n",
        "\n",
        "The data was retrieved from The Committee for Legal Statistics and Special Records of the The General Prosecutor's Office of the Republic of Kazakhstan.\n",
        "\n",
        "http://qamqor.gov.kz/gis/index.html\n",
        "\n",
        "The data provided by the commitee includes crime map (including criminal offense by minors and violent acts towards minors), map of appeals to government agencies, and map of accidents. \n",
        "\n",
        "We obtain the data by making GET requests to the server. We have inspected the website to understand the way of retrieving the data. The website sends simple GET requests to the server. It adds specific parameters, such as time range and spatial location. The server then responds with JSON data containing each accident in a JSON array. The data points are then displayed on the website."
      ]
    },
    {
      "cell_type": "markdown",
      "metadata": {
        "id": "P_6M1I4K_wtf",
        "colab_type": "text"
      },
      "source": [
        "We first import libraries for performing HTTP requests and working with JSON data."
      ]
    },
    {
      "cell_type": "code",
      "metadata": {
        "id": "uz1RZiBZ6Wur",
        "colab_type": "code",
        "colab": {}
      },
      "source": [
        "import json\n",
        "import requests"
      ],
      "execution_count": 0,
      "outputs": []
    },
    {
      "cell_type": "markdown",
      "metadata": {
        "id": "v2kdwHni_-VF",
        "colab_type": "text"
      },
      "source": [
        "We have found the base URL for sending GET requests to the server, which is given below. We then add specific parameters to the query. These include time ranges for car accidents and spatial constraints, i.e. regions of interest on map."
      ]
    },
    {
      "cell_type": "code",
      "metadata": {
        "id": "_09GWGmdtx_4",
        "colab_type": "code",
        "colab": {}
      },
      "source": [
        "url = \"http://infopublic.pravstat.kz:8399/arcgis/rest/services/rta/MapServer/0/query\""
      ],
      "execution_count": 0,
      "outputs": []
    },
    {
      "cell_type": "markdown",
      "metadata": {
        "id": "cNzt4TI0eayF",
        "colab_type": "text"
      },
      "source": [
        "Let's download the data for the whole Kazakhstan from 2010 to current date. To specify that, we have set *geometry* attributes to specific values (we had to refer to the map to get them) and *RTA_DATE* to the above mentioned range of dates."
      ]
    },
    {
      "cell_type": "code",
      "metadata": {
        "id": "iSedUokJ9EA-",
        "colab_type": "code",
        "colab": {}
      },
      "source": [
        "# request data on car accidents from the beginning of current year within the regions of Nur-Sultan\n",
        "params = {\n",
        "    \"f\": \"json\",\n",
        "    \"where\": \"RTA_DATE>= TIMESTAMP '2010-01-01 00:00:00' AND RTA_DATE<= TIMESTAMP '2019-11-20 23:59:59'\",\n",
        "    \"returnGeometry\": \"true\",\n",
        "    \"spatialRel\": \"esriSpatialRelIntersects\",\n",
        "    \"geometry\": \"{'xmin':3368705.1410122006,'ymin':4094299.6672902238,'xmax':12433525.199405413,'ymax':8203554.307900207,'spatialReference':{'wkid':102100,'latestWkid':3857}}\",\n",
        "    \"geometryType\": \"esriGeometryEnvelope\",\n",
        "    \"inSR\": 102100,\n",
        "    \"outFields\": \"RTA_TYPE,RTA_DATE,FD1R01P1,FD1R07P2,FD1R071P1,FD1R09P1,FD1R14P1,FD1R141P1,FD1R13P1,FD1R13P2,IS_PUBLIC_TRANSPORT\",\n",
        "    \"outSR\": 102100\n",
        "}"
      ],
      "execution_count": 0,
      "outputs": []
    },
    {
      "cell_type": "markdown",
      "metadata": {
        "id": "DUvKKbZGvtEh",
        "colab_type": "text"
      },
      "source": [
        "In order to perform the request, uncomment the following two lines of code. This will save the information in a JSON array. Executing this takes about a minute or two (response size is about 50 MB)."
      ]
    },
    {
      "cell_type": "code",
      "metadata": {
        "id": "SrWv2b4Rtzyn",
        "colab_type": "code",
        "colab": {}
      },
      "source": [
        "# perform GET request with given URL and parameters\n",
        "# response = requests.get(url, params=params)\n",
        "\n",
        "# store JSON data from the response\n",
        "# json_data = response.json()"
      ],
      "execution_count": 0,
      "outputs": []
    },
    {
      "cell_type": "markdown",
      "metadata": {
        "id": "27hPRoi6-_Rs",
        "colab_type": "text"
      },
      "source": [
        "However, we attach a dump of JSON array with 50,000 data points to this Jupyter notebook. \n",
        "The following piece of code uploads a dump file into Colab and opens a dump of JSON array and saves it into memory.\n",
        "\n",
        "If you work inside Google Colab, you will need to first upload a dump file to the server. Alternatively, you could make the GET request to the service as it was described above."
      ]
    },
    {
      "cell_type": "code",
      "metadata": {
        "id": "AimnqiuW-z1p",
        "colab_type": "code",
        "colab": {}
      },
      "source": [
        "# this is required if you are working in Google Colab\n",
        "# from google.colab import files\n",
        "# files.upload()"
      ],
      "execution_count": 0,
      "outputs": []
    },
    {
      "cell_type": "code",
      "metadata": {
        "id": "cvQ8iEOM2ZvX",
        "colab_type": "code",
        "colab": {}
      },
      "source": [
        "# open JSON data from a file (place it in the same folder)\n",
        "with open(\"accidents_data.json\") as infile:\n",
        "  json_data = json.load(infile)"
      ],
      "execution_count": 0,
      "outputs": []
    },
    {
      "cell_type": "markdown",
      "metadata": {
        "id": "wZDNXDTien01",
        "colab_type": "text"
      },
      "source": [
        "Let's observe the structure of the response object"
      ]
    },
    {
      "cell_type": "code",
      "metadata": {
        "id": "EVxDHa4n-HWI",
        "colab_type": "code",
        "outputId": "c60827e5-ed77-47d0-ce87-624131489ea0",
        "colab": {
          "base_uri": "https://localhost:8080/",
          "height": 34
        }
      },
      "source": [
        "# get the type of json_data object\n",
        "print(f\"Type of response object: {type(json_data)}\")"
      ],
      "execution_count": 6,
      "outputs": [
        {
          "output_type": "stream",
          "text": [
            "Type of response object: <class 'dict'>\n"
          ],
          "name": "stdout"
        }
      ]
    },
    {
      "cell_type": "markdown",
      "metadata": {
        "id": "pzBoqS0Ke092",
        "colab_type": "text"
      },
      "source": [
        "The object is of dictionary type, so we have to inspect its keys."
      ]
    },
    {
      "cell_type": "code",
      "metadata": {
        "id": "KMQrcrBvew1C",
        "colab_type": "code",
        "outputId": "03ca159a-92e6-4c88-98fb-24b690aa9cc6",
        "colab": {
          "base_uri": "https://localhost:8080/",
          "height": 34
        }
      },
      "source": [
        "# inspecting the keys of json_data dictionary\n",
        "print(f\"Keys of object: {json_data.keys()}\")"
      ],
      "execution_count": 7,
      "outputs": [
        {
          "output_type": "stream",
          "text": [
            "Keys of object: dict_keys(['displayFieldName', 'fieldAliases', 'geometryType', 'spatialReference', 'fields', 'features', 'exceededTransferLimit'])\n"
          ],
          "name": "stdout"
        }
      ]
    },
    {
      "cell_type": "code",
      "metadata": {
        "id": "CRChrf7ce5cz",
        "colab_type": "code",
        "outputId": "d6011796-bfb8-4381-9579-f95b2e92fee1",
        "colab": {
          "base_uri": "https://localhost:8080/",
          "height": 122
        }
      },
      "source": [
        "# show keys\n",
        "print(f\"displayFieldName: {json_data['displayFieldName']}\")\n",
        "print(f\"fieldAliases: {json_data['fieldAliases']}\")\n",
        "print(f\"geometryType: {json_data['geometryType']}\")\n",
        "print(f\"spatialReference: {json_data['spatialReference']}\")\n",
        "print(f\"fields: {json_data['fields']}\")"
      ],
      "execution_count": 8,
      "outputs": [
        {
          "output_type": "stream",
          "text": [
            "displayFieldName: RTA_TYPE\n",
            "fieldAliases: {'RTA_TYPE': 'Тип', 'RTA_DATE': 'Дата', 'FD1R01P1': 'FD1R01P1', 'FD1R07P2': 'FD1R07P2', 'FD1R071P1': 'FD1R071P1', 'FD1R09P1': 'FD1R09P1', 'FD1R14P1': 'FD1R14P1', 'FD1R141P1': 'FD1R141P1', 'FD1R13P1': 'FD1R13P1', 'FD1R13P2': 'FD1R13P2', 'IS_PUBLIC_TRANSPORT': 'IS_PUBLIC_TRANSPORT'}\n",
            "geometryType: esriGeometryPoint\n",
            "spatialReference: {'wkid': 102100, 'latestWkid': 3857}\n",
            "fields: [{'name': 'RTA_TYPE', 'type': 'esriFieldTypeSmallInteger', 'alias': 'Тип'}, {'name': 'RTA_DATE', 'type': 'esriFieldTypeDate', 'alias': 'Дата', 'length': 36}, {'name': 'FD1R01P1', 'type': 'esriFieldTypeString', 'alias': 'FD1R01P1', 'length': 1073741822}, {'name': 'FD1R07P2', 'type': 'esriFieldTypeString', 'alias': 'FD1R07P2', 'length': 200}, {'name': 'FD1R071P1', 'type': 'esriFieldTypeString', 'alias': 'FD1R071P1', 'length': 1073741822}, {'name': 'FD1R09P1', 'type': 'esriFieldTypeString', 'alias': 'FD1R09P1', 'length': 1073741822}, {'name': 'FD1R14P1', 'type': 'esriFieldTypeString', 'alias': 'FD1R14P1', 'length': 1073741822}, {'name': 'FD1R141P1', 'type': 'esriFieldTypeString', 'alias': 'FD1R141P1', 'length': 200}, {'name': 'FD1R13P1', 'type': 'esriFieldTypeInteger', 'alias': 'FD1R13P1'}, {'name': 'FD1R13P2', 'type': 'esriFieldTypeInteger', 'alias': 'FD1R13P2'}, {'name': 'IS_PUBLIC_TRANSPORT', 'type': 'esriFieldTypeSmallInteger', 'alias': 'IS_PUBLIC_TRANSPORT'}]\n"
          ],
          "name": "stdout"
        }
      ]
    },
    {
      "cell_type": "markdown",
      "metadata": {
        "id": "cqv_oN_KfDAz",
        "colab_type": "text"
      },
      "source": [
        "We observe that the main features for each accident are stored in *feature* array. We can therefore count the number of accidents we have obtained with the GET request using the parameters we set."
      ]
    },
    {
      "cell_type": "code",
      "metadata": {
        "id": "W_WeEaZyfWk9",
        "colab_type": "code",
        "outputId": "c0fe93fb-ca3d-4b97-c579-e8a07bbba500",
        "colab": {
          "base_uri": "https://localhost:8080/",
          "height": 34
        }
      },
      "source": [
        "print(f\"Number of data points: {len(json_data['features'])}\")"
      ],
      "execution_count": 9,
      "outputs": [
        {
          "output_type": "stream",
          "text": [
            "Number of data points: 50000\n"
          ],
          "name": "stdout"
        }
      ]
    },
    {
      "cell_type": "markdown",
      "metadata": {
        "id": "84risZ2Cfa-Q",
        "colab_type": "text"
      },
      "source": [
        "Let's quickly look at the first 5 accident cases."
      ]
    },
    {
      "cell_type": "code",
      "metadata": {
        "id": "aTrOvujpRyHG",
        "colab_type": "code",
        "outputId": "300e92ef-6dc5-481b-84c9-4c01f1a41e2c",
        "colab": {
          "base_uri": "https://localhost:8080/",
          "height": 1000
        }
      },
      "source": [
        "json_data['features'][:5]"
      ],
      "execution_count": 10,
      "outputs": [
        {
          "output_type": "execute_result",
          "data": {
            "text/plain": [
              "[{'attributes': {'FD1R01P1': ' сухая',\n",
              "   'FD1R071P1': ' отсутствуют',\n",
              "   'FD1R07P2': 'день',\n",
              "   'FD1R09P1': ' нарушение правил обгона',\n",
              "   'FD1R13P1': 8,\n",
              "   'FD1R13P2': None,\n",
              "   'FD1R141P1': 'трезвый',\n",
              "   'FD1R14P1': ' имеющий водительские права, соответсвующей категории ТС',\n",
              "   'IS_PUBLIC_TRANSPORT': 1,\n",
              "   'RTA_DATE': 1467390600000,\n",
              "   'RTA_TYPE': 0},\n",
              "  'geometry': {'x': 5170774.452717089, 'y': 5377354.196970122}},\n",
              " {'attributes': {'FD1R01P1': ' мокрая',\n",
              "   'FD1R071P1': ' неровное покрытие',\n",
              "   'FD1R07P2': 'день',\n",
              "   'FD1R09P1': 'превышение скорости, установленной ПДД или дорожными знаками',\n",
              "   'FD1R13P1': 1,\n",
              "   'FD1R13P2': None,\n",
              "   'FD1R141P1': 'трезвый',\n",
              "   'FD1R14P1': ' имеющий водительские права, соответсвующей категории ТС',\n",
              "   'IS_PUBLIC_TRANSPORT': 0,\n",
              "   'RTA_DATE': 1366896600000,\n",
              "   'RTA_TYPE': 0},\n",
              "  'geometry': {'x': 5273287.486732712, 'y': 6147043.206136597}},\n",
              " {'attributes': {'FD1R01P1': ' обледеневшая',\n",
              "   'FD1R071P1': ' отсутствуют',\n",
              "   'FD1R07P2': 'день',\n",
              "   'FD1R09P1': ' иные нарушения ПДД пешеходами',\n",
              "   'FD1R13P1': 1,\n",
              "   'FD1R13P2': None,\n",
              "   'FD1R141P1': 'трезвый',\n",
              "   'FD1R14P1': ' пешеход',\n",
              "   'IS_PUBLIC_TRANSPORT': 0,\n",
              "   'RTA_DATE': 1488844800000,\n",
              "   'RTA_TYPE': 1},\n",
              "  'geometry': {'x': 5215149.481428533, 'y': 6344655.33859449}},\n",
              " {'attributes': {'FD1R01P1': ' заснеженная',\n",
              "   'FD1R071P1': ' отсутствуют',\n",
              "   'FD1R07P2': 'сумерки',\n",
              "   'FD1R09P1': 'превышение скорости, установленной ПДД или дорожными знаками',\n",
              "   'FD1R13P1': None,\n",
              "   'FD1R13P2': 2,\n",
              "   'FD1R141P1': 'трезвый',\n",
              "   'FD1R14P1': ' имеющий водительские права, соответсвующей категории ТС',\n",
              "   'IS_PUBLIC_TRANSPORT': 0,\n",
              "   'RTA_DATE': 1356981000000,\n",
              "   'RTA_TYPE': 1},\n",
              "  'geometry': {'x': 5217261.955572921, 'y': 6346440.103585427}},\n",
              " {'attributes': {'FD1R01P1': ' сухая',\n",
              "   'FD1R071P1': ' отсутствуют',\n",
              "   'FD1R07P2': 'ночь',\n",
              "   'FD1R09P1': 'маневрирования',\n",
              "   'FD1R13P1': 1,\n",
              "   'FD1R13P2': None,\n",
              "   'FD1R141P1': 'трезвый',\n",
              "   'FD1R14P1': ' имеющий водительские права, соответсвующей категории ТС',\n",
              "   'IS_PUBLIC_TRANSPORT': 0,\n",
              "   'RTA_DATE': 1434427200000,\n",
              "   'RTA_TYPE': 0},\n",
              "  'geometry': {'x': 5217358.764229001, 'y': 6346655.43562291}}]"
            ]
          },
          "metadata": {
            "tags": []
          },
          "execution_count": 10
        }
      ]
    },
    {
      "cell_type": "markdown",
      "metadata": {
        "id": "WZiTE8FRgJtf",
        "colab_type": "text"
      },
      "source": [
        "## Feature engineering"
      ]
    },
    {
      "cell_type": "markdown",
      "metadata": {
        "id": "5mcpoG7KgVqu",
        "colab_type": "text"
      },
      "source": [
        "After we obtained a sample of 50,000 data points containing information about road accidents, we have to carefully preprocess the data. There are several limitations of current format of the data. Firstly, we have to make sense of the feature names and values. Secondly, we need to transform the features into valid format, e.g. removing None values and converting some features into useful information. Then, we will transform categorical variables. Lastly, we will create a dataframe to store the data in a tabular format."
      ]
    },
    {
      "cell_type": "markdown",
      "metadata": {
        "id": "DrKNGrjxjbIT",
        "colab_type": "text"
      },
      "source": [
        "### Making sense of features"
      ]
    },
    {
      "cell_type": "markdown",
      "metadata": {
        "id": "9riW-DmijlSO",
        "colab_type": "text"
      },
      "source": [
        "We need to map the given feature names to something more human-readable. We have looked through the source code of the website (written in JavaScript) and have found several files which includes useful comments. Using this information we have created a mapping of attributes. Additionally, reading these source files helped us to understand what are different values of the features present in the data."
      ]
    },
    {
      "cell_type": "markdown",
      "metadata": {
        "id": "KjFEM-ZI04CV",
        "colab_type": "text"
      },
      "source": [
        "As we have mentioned, we have created a mapping of attribute names using a Python dictionary. We will then need to go through each data point and transform feature name into a corresponding one using this mapping."
      ]
    },
    {
      "cell_type": "code",
      "metadata": {
        "id": "5I8ri0r9MMwy",
        "colab_type": "code",
        "colab": {}
      },
      "source": [
        "# mapping properties of data to proper format\n",
        "attribute_mapping = {\n",
        "    'FD1R01P1': 'road_condition', # состояние дорожного покрытия\n",
        "    'FD1R071P1': 'road_defects', # наличие дефектов уличной сети\n",
        "    'FD1R07P2': 'light_conditions', # освещенность\n",
        "    'FD1R09P1': 'violation', # нарушение\n",
        "    'FD1R13P1': 'injured_num', # кол-во раненных\n",
        "    'FD1R13P2': 'dead_num', # кол-во погибших\n",
        "    'FD1R141P1': 'is_drunk', # состояние виновного (трезвый, в алкогольном опъянении)\n",
        "    'FD1R14P1': 'causer', # виновный (имеющий права, пешеход, скрывшийся с места преступления)\n",
        "    'IS_PUBLIC_TRANSPORT': 'is_public_transport',\n",
        "    'RTA_DATE': 'date', # дата ДТП\n",
        "    'RTA_TYPE': 'type' # тип ДТП (узнать различные типы)\n",
        "}"
      ],
      "execution_count": 0,
      "outputs": []
    },
    {
      "cell_type": "markdown",
      "metadata": {
        "id": "E2u_lMPrJh3x",
        "colab_type": "text"
      },
      "source": [
        "Side note: for the type feature, we know that 0 is a car collision accident, 1 is a collision with pedestrian and 2 is some other type."
      ]
    },
    {
      "cell_type": "markdown",
      "metadata": {
        "id": "9fduawGd0zN9",
        "colab_type": "text"
      },
      "source": [
        "### Transforming features"
      ]
    },
    {
      "cell_type": "markdown",
      "metadata": {
        "id": "ponGUJaW1M9T",
        "colab_type": "text"
      },
      "source": [
        "As a further step, we will have to preprocess not only the feature names but the values themselves too. For instance, some of the fields have value of *None*, which must be interpreted for a classifier to work properly on such data. Another fields, such as *date*, do not have a meaning on their own, but should be translated into another feature, e.g. whether its a weekday or a weekend."
      ]
    },
    {
      "cell_type": "markdown",
      "metadata": {
        "id": "fX3E5d-8KNY8",
        "colab_type": "text"
      },
      "source": [
        "First of all, let's import all the necessary libraries. It is more convenient to have them imported once in the beginning."
      ]
    },
    {
      "cell_type": "code",
      "metadata": {
        "id": "qwoaAUybZ6Ac",
        "colab_type": "code",
        "colab": {}
      },
      "source": [
        "# copy library for copying dictionaries\n",
        "import copy\n",
        "# processing date\n",
        "import datetime\n",
        "# preprocessing categorical data\n",
        "from sklearn.preprocessing import LabelEncoder"
      ],
      "execution_count": 0,
      "outputs": []
    },
    {
      "cell_type": "markdown",
      "metadata": {
        "id": "3KOyPDbVRiJc",
        "colab_type": "text"
      },
      "source": [
        "In order to generalize the process of transforming the data, let us create a Transformer class. The objects of this class will be applied to any array of JSON data containing information about accidents in the format same as in the server response. Transformer will contain different *transformation* methods which will be sequentially applied to every object in an array. Adding a *transformation* to a Transformer object will be done using special *add_transform()* method that accepts a function as an argument and then adds it to an array of *transforms*. To apply the transformations on a data array we will just need to call *apply()* method of Transformer object."
      ]
    },
    {
      "cell_type": "code",
      "metadata": {
        "id": "Tj6ZxdMa1c52",
        "colab_type": "code",
        "colab": {}
      },
      "source": [
        "class Transformer:\n",
        "  def __init__(self, verbose=False):\n",
        "    self.transforms = []\n",
        "    self.verbose = verbose\n",
        "    \n",
        "  def add_transform(self, name, function):\n",
        "    self.transforms.append((name, function))\n",
        "    \n",
        "  def apply(self, data):\n",
        "    # create an empty array for storing transformed data\n",
        "    transformed_data = []\n",
        "    # iterate over each data point\n",
        "    for i, data_point in enumerate(data):\n",
        "      if self.verbose:\n",
        "        print(f\"Data point: {i}\")\n",
        "      \n",
        "      # copy of the object\n",
        "      transformed_data_point = copy.deepcopy(data_point)\n",
        "      # iterate over each transform\n",
        "      for transform in self.transforms:\n",
        "        transform[1](transformed_data_point)\n",
        "      # add transformed data point to array\n",
        "      transformed_data.append(transformed_data_point)\n",
        "      \n",
        "    return transformed_data"
      ],
      "execution_count": 0,
      "outputs": []
    },
    {
      "cell_type": "markdown",
      "metadata": {
        "id": "F98bvqRtRtDe",
        "colab_type": "text"
      },
      "source": [
        "After finishing the Transformed class, we will now implement and test different transformation functions. These include:\n",
        "\n",
        "1.   converting features names\n",
        "2.   creating auxiliary date features from original one\n",
        "3.   trimming strings from whitespaces in both ends\n",
        "4.   converting None values\n",
        "5.   transforming rare values\n",
        "6.   removing specific fields"
      ]
    },
    {
      "cell_type": "code",
      "metadata": {
        "id": "8KlLoBhR5Z1P",
        "colab_type": "code",
        "colab": {}
      },
      "source": [
        "def transform_attribute_names(data_point):\n",
        "  # iterate through list of attributes\n",
        "  for attribute in attribute_mapping.keys():\n",
        "    # create a new attribute\n",
        "    data_point[attribute_mapping[attribute]] = data_point['attributes'][attribute]\n",
        "    # delete old attribute\n",
        "    del data_point['attributes'][attribute]\n",
        "  # remove attributes field\n",
        "  del data_point['attributes']\n",
        "  # add geometry attributes\n",
        "  data_point['x'] = data_point['geometry']['x']\n",
        "  data_point['y'] = data_point['geometry']['y']\n",
        "  # delete geomtry field\n",
        "  del data_point['geometry']"
      ],
      "execution_count": 0,
      "outputs": []
    },
    {
      "cell_type": "code",
      "metadata": {
        "id": "9kfrLgYN6ygo",
        "colab_type": "code",
        "colab": {}
      },
      "source": [
        "def transform_date(data_point):\n",
        "  # get weekday from epoch timestamp\n",
        "  weekday = datetime.datetime.fromtimestamp(data_point['date']/1000).weekday()\n",
        "  # create is_weekday attribute\n",
        "  data_point['is_weekday'] = 0 if weekday == 5 or weekday == 6 else 1\n",
        "  # get month from epoch timestamp\n",
        "  month = datetime.datetime.fromtimestamp(data_point['date']/1000).month\n",
        "  # create is_winter attribute\n",
        "  data_point['is_winter'] = 1 if month == 11 or month == 12 or month == 1 or month == 2 else 0\n",
        "  # delete date field\n",
        "  del data_point['date']"
      ],
      "execution_count": 0,
      "outputs": []
    },
    {
      "cell_type": "code",
      "metadata": {
        "id": "vZlbJq_ErXUh",
        "colab_type": "code",
        "colab": {}
      },
      "source": [
        "def transform_none_values(data_point):\n",
        "  # transform injured_num None to 0\n",
        "  if data_point['injured_num'] is None:\n",
        "    data_point['injured_num'] = 0\n",
        "  # transform dead_num None to 0\n",
        "  if data_point['dead_num'] is None:\n",
        "    data_point['dead_num'] = 0\n",
        "  # transform road_condition None to \"неизвестно\"\n",
        "  if data_point['road_condition'] is None:\n",
        "    data_point['road_condition'] = 'неизвестно'\n",
        "  # transform road_defects None to \"неизвестно\"\n",
        "  if data_point['road_defects'] is None:\n",
        "    data_point['road_defects'] = 'неизвестно'\n",
        "  # transform light_conditions None to \"неизвестно\"\n",
        "  if data_point['light_conditions'] is None:\n",
        "    data_point['light_conditions'] = 'неизвестно'\n",
        "  # transform is_drunk None to \"неизвестно\"\n",
        "  if data_point['is_drunk'] is None:\n",
        "    data_point['is_drunk'] = 'неизвестно'\n",
        "  # transform violation None to \"неизвестно\"\n",
        "  if data_point['violation'] is None:\n",
        "    data_point['violation'] = 'неизвестно'\n",
        "  # transform causer None to \"неизвестно\"\n",
        "  if data_point['causer'] is None:\n",
        "    data_point['causer'] = 'неизвестно'"
      ],
      "execution_count": 0,
      "outputs": []
    },
    {
      "cell_type": "code",
      "metadata": {
        "id": "PC4gGzjdrnUW",
        "colab_type": "code",
        "colab": {}
      },
      "source": [
        "def transform_with_trimming(data_point):\n",
        "  # trim road_condition field\n",
        "  data_point['road_condition'] = data_point['road_condition'].strip()\n",
        "  # trim road_defects field\n",
        "  data_point['road_defects'] = data_point['road_defects'].strip()\n",
        "  # trim violation field\n",
        "  data_point['violation'] = data_point['violation'].strip()\n",
        "  # trim causer field\n",
        "  data_point['causer'] = data_point['causer'].strip()"
      ],
      "execution_count": 0,
      "outputs": []
    },
    {
      "cell_type": "code",
      "metadata": {
        "id": "2-aqe2XMCa8o",
        "colab_type": "code",
        "colab": {}
      },
      "source": [
        "def transform_rare_values(data_point):\n",
        "  # transform road_condition values\n",
        "  road_condition_values = ['сухая', 'мокрая', 'обледеневшая', 'заснеженная']\n",
        "  if data_point['road_condition'] not in road_condition_values:\n",
        "    data_point['road_condition'] = 'неизвестно'"
      ],
      "execution_count": 0,
      "outputs": []
    },
    {
      "cell_type": "code",
      "metadata": {
        "id": "TlJS7sd3kXxm",
        "colab_type": "code",
        "colab": {}
      },
      "source": [
        "def transform_by_removing(data_point):\n",
        "  # remove road condition field\n",
        "  # del data_point['road_condition']\n",
        "  # remove x\n",
        "  del data_point['x']\n",
        "  # remove y\n",
        "  del data_point['y']"
      ],
      "execution_count": 0,
      "outputs": []
    },
    {
      "cell_type": "code",
      "metadata": {
        "id": "z2o-SVJShejA",
        "colab_type": "code",
        "colab": {}
      },
      "source": [
        "# create new Transformed object\n",
        "transformer = Transformer()"
      ],
      "execution_count": 0,
      "outputs": []
    },
    {
      "cell_type": "code",
      "metadata": {
        "id": "P38TyKDdhkt7",
        "colab_type": "code",
        "colab": {}
      },
      "source": [
        "# add transforms\n",
        "transformer.add_transform(\"transform_attribute_names\", transform_attribute_names)\n",
        "transformer.add_transform(\"transform_date\", transform_date)\n",
        "transformer.add_transform(\"transform_none_values\", transform_none_values)\n",
        "transformer.add_transform(\"transform_with_trimming\", transform_with_trimming)\n",
        "transformer.add_transform(\"transform_rare_values\", transform_rare_values)\n",
        "transformer.add_transform(\"transform_by_removing\", transform_by_removing)"
      ],
      "execution_count": 0,
      "outputs": []
    },
    {
      "cell_type": "code",
      "metadata": {
        "id": "5s9TwcIJh3NZ",
        "colab_type": "code",
        "colab": {}
      },
      "source": [
        "# apply transform to our data\n",
        "transformed_data = transformer.apply(json_data['features'])"
      ],
      "execution_count": 0,
      "outputs": []
    },
    {
      "cell_type": "markdown",
      "metadata": {
        "id": "NYiiTcySJXh0",
        "colab_type": "text"
      },
      "source": [
        "We also need to remove the data points which have \"type\" variable as 2, which is some other type of car accident."
      ]
    },
    {
      "cell_type": "code",
      "metadata": {
        "id": "itpILHFxJrHg",
        "colab_type": "code",
        "colab": {
          "base_uri": "https://localhost:8080/",
          "height": 34
        },
        "outputId": "96c69f98-02a2-4606-c5bb-e08410cbf747"
      },
      "source": [
        "# apply lambda and filter function\n",
        "transformed_data = list(filter(lambda x: x['type'] != 2, transformed_data))\n",
        "print(f\"New number of data points: {len(transformed_data)}\")"
      ],
      "execution_count": 23,
      "outputs": [
        {
          "output_type": "stream",
          "text": [
            "New number of data points: 46409\n"
          ],
          "name": "stdout"
        }
      ]
    },
    {
      "cell_type": "markdown",
      "metadata": {
        "id": "gTihQg63Kc-c",
        "colab_type": "text"
      },
      "source": [
        "After doing that, we are left with 46,409 data points, but they are all of one of two types. The data can be now used in a binary classification problem."
      ]
    },
    {
      "cell_type": "markdown",
      "metadata": {
        "id": "P2C59rEq_4Zv",
        "colab_type": "text"
      },
      "source": [
        "Let us inspect the different values of our features. It will help us analyze properties of the data and some distribution of the features. This is actually a repetitive procedure because we look at the unique values of features and then go back to adding more transformations to our data."
      ]
    },
    {
      "cell_type": "code",
      "metadata": {
        "id": "7z0VhOL1VNTt",
        "colab_type": "code",
        "colab": {}
      },
      "source": [
        "def get_unique_values_for_attribute(attribute, data):\n",
        "  # create map for storing unique values\n",
        "  unique = {}\n",
        "  # iterate through all data looking at specific attribute\n",
        "  for accident in data:\n",
        "    # add value to unique values array if it is not there already\n",
        "    if accident[attribute] not in unique.keys():\n",
        "      unique[accident[attribute]] = 1\n",
        "    else:\n",
        "      unique[accident[attribute]] += 1\n",
        "      \n",
        "  return unique"
      ],
      "execution_count": 0,
      "outputs": []
    },
    {
      "cell_type": "code",
      "metadata": {
        "id": "3_648RJSV8RU",
        "colab_type": "code",
        "outputId": "1c0efbac-0e7f-4f04-990f-204a5586fd2c",
        "colab": {
          "base_uri": "https://localhost:8080/",
          "height": 445
        }
      },
      "source": [
        "for attribute in transformed_data[0].keys():\n",
        "  print(f\"Attribute: {attribute}\")\n",
        "  print(f\"Unique values: {get_unique_values_for_attribute(attribute, transformed_data)}\")"
      ],
      "execution_count": 25,
      "outputs": [
        {
          "output_type": "stream",
          "text": [
            "Attribute: road_condition\n",
            "Unique values: {'сухая': 24896, 'мокрая': 4010, 'обледеневшая': 1144, 'заснеженная': 1676, 'неизвестно': 14683}\n",
            "Attribute: road_defects\n",
            "Unique values: {'отсутствуют': 33169, 'неровное покрытие': 142, 'скользкое покрытие; выбоины': 3, 'скользкое покрытие': 1315, 'иные условия': 9525, 'пешеходных дорожек': 76, 'неизвестно': 1531, 'неровное покрытие; иные условия': 7, 'коллейность; выбоины': 4, 'отсутствие дорожной разметки или плохая ее видимость': 141, 'коллейность; выбоины; иные условия': 4, 'выбоины': 70, 'недостаточное освещение проезжей части': 126, 'коллейность': 38, 'неровное покрытие; коллейность; выбоины; неудовлетворительное состояние обочины': 2, 'скользкое покрытие; неровное покрытие': 8, 'отсутствие дорожной разметки или плохая ее видимость; иные условия': 7, 'пешеходных дорожек; иные условия': 5, 'неровное покрытие; отсутствие тротуаров': 1, 'скользкое покрытие; иные условия': 17, 'неровное покрытие; выбоины': 6, 'отсутствие тротуаров; пешеходных дорожек; недостаточное освещение проезжей части': 1, 'отсутствие тротуаров; отсутсвуют ограждения и сигнализации в местах производства работ': 2, 'отсутствие тротуаров': 39, 'отсутствие дорожных знаков, либо неправильное их применение': 14, 'неудовлетворительное состояние обочины': 31, 'скользкое покрытие; коллейность': 6, 'неровное покрытие; коллейность; выбоины': 1, 'отсутствие дорожных знаков, либо неправильное их применение; иные условия': 1, 'неровное покрытие; выбоины; недостаточное освещение проезжей части; отсутствие дорожных знаков, либо неправильное их применение': 1, 'опоры светильников (в случаях наезда, ограничения видимости)': 11, 'неровное покрытие; выбоины; отсутствие тротуаров': 1, 'неровное покрытие; коллейность; выбоины; неудовлетворительное состояние обочины; опоры светильников (в случаях наезда, ограничения видимости); отсутствие тротуаров': 1, 'неровное покрытие; недостаточное освещение проезжей части': 2, 'скользкое покрытие; отсутствие тротуаров; недостаточное освещение проезжей части; иные условия': 1, 'деревья': 5, 'неровное покрытие; неудовлетворительное состояние обочины': 2, 'неровное покрытие; выбоины; неудовлетворительное состояние обочины': 2, 'пешеходных дорожек; отсутствие дорожных знаков, либо неправильное их применение': 1, 'скользкое покрытие; недостаточное освещение проезжей части': 6, 'отсутсвие ограждений на опасных участках': 5, 'скользкое покрытие; неровное покрытие; коллейность; выбоины; отсутствие тротуаров; пешеходных дорожек': 1, 'скользкое покрытие; неровное покрытие; выбоины': 1, 'скользкое покрытие; неисправность тсодд или плохая их видимость': 3, 'пешеходных дорожек; недостаточное освещение проезжей части; иные условия': 1, 'недостаточное освещение проезжей части; иные условия': 2, 'скользкое покрытие; неровное покрытие; выбоины; отсутствие дорожных знаков, либо неправильное их применение': 1, 'скользкое покрытие; отсутствие тротуаров; недостаточное освещение проезжей части': 1, 'несоответсвие габарита путепровода ширине дороги; иные условия': 1, 'неисправность тсодд или плохая их видимость': 9, 'скользкое покрытие; отсутствие дорожных знаков, либо неправильное их применение': 2, 'отсутствие тротуаров; иные условия': 4, 'скользкое покрытие; неровное покрытие; коллейность; иные условия': 1, 'выбоины; отсутствие дорожной разметки или плохая ее видимость': 2, 'неудовлетворительное состояние обочины; иные условия': 2, 'опоры светильников (в случаях наезда, ограничения видимости); отсутствие тротуаров; пешеходных дорожек; недостаточное освещение проезжей части': 1, 'неудовлетворительное состояние обочины; пешеходных дорожек; отсутсвие ограждений на опасных участках; отсутствие дорожных знаков, либо неправильное их применение': 1, 'неровное покрытие; отсутствие дорожной разметки или плохая ее видимость; иные условия': 1, 'несоответсвие железно-дорожного переезда предъявляемым требованиям': 1, 'скользкое покрытие; пешеходных дорожек': 2, 'отсутствие тротуаров; недостаточное освещение проезжей части': 4, 'отсутствие тротуаров; пешеходных дорожек': 3, 'опоры светильников (в случаях наезда, ограничения видимости); иные условия': 2, 'скользкое покрытие; неудовлетворительное состояние обочины; опоры светильников (в случаях наезда, ограничения видимости); отсутствие тротуаров; недостаточное освещение проезжей части': 1, 'неровное покрытие; коллейность': 3, 'отсутсвуют ограждения и сигнализации в местах производства работ; иные условия': 1, 'скользкое покрытие; неровное покрытие; коллейность': 2, 'пешеходных дорожек; отсутсвуют ограждения и сигнализации в местах производства работ': 1, 'скользкое покрытие; опоры светильников (в случаях наезда, ограничения видимости)': 1, 'отсутствие тротуаров; отсутствие дорожной разметки или плохая ее видимость': 1, 'неисправность тсодд или плохая их видимость; отсутствие дорожной разметки или плохая ее видимость': 1, 'неровное покрытие; отсутсвие ограждений на опасных участках': 1, 'отсутсвие ограждений на опасных участках; отсутствие дорожной разметки или плохая ее видимость': 1, 'скользкое покрытие; отсутствие дорожной разметки или плохая ее видимость': 1, 'отсутсвие ограждений на опасных участках; отсутствие дорожных знаков, либо неправильное их применение': 1, 'опоры светильников (в случаях наезда, ограничения видимости); пешеходных дорожек; недостаточное освещение проезжей части; иные условия': 1, 'неровное покрытие; коллейность; выбоины; иные условия': 1, 'пешеходных дорожек; отсутствие дорожных знаков, либо неправильное их применение; отсутствие дорожной разметки или плохая ее видимость': 1, 'отсутсвуют ограждения и сигнализации в местах производства работ': 2, 'скользкое покрытие; неровное покрытие; иные условия': 1, 'коллейность; выбоины; неудовлетворительное состояние обочины': 1, 'скользкое покрытие; отсутствие тротуаров; иные условия': 1, 'неровное покрытие; коллейность; отсутствие дорожных знаков, либо неправильное их применение': 1, 'коллейность; опоры светильников (в случаях наезда, ограничения видимости)': 1, 'коллейность; несоответсвие габарита путепровода ширине дороги': 1, 'неудовлетворительное состояние обочины; отсутствие тротуаров; иные условия': 1, 'отсутсвие ограждений на опасных участках; иные условия': 1, 'отсутствие тротуаров; пешеходных дорожек; иные условия': 1, 'скользкое покрытие; пешеходных дорожек; недостаточное освещение проезжей части': 1, 'неровное покрытие; выбоины; недостаточное освещение проезжей части': 1, 'неровное покрытие; выбоины; иные условия': 1, 'скользкое покрытие; неровное покрытие; неудовлетворительное состояние обочины': 1}\n",
            "Attribute: light_conditions\n",
            "Unique values: {'день': 25497, 'сумерки': 9634, 'ночь': 5907, 'неизвестно': 5371}\n",
            "Attribute: violation\n",
            "Unique values: {'нарушение правил обгона': 1005, 'превышение скорости, установленной ПДД или дорожными знаками': 12625, 'иные нарушения ПДД пешеходами': 1102, 'маневрирования': 6469, 'иные нарушения водителями, велосипедистами, возчиками': 3620, 'проезда пешеходных переходов': 5328, 'неподчинение сигналам регулирования, несоблюдение требований дорожных знаков или разметки': 1989, 'несоблюдение дистанции': 2142, 'представление беспрепятственного проезда ТС, пользующихся преимущественным правом проезда': 292, 'несоблюдение очередности проезда нарушение правил проезда перекрестков': 3376, 'выезд на полосу встречного движения': 1812, 'неизвестно': 3362, 'проезда остановок общественного транспорта': 43, 'превышение скорости, установленной ПДД или дорожными знаками; иные нарушения водителями, велосипедистами, возчиками': 21, 'управление ТС с неисправностями, с которыми запрещена эксплуатация': 60, 'переутомление, сон за рулем': 235, 'переход пешехода через проезжую часть в неустановленном месте': 1579, 'превышение скорости, установленной ПДД или дорожными знаками; нарушение правил обгона': 56, 'превышение скорости, установленной ПДД или дорожными знаками; иные нарушения ПДД пешеходами': 20, 'управление ТС в состоянии опьянения': 405, 'неподчинение сигналам регулирования, несоблюдение требований дорожных знаков или разметки; проезда пешеходных переходов': 21, 'неподчинение сигналам регулирования, несоблюдение требований дорожных знаков или разметки; переутомление, сон за рулем': 1, 'проезда пешеходных переходов; несоблюдение очередности проезда нарушение правил проезда перекрестков': 15, 'управление ТС в состоянии опьянения; нарушение правил обгона': 8, 'превышение скорости, установленной ПДД или дорожными знаками; иные нарушения водителями, велосипедистами, возчиками; иные нарушения ПДД пешеходами': 1, 'превышение скорости, установленной ПДД или дорожными знаками; неподчинение сигналам регулирования, несоблюдение требований дорожных знаков или разметки': 36, 'управление ТС в состоянии опьянения; несоблюдение очередности проезда нарушение правил проезда перекрестков': 8, 'пешеход в возрасте до 7 лет без сопровождения взрослого': 50, 'пользование осветительными приборами': 10, 'управление ТС в состоянии опьянения; иные нарушения водителями, велосипедистами, возчиками': 17, 'управление ТС в состоянии опьянения; неподчинение сигналам регулирования, несоблюдение требований дорожных знаков или разметки; иные нарушения водителями, велосипедистами, возчиками': 1, 'неподчинение сигналам регулирования, несоблюдение требований дорожных знаков или разметки; иные нарушения водителями, велосипедистами, возчиками': 5, 'несоблюдение очередности проезда нарушение правил проезда перекрестков; иные нарушения водителями, велосипедистами, возчиками': 5, 'превышение скорости, установленной ПДД или дорожными знаками; несоблюдение дистанции': 44, 'маневрирования; несоблюдение очередности проезда нарушение правил проезда перекрестков': 23, 'проезда переездов': 14, 'нарушение правил обгона; иные нарушения водителями, велосипедистами, возчиками': 14, 'маневрирования; иные нарушения водителями, велосипедистами, возчиками': 11, 'перевозки людей': 41, 'превышение скорости, установленной ПДД или дорожными знаками; выезд на полосу встречного движения': 43, 'превышение скорости, установленной ПДД или дорожными знаками; неподчинение сигналам регулирования, несоблюдение требований дорожных знаков или разметки; переутомление, сон за рулем': 1, 'игра на проезжей части; пешеход в возрасте до 7 лет без сопровождения взрослого': 1, 'неподчинение сигналам регулирования, несоблюдение требований дорожных знаков или разметки; нарушение правил обгона': 2, 'остановки и стоянки ТС': 25, 'переход пешехода через проезжую часть в неустановленном месте; пешеход в возрасте до 7 лет без сопровождения взрослого': 4, 'управление ТС в состоянии опьянения; превышение скорости, установленной ПДД или дорожными знаками': 38, 'управление ТС в состоянии опьянения; проезда пешеходных переходов': 5, 'управление ТС в состоянии опьянения; маневрирования': 3, 'маневрирования; проезда переездов': 1, 'неподчинение сигналам регулирования, несоблюдение требований дорожных знаков или разметки; выезд на полосу встречного движения': 4, 'неподчинение сигналам регулирования, несоблюдение требований дорожных знаков или разметки; несоблюдение дистанции': 5, 'неподчинение сигналам регулирования, несоблюдение требований дорожных знаков или разметки; остановки и стоянки ТС': 1, 'превышение скорости, установленной ПДД или дорожными знаками; маневрирования': 55, 'управление ТС в состоянии опьянения; неподчинение сигналам регулирования, несоблюдение требований дорожных знаков или разметки': 3, 'маневрирования; несоблюдение дистанции': 15, 'маневрирования; иные нарушения ПДД пешеходами': 3, 'представление беспрепятственного проезда ТС, пользующихся преимущественным правом проезда; несоблюдение очередности проезда нарушение правил проезда перекрестков': 6, 'остановки и стоянки ТС; несоблюдение дистанции': 1, 'буксировки': 13, 'маневрирования; нарушение правил обгона': 17, 'управление ТС в состоянии опьянения; превышение скорости, установленной ПДД или дорожными знаками; маневрирования': 1, 'выезд на полосу встречного движения; управление ТС с неисправностями, с которыми запрещена эксплуатация': 2, 'выезд на полосу встречного движения; нарушение правил обгона': 6, 'превышение скорости, установленной ПДД или дорожными знаками; переход пешехода через проезжую часть в неустановленном месте': 10, 'выезд на полосу встречного движения; несоблюдение очередности проезда нарушение правил проезда перекрестков': 3, 'превышение скорости, установленной ПДД или дорожными знаками; управление ТС с неисправностями, с которыми запрещена эксплуатация': 3, 'неподчинение сигналам регулирования, несоблюдение требований дорожных знаков или разметки; управление ТС с неисправностями, с которыми запрещена эксплуатация': 1, 'превышение скорости, установленной ПДД или дорожными знаками; несоблюдение очередности проезда нарушение правил проезда перекрестков': 19, 'неподчинение сигналам регулирования, несоблюдение требований дорожных знаков или разметки; несоблюдение очередности проезда нарушение правил проезда перекрестков': 27, 'превышение скорости, установленной ПДД или дорожными знаками; маневрирования; нарушение правил обгона': 1, 'пользование осветительными приборами; управление ТС с неисправностями, с которыми запрещена эксплуатация; иные нарушения водителями, велосипедистами, возчиками': 1, 'проезда пешеходных переходов; нарушение правил обгона': 1, 'переход пешехода через проезжую часть в неустановленном месте; игра на проезжей части': 1, 'несоблюдение дистанции; иные нарушения водителями, велосипедистами, возчиками': 10, 'проезда пешеходных переходов; иные нарушения водителями, велосипедистами, возчиками': 5, 'проезда переездов; несоблюдение очередности проезда нарушение правил проезда перекрестков': 1, 'нарушение правил обгона; несоблюдение очередности проезда нарушение правил проезда перекрестков': 2, 'маневрирования; остановки и стоянки ТС': 1, 'маневрирования; выезд на полосу встречного движения; нарушение правил обгона': 1, 'превышение скорости, установленной ПДД или дорожными знаками; проезда пешеходных переходов': 27, 'провозки грузов': 5, 'переход пешехода через проезжую часть в неустановленном месте; иные нарушения ПДД пешеходами': 9, 'управление ТС в состоянии опьянения; несоблюдение дистанции': 11, 'превышение скорости, установленной ПДД или дорожными знаками; переутомление, сон за рулем': 7, 'проезда пешеходных переходов; представление беспрепятственного проезда ТС, пользующихся преимущественным правом проезда': 2, 'управление ТС в состоянии опьянения; превышение скорости, установленной ПДД или дорожными знаками; несоблюдение дистанции': 2, 'маневрирования; переутомление, сон за рулем': 2, 'превышение скорости, установленной ПДД или дорожными знаками; неподчинение сигналам регулирования, несоблюдение требований дорожных знаков или разметки; маневрирования': 3, 'неподчинение сигналам регулирования, несоблюдение требований дорожных знаков или разметки; проезда пешеходных переходов; несоблюдение очередности проезда нарушение правил проезда перекрестков': 2, 'превышение скорости, установленной ПДД или дорожными знаками; пешеход в возрасте до 7 лет без сопровождения взрослого': 4, 'маневрирования; проезда пешеходных переходов': 10, 'маневрирования; проезда остановок общественного транспорта': 1, 'неподчинение сигналам регулирования, несоблюдение требований дорожных знаков или разметки; маневрирования': 11, 'проезда пешеходных переходов; несоблюдение дистанции': 6, 'превышение скорости, установленной ПДД или дорожными знаками; перевозки людей': 1, 'проезда пешеходных переходов; представление беспрепятственного проезда ТС, пользующихся преимущественным правом проезда; несоблюдение очередности проезда нарушение правил проезда перекрестков': 1, 'маневрирования; выезд на полосу встречного движения': 2, 'игра на проезжей части': 6, 'проезда пешеходных переходов; переутомление, сон за рулем': 1, 'неподчинение сигналам регулирования, несоблюдение требований дорожных знаков или разметки; проезда переездов': 1, 'выезд на полосу встречного движения; несоблюдение дистанции': 2, 'маневрирования; несоблюдение дистанции; переутомление, сон за рулем': 1, 'переутомление, сон за рулем; иные нарушения водителями, велосипедистами, возчиками': 2, 'превышение скорости, установленной ПДД или дорожными знаками; проезда пешеходных переходов; несоблюдение очередности проезда нарушение правил проезда перекрестков': 1, 'превышение скорости, установленной ПДД или дорожными знаками; остановки и стоянки ТС': 2, 'перевозки людей; проезда остановок общественного транспорта': 1, 'выезд на полосу встречного движения; иные нарушения водителями, велосипедистами, возчиками': 3, 'управление ТС в состоянии опьянения; маневрирования; иные нарушения водителями, велосипедистами, возчиками': 1, 'выезд на полосу встречного движения; переутомление, сон за рулем': 4, 'нарушение правил обгона; несоблюдение дистанции': 3, 'провозки грузов; иные нарушения водителями, велосипедистами, возчиками': 1, 'проезда остановок общественного транспорта; иные нарушения ПДД пешеходами': 1, 'неподчинение сигналам регулирования, несоблюдение требований дорожных знаков или разметки; представление беспрепятственного проезда ТС, пользующихся преимущественным правом проезда': 7, 'иные нарушения водителями, велосипедистами, возчиками; переход пешехода через проезжую часть в неустановленном месте': 2, 'превышение скорости, установленной ПДД или дорожными знаками; неподчинение сигналам регулирования, несоблюдение требований дорожных знаков или разметки; нарушение правил обгона; иные нарушения водителями, велосипедистами, возчиками': 1, 'маневрирования; несоблюдение очередности проезда нарушение правил проезда перекрестков; иные нарушения водителями, велосипедистами, возчиками': 1, 'управление ТС в состоянии опьянения; представление беспрепятственного проезда ТС, пользующихся преимущественным правом проезда': 2, 'пользование осветительными приборами; остановки и стоянки ТС; несоблюдение очередности проезда нарушение правил проезда перекрестков': 1, 'проезда пешеходных переходов; переход пешехода через проезжую часть в неустановленном месте': 4, 'иные нарушения водителями, велосипедистами, возчиками; иные нарушения ПДД пешеходами': 5, 'управление ТС с неисправностями, с которыми запрещена эксплуатация; иные нарушения водителями, велосипедистами, возчиками': 2, 'управление ТС в состоянии опьянения; выезд на полосу встречного движения': 1, 'неподчинение сигналам регулирования, несоблюдение требований дорожных знаков или разметки; иные нарушения ПДД пешеходами': 2, 'неподчинение сигналам регулирования, несоблюдение требований дорожных знаков или разметки; выезд на полосу встречного движения; нарушение правил обгона': 1, 'перевозки людей; несоблюдение дистанции': 1, 'превышение скорости, установленной ПДД или дорожными знаками; неподчинение сигналам регулирования, несоблюдение требований дорожных знаков или разметки; иные нарушения водителями, велосипедистами, возчиками': 1, 'управление ТС в состоянии опьянения; выезд на полосу встречного движения; несоблюдение дистанции': 1, 'нарушение правил обгона; переутомление, сон за рулем': 1, 'маневрирования; переход пешехода через проезжую часть в неустановленном месте': 2, 'маневрирования; пешеход в возрасте до 7 лет без сопровождения взрослого': 1, 'проезда пешеходных переходов; иные нарушения ПДД пешеходами': 3, 'маневрирования; несоблюдение дистанции; иные нарушения водителями, велосипедистами, возчиками': 1, 'превышение скорости, установленной ПДД или дорожными знаками; маневрирования; несоблюдение очередности проезда нарушение правил проезда перекрестков': 1, 'маневрирования; нарушение правил обгона; несоблюдение очередности проезда нарушение правил проезда перекрестков': 1, 'проезда пешеходных переходов; проезда остановок общественного транспорта': 1, 'неподчинение сигналам регулирования, несоблюдение требований дорожных знаков или разметки; остановки и стоянки ТС; иные нарушения водителями, велосипедистами, возчиками': 1, 'превышение скорости, установленной ПДД или дорожными знаками; выезд на полосу встречного движения; переутомление, сон за рулем': 1, 'управление ТС в состоянии опьянения; нарушение правил обгона; иные нарушения водителями, велосипедистами, возчиками': 1, 'неподчинение сигналам регулирования, несоблюдение требований дорожных знаков или разметки; перевозки людей': 3, 'буксировки; выезд на полосу встречного движения': 1, 'превышение скорости, установленной ПДД или дорожными знаками; проезда переездов': 1, 'управление ТС в состоянии опьянения; превышение скорости, установленной ПДД или дорожными знаками; иные нарушения водителями, велосипедистами, возчиками': 2, 'пользование осветительными приборами; несоблюдение дистанции': 1, 'представление беспрепятственного проезда ТС, пользующихся преимущественным правом проезда; иные нарушения ПДД пешеходами': 1, 'превышение скорости, установленной ПДД или дорожными знаками; выезд на полосу встречного движения; несоблюдение дистанции': 1, 'несоблюдение очередности проезда нарушение правил проезда перекрестков; иные нарушения ПДД пешеходами': 1, 'переход пешехода через проезжую часть в неустановленном месте; пешеход в возрасте до 7 лет без сопровождения взрослого; иные нарушения ПДД пешеходами': 1, 'превышение скорости, установленной ПДД или дорожными знаками; представление беспрепятственного проезда ТС, пользующихся преимущественным правом проезда': 2, 'маневрирования; проезда пешеходных переходов; выезд на полосу встречного движения': 1, 'превышение скорости, установленной ПДД или дорожными знаками; нарушение правил обгона; несоблюдение дистанции': 1, 'пользование осветительными приборами; иные нарушения водителями, велосипедистами, возчиками': 1, 'маневрирования; представление беспрепятственного проезда ТС, пользующихся преимущественным правом проезда': 1, 'проезда пешеходных переходов; игра на проезжей части': 1}\n",
            "Attribute: injured_num\n",
            "Unique values: {8: 46, 1: 32454, 0: 4795, 2: 5331, 3: 2122, 4: 915, 10: 24, 5: 375, 7: 96, 6: 195, 9: 24, 13: 1, 15: 2, 20: 1, 11: 7, 17: 1, 30: 1, 21: 1, 50: 1, 41: 1, 12: 6, 18: 2, 24: 1, 19: 1, 33: 1, 14: 1, 22: 2, 27: 1, 16: 1}\n",
            "Attribute: dead_num\n",
            "Unique values: {0: 41451, 2: 447, 1: 4274, 3: 136, 5: 27, 4: 50, 6: 10, 7: 4, 16: 1, 12: 1, 8: 3, 10: 3, 9: 2}\n",
            "Attribute: is_drunk\n",
            "Unique values: {'трезвый': 36972, 'алкогольное опьянение': 1821, 'неизвестно': 7550, 'время непрерывного нахождения в пути\\n': 23, 'токсикоманическое опьянение': 3, 'наркотическое опьянение': 20, 'резкое ухудшение здоровья\\n': 20}\n",
            "Attribute: causer\n",
            "Unique values: {'имеющий водительские права, соответсвующей категории ТС': 33620, 'пешеход': 2660, 'не имеющий водительских прав': 1020, 'неизвестно': 1531, 'скрывшийся с места ДТП': 6732, 'имеющий водительские права, соответсвующей категории ТС; лишенный водительских прав': 2, 'имеющий водительские права, соответсвующей категории ТС; иностранное лицо/лицо без гражданства': 63, 'лишенный водительских прав': 203, 'имеющий водительские права, соответсвующей категории ТС; пешеход': 85, 'имеющий водительские права, соответсвующей категории ТС; скрывшийся с места ДТП': 248, 'велосипедист или возчик': 100, 'скрывшийся с места ДТП; пешеход': 25, 'пешеход; несовершеннолетний': 34, 'дорожные службы': 2, 'имеющий водительские права, соответсвующей категории ТС; пешеход; несовершеннолетний': 1, 'имеющий водительские права, соответсвующей категории ТС; несовершеннолетний': 9, 'несовершеннолетний': 17, 'имеющий водительские права, соответсвующей категории ТС; скрывшийся с места ДТП; пешеход; несовершеннолетний': 1, 'не имеющий водительских прав; скрывшийся с места ДТП': 8, 'скрывшийся с места ДТП; велосипедист или возчик': 2, 'имеющий водительские права, соответсвующей категории ТС; не имеющий водительских прав': 3, 'иностранное лицо/лицо без гражданства': 29, 'не имеющий водительских прав; пешеход': 2, 'имеющий водительские права, соответсвующей категории ТС; подрядчики, осуществляющие ремонтные и строительные работы': 1, 'не имеющий водительских прав; велосипедист или возчик': 1, 'пешеход; иностранное лицо/лицо без гражданства': 1, 'лишенный водительских прав; скрывшийся с места ДТП': 2, 'имеющий водительские права, соответсвующей категории ТС; скрывшийся с места ДТП; пешеход': 2, 'имеющий водительские права, соответсвующей категории ТС; велосипедист или возчик': 1, 'лишенный водительских прав; пешеход': 2, 'лишенный водительских прав; не имеющий водительских прав': 1, 'лишенный водительских прав; скрывшийся с места ДТП; пешеход': 1}\n",
            "Attribute: is_public_transport\n",
            "Unique values: {1: 1645, 0: 44764}\n",
            "Attribute: type\n",
            "Unique values: {0: 24408, 1: 22001}\n",
            "Attribute: is_weekday\n",
            "Unique values: {1: 33048, 0: 13361}\n",
            "Attribute: is_winter\n",
            "Unique values: {0: 33207, 1: 13202}\n"
          ],
          "name": "stdout"
        }
      ]
    },
    {
      "cell_type": "markdown",
      "metadata": {
        "id": "GUoUWVddK4Tr",
        "colab_type": "text"
      },
      "source": [
        "### Label encoding"
      ]
    },
    {
      "cell_type": "markdown",
      "metadata": {
        "id": "WN-RwsmGM2Fx",
        "colab_type": "text"
      },
      "source": [
        "Let's create LabelEncoder's for different categorical attributes. This is necessary since we cannot feed the classifier with text variables, thus we have to somehow represent them with numbers. For that, we use sklearn LabelEncoder class, which converts categorical variables into numbers"
      ]
    },
    {
      "cell_type": "code",
      "metadata": {
        "id": "gSg6MUBiKYap",
        "colab_type": "code",
        "outputId": "34924df4-32b6-42fd-a11f-bfbd8d8a2132",
        "colab": {
          "base_uri": "https://localhost:8080/",
          "height": 139
        }
      },
      "source": [
        "# create a list of label encoders\n",
        "label_encoders = []\n",
        "\n",
        "road_condition_le = LabelEncoder()\n",
        "road_condition_le.fit(list(get_unique_values_for_attribute(\"road_condition\", transformed_data).keys()))\n",
        "label_encoders.append(road_condition_le)\n",
        "print(f\"road condition classes: {list(road_condition_le.classes_)}\")\n",
        "\n",
        "road_defects_le = LabelEncoder()\n",
        "road_defects_le.fit(list(get_unique_values_for_attribute(\"road_defects\", transformed_data).keys()))\n",
        "label_encoders.append(road_defects_le)\n",
        "print(f\"road defects classes: {list(road_defects_le.classes_)}\")\n",
        "\n",
        "light_conditions_le = LabelEncoder()\n",
        "light_conditions_le.fit(list(get_unique_values_for_attribute(\"light_conditions\", transformed_data).keys()))\n",
        "label_encoders.append(light_conditions_le)\n",
        "print(f\"light conditions classes: {list(light_conditions_le.classes_)}\")\n",
        "\n",
        "violation_le = LabelEncoder()\n",
        "violation_le.fit(list(get_unique_values_for_attribute(\"violation\", transformed_data).keys()))\n",
        "label_encoders.append(violation_le)\n",
        "print(f\"violation classes: {list(violation_le.classes_)}\")\n",
        "\n",
        "is_drunk_le = LabelEncoder()\n",
        "is_drunk_le.fit(list(get_unique_values_for_attribute(\"is_drunk\", transformed_data).keys()))\n",
        "label_encoders.append(is_drunk_le)\n",
        "print(f\"is_drunk classes: {list(is_drunk_le.classes_)}\")\n",
        "\n",
        "causer_le = LabelEncoder()\n",
        "causer_le.fit(list(get_unique_values_for_attribute(\"causer\", transformed_data).keys()))\n",
        "label_encoders.append(causer_le)\n",
        "print(f\"causer classes: {list(causer_le.classes_)}\")"
      ],
      "execution_count": 26,
      "outputs": [
        {
          "output_type": "stream",
          "text": [
            "road condition classes: ['заснеженная', 'мокрая', 'неизвестно', 'обледеневшая', 'сухая']\n",
            "road defects classes: ['выбоины', 'выбоины; отсутствие дорожной разметки или плохая ее видимость', 'деревья', 'иные условия', 'коллейность', 'коллейность; выбоины', 'коллейность; выбоины; иные условия', 'коллейность; выбоины; неудовлетворительное состояние обочины', 'коллейность; несоответсвие габарита путепровода ширине дороги', 'коллейность; опоры светильников (в случаях наезда, ограничения видимости)', 'недостаточное освещение проезжей части', 'недостаточное освещение проезжей части; иные условия', 'неизвестно', 'неисправность тсодд или плохая их видимость', 'неисправность тсодд или плохая их видимость; отсутствие дорожной разметки или плохая ее видимость', 'неровное покрытие', 'неровное покрытие; выбоины', 'неровное покрытие; выбоины; иные условия', 'неровное покрытие; выбоины; недостаточное освещение проезжей части', 'неровное покрытие; выбоины; недостаточное освещение проезжей части; отсутствие дорожных знаков, либо неправильное их применение', 'неровное покрытие; выбоины; неудовлетворительное состояние обочины', 'неровное покрытие; выбоины; отсутствие тротуаров', 'неровное покрытие; иные условия', 'неровное покрытие; коллейность', 'неровное покрытие; коллейность; выбоины', 'неровное покрытие; коллейность; выбоины; иные условия', 'неровное покрытие; коллейность; выбоины; неудовлетворительное состояние обочины', 'неровное покрытие; коллейность; выбоины; неудовлетворительное состояние обочины; опоры светильников (в случаях наезда, ограничения видимости); отсутствие тротуаров', 'неровное покрытие; коллейность; отсутствие дорожных знаков, либо неправильное их применение', 'неровное покрытие; недостаточное освещение проезжей части', 'неровное покрытие; неудовлетворительное состояние обочины', 'неровное покрытие; отсутсвие ограждений на опасных участках', 'неровное покрытие; отсутствие дорожной разметки или плохая ее видимость; иные условия', 'неровное покрытие; отсутствие тротуаров', 'несоответсвие габарита путепровода ширине дороги; иные условия', 'несоответсвие железно-дорожного переезда предъявляемым требованиям', 'неудовлетворительное состояние обочины', 'неудовлетворительное состояние обочины; иные условия', 'неудовлетворительное состояние обочины; отсутствие тротуаров; иные условия', 'неудовлетворительное состояние обочины; пешеходных дорожек; отсутсвие ограждений на опасных участках; отсутствие дорожных знаков, либо неправильное их применение', 'опоры светильников (в случаях наезда, ограничения видимости)', 'опоры светильников (в случаях наезда, ограничения видимости); иные условия', 'опоры светильников (в случаях наезда, ограничения видимости); отсутствие тротуаров; пешеходных дорожек; недостаточное освещение проезжей части', 'опоры светильников (в случаях наезда, ограничения видимости); пешеходных дорожек; недостаточное освещение проезжей части; иные условия', 'отсутсвие ограждений на опасных участках', 'отсутсвие ограждений на опасных участках; иные условия', 'отсутсвие ограждений на опасных участках; отсутствие дорожной разметки или плохая ее видимость', 'отсутсвие ограждений на опасных участках; отсутствие дорожных знаков, либо неправильное их применение', 'отсутсвуют ограждения и сигнализации в местах производства работ', 'отсутсвуют ограждения и сигнализации в местах производства работ; иные условия', 'отсутствие дорожной разметки или плохая ее видимость', 'отсутствие дорожной разметки или плохая ее видимость; иные условия', 'отсутствие дорожных знаков, либо неправильное их применение', 'отсутствие дорожных знаков, либо неправильное их применение; иные условия', 'отсутствие тротуаров', 'отсутствие тротуаров; иные условия', 'отсутствие тротуаров; недостаточное освещение проезжей части', 'отсутствие тротуаров; отсутсвуют ограждения и сигнализации в местах производства работ', 'отсутствие тротуаров; отсутствие дорожной разметки или плохая ее видимость', 'отсутствие тротуаров; пешеходных дорожек', 'отсутствие тротуаров; пешеходных дорожек; иные условия', 'отсутствие тротуаров; пешеходных дорожек; недостаточное освещение проезжей части', 'отсутствуют', 'пешеходных дорожек', 'пешеходных дорожек; иные условия', 'пешеходных дорожек; недостаточное освещение проезжей части; иные условия', 'пешеходных дорожек; отсутсвуют ограждения и сигнализации в местах производства работ', 'пешеходных дорожек; отсутствие дорожных знаков, либо неправильное их применение', 'пешеходных дорожек; отсутствие дорожных знаков, либо неправильное их применение; отсутствие дорожной разметки или плохая ее видимость', 'скользкое покрытие', 'скользкое покрытие; выбоины', 'скользкое покрытие; иные условия', 'скользкое покрытие; коллейность', 'скользкое покрытие; недостаточное освещение проезжей части', 'скользкое покрытие; неисправность тсодд или плохая их видимость', 'скользкое покрытие; неровное покрытие', 'скользкое покрытие; неровное покрытие; выбоины', 'скользкое покрытие; неровное покрытие; выбоины; отсутствие дорожных знаков, либо неправильное их применение', 'скользкое покрытие; неровное покрытие; иные условия', 'скользкое покрытие; неровное покрытие; коллейность', 'скользкое покрытие; неровное покрытие; коллейность; выбоины; отсутствие тротуаров; пешеходных дорожек', 'скользкое покрытие; неровное покрытие; коллейность; иные условия', 'скользкое покрытие; неровное покрытие; неудовлетворительное состояние обочины', 'скользкое покрытие; неудовлетворительное состояние обочины; опоры светильников (в случаях наезда, ограничения видимости); отсутствие тротуаров; недостаточное освещение проезжей части', 'скользкое покрытие; опоры светильников (в случаях наезда, ограничения видимости)', 'скользкое покрытие; отсутствие дорожной разметки или плохая ее видимость', 'скользкое покрытие; отсутствие дорожных знаков, либо неправильное их применение', 'скользкое покрытие; отсутствие тротуаров; иные условия', 'скользкое покрытие; отсутствие тротуаров; недостаточное освещение проезжей части', 'скользкое покрытие; отсутствие тротуаров; недостаточное освещение проезжей части; иные условия', 'скользкое покрытие; пешеходных дорожек', 'скользкое покрытие; пешеходных дорожек; недостаточное освещение проезжей части']\n",
            "light conditions classes: ['день', 'неизвестно', 'ночь', 'сумерки']\n",
            "violation classes: ['буксировки', 'буксировки; выезд на полосу встречного движения', 'выезд на полосу встречного движения', 'выезд на полосу встречного движения; иные нарушения водителями, велосипедистами, возчиками', 'выезд на полосу встречного движения; нарушение правил обгона', 'выезд на полосу встречного движения; несоблюдение дистанции', 'выезд на полосу встречного движения; несоблюдение очередности проезда нарушение правил проезда перекрестков', 'выезд на полосу встречного движения; переутомление, сон за рулем', 'выезд на полосу встречного движения; управление ТС с неисправностями, с которыми запрещена эксплуатация', 'игра на проезжей части', 'игра на проезжей части; пешеход в возрасте до 7 лет без сопровождения взрослого', 'иные нарушения ПДД пешеходами', 'иные нарушения водителями, велосипедистами, возчиками', 'иные нарушения водителями, велосипедистами, возчиками; иные нарушения ПДД пешеходами', 'иные нарушения водителями, велосипедистами, возчиками; переход пешехода через проезжую часть в неустановленном месте', 'маневрирования', 'маневрирования; выезд на полосу встречного движения', 'маневрирования; выезд на полосу встречного движения; нарушение правил обгона', 'маневрирования; иные нарушения ПДД пешеходами', 'маневрирования; иные нарушения водителями, велосипедистами, возчиками', 'маневрирования; нарушение правил обгона', 'маневрирования; нарушение правил обгона; несоблюдение очередности проезда нарушение правил проезда перекрестков', 'маневрирования; несоблюдение дистанции', 'маневрирования; несоблюдение дистанции; иные нарушения водителями, велосипедистами, возчиками', 'маневрирования; несоблюдение дистанции; переутомление, сон за рулем', 'маневрирования; несоблюдение очередности проезда нарушение правил проезда перекрестков', 'маневрирования; несоблюдение очередности проезда нарушение правил проезда перекрестков; иные нарушения водителями, велосипедистами, возчиками', 'маневрирования; остановки и стоянки ТС', 'маневрирования; переутомление, сон за рулем', 'маневрирования; переход пешехода через проезжую часть в неустановленном месте', 'маневрирования; пешеход в возрасте до 7 лет без сопровождения взрослого', 'маневрирования; представление беспрепятственного проезда ТС, пользующихся преимущественным правом проезда', 'маневрирования; проезда остановок общественного транспорта', 'маневрирования; проезда переездов', 'маневрирования; проезда пешеходных переходов', 'маневрирования; проезда пешеходных переходов; выезд на полосу встречного движения', 'нарушение правил обгона', 'нарушение правил обгона; иные нарушения водителями, велосипедистами, возчиками', 'нарушение правил обгона; несоблюдение дистанции', 'нарушение правил обгона; несоблюдение очередности проезда нарушение правил проезда перекрестков', 'нарушение правил обгона; переутомление, сон за рулем', 'неизвестно', 'неподчинение сигналам регулирования, несоблюдение требований дорожных знаков или разметки', 'неподчинение сигналам регулирования, несоблюдение требований дорожных знаков или разметки; выезд на полосу встречного движения', 'неподчинение сигналам регулирования, несоблюдение требований дорожных знаков или разметки; выезд на полосу встречного движения; нарушение правил обгона', 'неподчинение сигналам регулирования, несоблюдение требований дорожных знаков или разметки; иные нарушения ПДД пешеходами', 'неподчинение сигналам регулирования, несоблюдение требований дорожных знаков или разметки; иные нарушения водителями, велосипедистами, возчиками', 'неподчинение сигналам регулирования, несоблюдение требований дорожных знаков или разметки; маневрирования', 'неподчинение сигналам регулирования, несоблюдение требований дорожных знаков или разметки; нарушение правил обгона', 'неподчинение сигналам регулирования, несоблюдение требований дорожных знаков или разметки; несоблюдение дистанции', 'неподчинение сигналам регулирования, несоблюдение требований дорожных знаков или разметки; несоблюдение очередности проезда нарушение правил проезда перекрестков', 'неподчинение сигналам регулирования, несоблюдение требований дорожных знаков или разметки; остановки и стоянки ТС', 'неподчинение сигналам регулирования, несоблюдение требований дорожных знаков или разметки; остановки и стоянки ТС; иные нарушения водителями, велосипедистами, возчиками', 'неподчинение сигналам регулирования, несоблюдение требований дорожных знаков или разметки; перевозки людей', 'неподчинение сигналам регулирования, несоблюдение требований дорожных знаков или разметки; переутомление, сон за рулем', 'неподчинение сигналам регулирования, несоблюдение требований дорожных знаков или разметки; представление беспрепятственного проезда ТС, пользующихся преимущественным правом проезда', 'неподчинение сигналам регулирования, несоблюдение требований дорожных знаков или разметки; проезда переездов', 'неподчинение сигналам регулирования, несоблюдение требований дорожных знаков или разметки; проезда пешеходных переходов', 'неподчинение сигналам регулирования, несоблюдение требований дорожных знаков или разметки; проезда пешеходных переходов; несоблюдение очередности проезда нарушение правил проезда перекрестков', 'неподчинение сигналам регулирования, несоблюдение требований дорожных знаков или разметки; управление ТС с неисправностями, с которыми запрещена эксплуатация', 'несоблюдение дистанции', 'несоблюдение дистанции; иные нарушения водителями, велосипедистами, возчиками', 'несоблюдение очередности проезда нарушение правил проезда перекрестков', 'несоблюдение очередности проезда нарушение правил проезда перекрестков; иные нарушения ПДД пешеходами', 'несоблюдение очередности проезда нарушение правил проезда перекрестков; иные нарушения водителями, велосипедистами, возчиками', 'остановки и стоянки ТС', 'остановки и стоянки ТС; несоблюдение дистанции', 'перевозки людей', 'перевозки людей; несоблюдение дистанции', 'перевозки людей; проезда остановок общественного транспорта', 'переутомление, сон за рулем', 'переутомление, сон за рулем; иные нарушения водителями, велосипедистами, возчиками', 'переход пешехода через проезжую часть в неустановленном месте', 'переход пешехода через проезжую часть в неустановленном месте; игра на проезжей части', 'переход пешехода через проезжую часть в неустановленном месте; иные нарушения ПДД пешеходами', 'переход пешехода через проезжую часть в неустановленном месте; пешеход в возрасте до 7 лет без сопровождения взрослого', 'переход пешехода через проезжую часть в неустановленном месте; пешеход в возрасте до 7 лет без сопровождения взрослого; иные нарушения ПДД пешеходами', 'пешеход в возрасте до 7 лет без сопровождения взрослого', 'пользование осветительными приборами', 'пользование осветительными приборами; иные нарушения водителями, велосипедистами, возчиками', 'пользование осветительными приборами; несоблюдение дистанции', 'пользование осветительными приборами; остановки и стоянки ТС; несоблюдение очередности проезда нарушение правил проезда перекрестков', 'пользование осветительными приборами; управление ТС с неисправностями, с которыми запрещена эксплуатация; иные нарушения водителями, велосипедистами, возчиками', 'превышение скорости, установленной ПДД или дорожными знаками', 'превышение скорости, установленной ПДД или дорожными знаками; выезд на полосу встречного движения', 'превышение скорости, установленной ПДД или дорожными знаками; выезд на полосу встречного движения; несоблюдение дистанции', 'превышение скорости, установленной ПДД или дорожными знаками; выезд на полосу встречного движения; переутомление, сон за рулем', 'превышение скорости, установленной ПДД или дорожными знаками; иные нарушения ПДД пешеходами', 'превышение скорости, установленной ПДД или дорожными знаками; иные нарушения водителями, велосипедистами, возчиками', 'превышение скорости, установленной ПДД или дорожными знаками; иные нарушения водителями, велосипедистами, возчиками; иные нарушения ПДД пешеходами', 'превышение скорости, установленной ПДД или дорожными знаками; маневрирования', 'превышение скорости, установленной ПДД или дорожными знаками; маневрирования; нарушение правил обгона', 'превышение скорости, установленной ПДД или дорожными знаками; маневрирования; несоблюдение очередности проезда нарушение правил проезда перекрестков', 'превышение скорости, установленной ПДД или дорожными знаками; нарушение правил обгона', 'превышение скорости, установленной ПДД или дорожными знаками; нарушение правил обгона; несоблюдение дистанции', 'превышение скорости, установленной ПДД или дорожными знаками; неподчинение сигналам регулирования, несоблюдение требований дорожных знаков или разметки', 'превышение скорости, установленной ПДД или дорожными знаками; неподчинение сигналам регулирования, несоблюдение требований дорожных знаков или разметки; иные нарушения водителями, велосипедистами, возчиками', 'превышение скорости, установленной ПДД или дорожными знаками; неподчинение сигналам регулирования, несоблюдение требований дорожных знаков или разметки; маневрирования', 'превышение скорости, установленной ПДД или дорожными знаками; неподчинение сигналам регулирования, несоблюдение требований дорожных знаков или разметки; нарушение правил обгона; иные нарушения водителями, велосипедистами, возчиками', 'превышение скорости, установленной ПДД или дорожными знаками; неподчинение сигналам регулирования, несоблюдение требований дорожных знаков или разметки; переутомление, сон за рулем', 'превышение скорости, установленной ПДД или дорожными знаками; несоблюдение дистанции', 'превышение скорости, установленной ПДД или дорожными знаками; несоблюдение очередности проезда нарушение правил проезда перекрестков', 'превышение скорости, установленной ПДД или дорожными знаками; остановки и стоянки ТС', 'превышение скорости, установленной ПДД или дорожными знаками; перевозки людей', 'превышение скорости, установленной ПДД или дорожными знаками; переутомление, сон за рулем', 'превышение скорости, установленной ПДД или дорожными знаками; переход пешехода через проезжую часть в неустановленном месте', 'превышение скорости, установленной ПДД или дорожными знаками; пешеход в возрасте до 7 лет без сопровождения взрослого', 'превышение скорости, установленной ПДД или дорожными знаками; представление беспрепятственного проезда ТС, пользующихся преимущественным правом проезда', 'превышение скорости, установленной ПДД или дорожными знаками; проезда переездов', 'превышение скорости, установленной ПДД или дорожными знаками; проезда пешеходных переходов', 'превышение скорости, установленной ПДД или дорожными знаками; проезда пешеходных переходов; несоблюдение очередности проезда нарушение правил проезда перекрестков', 'превышение скорости, установленной ПДД или дорожными знаками; управление ТС с неисправностями, с которыми запрещена эксплуатация', 'представление беспрепятственного проезда ТС, пользующихся преимущественным правом проезда', 'представление беспрепятственного проезда ТС, пользующихся преимущественным правом проезда; иные нарушения ПДД пешеходами', 'представление беспрепятственного проезда ТС, пользующихся преимущественным правом проезда; несоблюдение очередности проезда нарушение правил проезда перекрестков', 'провозки грузов', 'провозки грузов; иные нарушения водителями, велосипедистами, возчиками', 'проезда остановок общественного транспорта', 'проезда остановок общественного транспорта; иные нарушения ПДД пешеходами', 'проезда переездов', 'проезда переездов; несоблюдение очередности проезда нарушение правил проезда перекрестков', 'проезда пешеходных переходов', 'проезда пешеходных переходов; игра на проезжей части', 'проезда пешеходных переходов; иные нарушения ПДД пешеходами', 'проезда пешеходных переходов; иные нарушения водителями, велосипедистами, возчиками', 'проезда пешеходных переходов; нарушение правил обгона', 'проезда пешеходных переходов; несоблюдение дистанции', 'проезда пешеходных переходов; несоблюдение очередности проезда нарушение правил проезда перекрестков', 'проезда пешеходных переходов; переутомление, сон за рулем', 'проезда пешеходных переходов; переход пешехода через проезжую часть в неустановленном месте', 'проезда пешеходных переходов; представление беспрепятственного проезда ТС, пользующихся преимущественным правом проезда', 'проезда пешеходных переходов; представление беспрепятственного проезда ТС, пользующихся преимущественным правом проезда; несоблюдение очередности проезда нарушение правил проезда перекрестков', 'проезда пешеходных переходов; проезда остановок общественного транспорта', 'управление ТС в состоянии опьянения', 'управление ТС в состоянии опьянения; выезд на полосу встречного движения', 'управление ТС в состоянии опьянения; выезд на полосу встречного движения; несоблюдение дистанции', 'управление ТС в состоянии опьянения; иные нарушения водителями, велосипедистами, возчиками', 'управление ТС в состоянии опьянения; маневрирования', 'управление ТС в состоянии опьянения; маневрирования; иные нарушения водителями, велосипедистами, возчиками', 'управление ТС в состоянии опьянения; нарушение правил обгона', 'управление ТС в состоянии опьянения; нарушение правил обгона; иные нарушения водителями, велосипедистами, возчиками', 'управление ТС в состоянии опьянения; неподчинение сигналам регулирования, несоблюдение требований дорожных знаков или разметки', 'управление ТС в состоянии опьянения; неподчинение сигналам регулирования, несоблюдение требований дорожных знаков или разметки; иные нарушения водителями, велосипедистами, возчиками', 'управление ТС в состоянии опьянения; несоблюдение дистанции', 'управление ТС в состоянии опьянения; несоблюдение очередности проезда нарушение правил проезда перекрестков', 'управление ТС в состоянии опьянения; превышение скорости, установленной ПДД или дорожными знаками', 'управление ТС в состоянии опьянения; превышение скорости, установленной ПДД или дорожными знаками; иные нарушения водителями, велосипедистами, возчиками', 'управление ТС в состоянии опьянения; превышение скорости, установленной ПДД или дорожными знаками; маневрирования', 'управление ТС в состоянии опьянения; превышение скорости, установленной ПДД или дорожными знаками; несоблюдение дистанции', 'управление ТС в состоянии опьянения; представление беспрепятственного проезда ТС, пользующихся преимущественным правом проезда', 'управление ТС в состоянии опьянения; проезда пешеходных переходов', 'управление ТС с неисправностями, с которыми запрещена эксплуатация', 'управление ТС с неисправностями, с которыми запрещена эксплуатация; иные нарушения водителями, велосипедистами, возчиками']\n",
            "is_drunk classes: ['алкогольное опьянение', 'время непрерывного нахождения в пути\\n', 'наркотическое опьянение', 'неизвестно', 'резкое ухудшение здоровья\\n', 'токсикоманическое опьянение', 'трезвый']\n",
            "causer classes: ['велосипедист или возчик', 'дорожные службы', 'имеющий водительские права, соответсвующей категории ТС', 'имеющий водительские права, соответсвующей категории ТС; велосипедист или возчик', 'имеющий водительские права, соответсвующей категории ТС; иностранное лицо/лицо без гражданства', 'имеющий водительские права, соответсвующей категории ТС; лишенный водительских прав', 'имеющий водительские права, соответсвующей категории ТС; не имеющий водительских прав', 'имеющий водительские права, соответсвующей категории ТС; несовершеннолетний', 'имеющий водительские права, соответсвующей категории ТС; пешеход', 'имеющий водительские права, соответсвующей категории ТС; пешеход; несовершеннолетний', 'имеющий водительские права, соответсвующей категории ТС; подрядчики, осуществляющие ремонтные и строительные работы', 'имеющий водительские права, соответсвующей категории ТС; скрывшийся с места ДТП', 'имеющий водительские права, соответсвующей категории ТС; скрывшийся с места ДТП; пешеход', 'имеющий водительские права, соответсвующей категории ТС; скрывшийся с места ДТП; пешеход; несовершеннолетний', 'иностранное лицо/лицо без гражданства', 'лишенный водительских прав', 'лишенный водительских прав; не имеющий водительских прав', 'лишенный водительских прав; пешеход', 'лишенный водительских прав; скрывшийся с места ДТП', 'лишенный водительских прав; скрывшийся с места ДТП; пешеход', 'не имеющий водительских прав', 'не имеющий водительских прав; велосипедист или возчик', 'не имеющий водительских прав; пешеход', 'не имеющий водительских прав; скрывшийся с места ДТП', 'неизвестно', 'несовершеннолетний', 'пешеход', 'пешеход; иностранное лицо/лицо без гражданства', 'пешеход; несовершеннолетний', 'скрывшийся с места ДТП', 'скрывшийся с места ДТП; велосипедист или возчик', 'скрывшийся с места ДТП; пешеход']\n"
          ],
          "name": "stdout"
        }
      ]
    },
    {
      "cell_type": "code",
      "metadata": {
        "id": "7M935jR8-5Zl",
        "colab_type": "code",
        "colab": {}
      },
      "source": [
        "for i, data_point in enumerate(transformed_data):\n",
        "  for j, categorical_feature in enumerate([\"road_condition\", \"road_defects\", \"light_conditions\", \"violation\", \"is_drunk\", \"causer\"]):\n",
        "    data_point[categorical_feature] = label_encoders[j].transform([data_point[categorical_feature]])[0]"
      ],
      "execution_count": 0,
      "outputs": []
    },
    {
      "cell_type": "markdown",
      "metadata": {
        "id": "fGq-i5Jmk_eC",
        "colab_type": "text"
      },
      "source": [
        "### Converting JSON array to dataframe"
      ]
    },
    {
      "cell_type": "code",
      "metadata": {
        "id": "mBzouWPa9hbe",
        "colab_type": "code",
        "colab": {}
      },
      "source": [
        "# importing pandas to create dataframe\n",
        "import pandas as pd"
      ],
      "execution_count": 0,
      "outputs": []
    },
    {
      "cell_type": "markdown",
      "metadata": {
        "id": "BOIBLMn5KhLL",
        "colab_type": "text"
      },
      "source": [
        "Next, we need to convert array of JSON data into a dataframe. Dataframes are more convenient for storing data because they contain the information in lists, which then can be transformed into Numpy arrays. Let's create a Pandas dataframe with the transformed features as columns."
      ]
    },
    {
      "cell_type": "code",
      "metadata": {
        "id": "qm5LVUOr7hkk",
        "colab_type": "code",
        "outputId": "6847135c-292d-4158-a091-7e0a2b1b16cd",
        "colab": {
          "base_uri": "https://localhost:8080/",
          "height": 419
        }
      },
      "source": [
        " # initialize an empty list for data\n",
        "data = []\n",
        "# create a list of all features\n",
        "features = list(transformed_data[0].keys())\n",
        "# move \"type\" to the end of the list\n",
        "features.remove(\"type\")\n",
        "features.append(\"type\")\n",
        "# iterate over each data point and add to list\n",
        "for data_point in transformed_data:\n",
        "  # create a list for data point\n",
        "  df_item = []\n",
        "  # iterate over all features\n",
        "  for feature in features:\n",
        "    df_item.append(data_point[feature])\n",
        "  # add data point list to list of all data\n",
        "  data.append(df_item)\n",
        "  \n",
        "# create the pandas DataFrame \n",
        "df = pd.DataFrame(data, columns=features) \n",
        "  \n",
        "# print dataframe\n",
        "df\n"
      ],
      "execution_count": 29,
      "outputs": [
        {
          "output_type": "execute_result",
          "data": {
            "text/html": [
              "<div>\n",
              "<style scoped>\n",
              "    .dataframe tbody tr th:only-of-type {\n",
              "        vertical-align: middle;\n",
              "    }\n",
              "\n",
              "    .dataframe tbody tr th {\n",
              "        vertical-align: top;\n",
              "    }\n",
              "\n",
              "    .dataframe thead th {\n",
              "        text-align: right;\n",
              "    }\n",
              "</style>\n",
              "<table border=\"1\" class=\"dataframe\">\n",
              "  <thead>\n",
              "    <tr style=\"text-align: right;\">\n",
              "      <th></th>\n",
              "      <th>road_condition</th>\n",
              "      <th>road_defects</th>\n",
              "      <th>light_conditions</th>\n",
              "      <th>violation</th>\n",
              "      <th>injured_num</th>\n",
              "      <th>dead_num</th>\n",
              "      <th>is_drunk</th>\n",
              "      <th>causer</th>\n",
              "      <th>is_public_transport</th>\n",
              "      <th>is_weekday</th>\n",
              "      <th>is_winter</th>\n",
              "      <th>type</th>\n",
              "    </tr>\n",
              "  </thead>\n",
              "  <tbody>\n",
              "    <tr>\n",
              "      <th>0</th>\n",
              "      <td>4</td>\n",
              "      <td>62</td>\n",
              "      <td>0</td>\n",
              "      <td>36</td>\n",
              "      <td>8</td>\n",
              "      <td>0</td>\n",
              "      <td>6</td>\n",
              "      <td>2</td>\n",
              "      <td>1</td>\n",
              "      <td>1</td>\n",
              "      <td>0</td>\n",
              "      <td>0</td>\n",
              "    </tr>\n",
              "    <tr>\n",
              "      <th>1</th>\n",
              "      <td>1</td>\n",
              "      <td>15</td>\n",
              "      <td>0</td>\n",
              "      <td>83</td>\n",
              "      <td>1</td>\n",
              "      <td>0</td>\n",
              "      <td>6</td>\n",
              "      <td>2</td>\n",
              "      <td>0</td>\n",
              "      <td>1</td>\n",
              "      <td>0</td>\n",
              "      <td>0</td>\n",
              "    </tr>\n",
              "    <tr>\n",
              "      <th>2</th>\n",
              "      <td>3</td>\n",
              "      <td>62</td>\n",
              "      <td>0</td>\n",
              "      <td>11</td>\n",
              "      <td>1</td>\n",
              "      <td>0</td>\n",
              "      <td>6</td>\n",
              "      <td>26</td>\n",
              "      <td>0</td>\n",
              "      <td>1</td>\n",
              "      <td>0</td>\n",
              "      <td>1</td>\n",
              "    </tr>\n",
              "    <tr>\n",
              "      <th>3</th>\n",
              "      <td>0</td>\n",
              "      <td>62</td>\n",
              "      <td>3</td>\n",
              "      <td>83</td>\n",
              "      <td>0</td>\n",
              "      <td>2</td>\n",
              "      <td>6</td>\n",
              "      <td>2</td>\n",
              "      <td>0</td>\n",
              "      <td>1</td>\n",
              "      <td>1</td>\n",
              "      <td>1</td>\n",
              "    </tr>\n",
              "    <tr>\n",
              "      <th>4</th>\n",
              "      <td>4</td>\n",
              "      <td>62</td>\n",
              "      <td>2</td>\n",
              "      <td>15</td>\n",
              "      <td>1</td>\n",
              "      <td>0</td>\n",
              "      <td>6</td>\n",
              "      <td>2</td>\n",
              "      <td>0</td>\n",
              "      <td>1</td>\n",
              "      <td>0</td>\n",
              "      <td>0</td>\n",
              "    </tr>\n",
              "    <tr>\n",
              "      <th>...</th>\n",
              "      <td>...</td>\n",
              "      <td>...</td>\n",
              "      <td>...</td>\n",
              "      <td>...</td>\n",
              "      <td>...</td>\n",
              "      <td>...</td>\n",
              "      <td>...</td>\n",
              "      <td>...</td>\n",
              "      <td>...</td>\n",
              "      <td>...</td>\n",
              "      <td>...</td>\n",
              "      <td>...</td>\n",
              "    </tr>\n",
              "    <tr>\n",
              "      <th>46404</th>\n",
              "      <td>4</td>\n",
              "      <td>3</td>\n",
              "      <td>0</td>\n",
              "      <td>83</td>\n",
              "      <td>1</td>\n",
              "      <td>0</td>\n",
              "      <td>3</td>\n",
              "      <td>29</td>\n",
              "      <td>0</td>\n",
              "      <td>1</td>\n",
              "      <td>0</td>\n",
              "      <td>1</td>\n",
              "    </tr>\n",
              "    <tr>\n",
              "      <th>46405</th>\n",
              "      <td>4</td>\n",
              "      <td>62</td>\n",
              "      <td>2</td>\n",
              "      <td>83</td>\n",
              "      <td>1</td>\n",
              "      <td>0</td>\n",
              "      <td>6</td>\n",
              "      <td>2</td>\n",
              "      <td>0</td>\n",
              "      <td>0</td>\n",
              "      <td>1</td>\n",
              "      <td>0</td>\n",
              "    </tr>\n",
              "    <tr>\n",
              "      <th>46406</th>\n",
              "      <td>2</td>\n",
              "      <td>62</td>\n",
              "      <td>3</td>\n",
              "      <td>15</td>\n",
              "      <td>1</td>\n",
              "      <td>0</td>\n",
              "      <td>6</td>\n",
              "      <td>2</td>\n",
              "      <td>0</td>\n",
              "      <td>1</td>\n",
              "      <td>0</td>\n",
              "      <td>1</td>\n",
              "    </tr>\n",
              "    <tr>\n",
              "      <th>46407</th>\n",
              "      <td>4</td>\n",
              "      <td>62</td>\n",
              "      <td>0</td>\n",
              "      <td>50</td>\n",
              "      <td>1</td>\n",
              "      <td>0</td>\n",
              "      <td>6</td>\n",
              "      <td>2</td>\n",
              "      <td>0</td>\n",
              "      <td>1</td>\n",
              "      <td>0</td>\n",
              "      <td>0</td>\n",
              "    </tr>\n",
              "    <tr>\n",
              "      <th>46408</th>\n",
              "      <td>4</td>\n",
              "      <td>62</td>\n",
              "      <td>2</td>\n",
              "      <td>15</td>\n",
              "      <td>1</td>\n",
              "      <td>0</td>\n",
              "      <td>6</td>\n",
              "      <td>2</td>\n",
              "      <td>0</td>\n",
              "      <td>0</td>\n",
              "      <td>0</td>\n",
              "      <td>0</td>\n",
              "    </tr>\n",
              "  </tbody>\n",
              "</table>\n",
              "<p>46409 rows × 12 columns</p>\n",
              "</div>"
            ],
            "text/plain": [
              "       road_condition  road_defects  ...  is_winter  type\n",
              "0                   4            62  ...          0     0\n",
              "1                   1            15  ...          0     0\n",
              "2                   3            62  ...          0     1\n",
              "3                   0            62  ...          1     1\n",
              "4                   4            62  ...          0     0\n",
              "...               ...           ...  ...        ...   ...\n",
              "46404               4             3  ...          0     1\n",
              "46405               4            62  ...          1     0\n",
              "46406               2            62  ...          0     1\n",
              "46407               4            62  ...          0     0\n",
              "46408               4            62  ...          0     0\n",
              "\n",
              "[46409 rows x 12 columns]"
            ]
          },
          "metadata": {
            "tags": []
          },
          "execution_count": 29
        }
      ]
    },
    {
      "cell_type": "markdown",
      "metadata": {
        "id": "sMRU9gMP9oxl",
        "colab_type": "text"
      },
      "source": [
        "Now this looks more or less properly, compared to the initial format of the data. We have normalized several features and wrapped the data into a dataframe, but we still need to encode the categorical variables into a representation suitable for classifiers."
      ]
    },
    {
      "cell_type": "markdown",
      "metadata": {
        "id": "FFHmCmD-2S66",
        "colab_type": "text"
      },
      "source": [
        "## Classification and evaluation"
      ]
    },
    {
      "cell_type": "markdown",
      "metadata": {
        "id": "H97uNUwwvixz",
        "colab_type": "text"
      },
      "source": [
        "In our approach, we have selected a type of road traffic accident (RTA) to be a target variable in a binary classification problem. The possible target values are collision of cars and collision with a pedestrian. "
      ]
    },
    {
      "cell_type": "markdown",
      "metadata": {
        "id": "4zNHkpOp7W1e",
        "colab_type": "text"
      },
      "source": [
        "Let's first import all the necessary libraries, so we have them in one cell "
      ]
    },
    {
      "cell_type": "code",
      "metadata": {
        "id": "7MRUdNij2TqH",
        "colab_type": "code",
        "colab": {}
      },
      "source": [
        "# numpy\n",
        "import numpy as np\n",
        "# matplotlib\n",
        "import matplotlib.pyplot as plt\n",
        "%matplotlib inline\n",
        "# tSNE (visualization)\n",
        "from sklearn.manifold import TSNE\n",
        "# tqdm (progress bar)\n",
        "from tqdm import tqdm"
      ],
      "execution_count": 0,
      "outputs": []
    },
    {
      "cell_type": "code",
      "metadata": {
        "id": "FDyEnORC71CJ",
        "colab_type": "code",
        "colab": {}
      },
      "source": [
        "# model selection\n",
        "from sklearn.model_selection import cross_val_score, train_test_split\n",
        "# evaluation metrics\n",
        "from sklearn import metrics"
      ],
      "execution_count": 0,
      "outputs": []
    },
    {
      "cell_type": "code",
      "metadata": {
        "id": "EGtsboUF6sUc",
        "colab_type": "code",
        "colab": {}
      },
      "source": [
        "# models\n",
        "# SVM\n",
        "from sklearn import svm\n",
        "# Random forest\n",
        "from sklearn.ensemble import RandomForestClassifier\n",
        "# kNN\n",
        "from sklearn.neighbors import KNeighborsClassifier\n",
        "# LDA and QDA\n",
        "from sklearn.discriminant_analysis import LinearDiscriminantAnalysis\n",
        "from sklearn.discriminant_analysis import QuadraticDiscriminantAnalysis\n",
        "# multi-layer perceptron\n",
        "from sklearn.neural_network import MLPClassifier"
      ],
      "execution_count": 0,
      "outputs": []
    },
    {
      "cell_type": "markdown",
      "metadata": {
        "id": "BDi_zJn_CUUk",
        "colab_type": "text"
      },
      "source": [
        "Now we need to separate features from targets in our data, and then create a train/test split."
      ]
    },
    {
      "cell_type": "code",
      "metadata": {
        "id": "i4e0Tj4rCMsZ",
        "colab_type": "code",
        "colab": {
          "base_uri": "https://localhost:8080/",
          "height": 68
        },
        "outputId": "9c65b430-fce2-4256-89b1-23d0e91dd6ae"
      },
      "source": [
        "print(f\"data shape: {df.values.shape}\")\n",
        "\n",
        "X = df.values[:,:-1]\n",
        "y = df.values[:,-1]\n",
        "\n",
        "print(f\"X shape: {X.shape}\")\n",
        "print(f\"y shape: {y.shape}\")"
      ],
      "execution_count": 47,
      "outputs": [
        {
          "output_type": "stream",
          "text": [
            "data shape: (46409, 12)\n",
            "X shape: (46409, 11)\n",
            "y shape: (46409,)\n"
          ],
          "name": "stdout"
        }
      ]
    },
    {
      "cell_type": "markdown",
      "metadata": {
        "id": "-kqFkW3uTl1Q",
        "colab_type": "text"
      },
      "source": [
        "We actually went through training some of the classifiers on all 46,409 data points and it took a lot of time (we did not have patience to wait until the end and stopped the execution). Therefore, we decided to cut the number down to 10,000. We select these 10,000 samples at random (however, it creates problems in reproducibility)."
      ]
    },
    {
      "cell_type": "code",
      "metadata": {
        "id": "DLVpmrGaT2BO",
        "colab_type": "code",
        "colab": {
          "base_uri": "https://localhost:8080/",
          "height": 34
        },
        "outputId": "68fefd20-96c3-4ad3-d153-44d9a8378a3e"
      },
      "source": [
        "# generate random indices\n",
        "idx = np.random.randint(0, X.shape[0], size=10000)\n",
        "\n",
        "X = X[idx,:]\n",
        "y = y[idx]"
      ],
      "execution_count": 48,
      "outputs": [
        {
          "output_type": "stream",
          "text": [
            "[36322 12299 35012 ... 27724 32170 23059]\n"
          ],
          "name": "stdout"
        }
      ]
    },
    {
      "cell_type": "markdown",
      "metadata": {
        "id": "IU2iruz4CzlP",
        "colab_type": "text"
      },
      "source": [
        "We will separate training and testing data in a standard way - 80 to 20. To maintain reproducibilty, we set a random state to 42."
      ]
    },
    {
      "cell_type": "code",
      "metadata": {
        "id": "KNKKX9NhCxL8",
        "colab_type": "code",
        "colab": {}
      },
      "source": [
        "X_train, X_test, y_train, y_test = train_test_split(X, y, test_size=0.2, random_state=42)"
      ],
      "execution_count": 0,
      "outputs": []
    },
    {
      "cell_type": "markdown",
      "metadata": {
        "id": "Xp3hoqGo2_In",
        "colab_type": "text"
      },
      "source": [
        "### Visualization"
      ]
    },
    {
      "cell_type": "markdown",
      "metadata": {
        "id": "laG0otWrGZ7S",
        "colab_type": "text"
      },
      "source": [
        "First of all, we wanted to \"see\" the data we have. It might help us to notice patterns in the data and see if there are any relations. In order to do that, we employed t-SNE dimensionality reduction technique. It is a non-linear method which is usually better than other techniques, such as PCA. We are reducing the dimensions of our data points from 11 (number of features) to 2."
      ]
    },
    {
      "cell_type": "code",
      "metadata": {
        "id": "bbu5Tih33dYu",
        "colab_type": "code",
        "outputId": "be8c6352-ecea-45cf-89bc-b60f01781c0a",
        "colab": {
          "base_uri": "https://localhost:8080/",
          "height": 51
        }
      },
      "source": [
        "# create TSNE with 2 components\n",
        "tsne = TSNE(n_components=2)\n",
        "# reduce data to 2 dimensions\n",
        "reduced_X = tsne.fit_transform(X)\n",
        "print(f\"Shape of original data: {X.shape}\")\n",
        "print(f\"Shape of reduced data: {reduced_X.shape}\")"
      ],
      "execution_count": 50,
      "outputs": [
        {
          "output_type": "stream",
          "text": [
            "Shape of original data: (10000, 11)\n",
            "Shape of reduced data: (10000, 2)\n"
          ],
          "name": "stdout"
        }
      ]
    },
    {
      "cell_type": "code",
      "metadata": {
        "id": "JPavbdj537Q8",
        "colab_type": "code",
        "outputId": "1afccc0f-f36e-4bf2-d981-8575e9960f69",
        "colab": {
          "base_uri": "https://localhost:8080/",
          "height": 265
        }
      },
      "source": [
        "# plot reduced data\n",
        "plt.scatter(reduced_X[:,0], reduced_X[:,1])\n",
        "plt.show()"
      ],
      "execution_count": 51,
      "outputs": [
        {
          "output_type": "display_data",
          "data": {
            "image/png": "[encoded data removed]",
            "text/plain": [
              "<Figure size 432x288 with 1 Axes>"
            ]
          },
          "metadata": {
            "tags": []
          }
        }
      ]
    },
    {
      "cell_type": "markdown",
      "metadata": {
        "id": "TGAN4noCHXNM",
        "colab_type": "text"
      },
      "source": [
        "We have experimented with only 5,000 data points from our dataset (about 10%) because t-SNE takes a lot of time to run on the whole dataset. We have actually started from smaller number of data, trying 100, 500, and 1000 in the first place. Increasing the number each time, we have observed that there are more clusters appearing on the visualization. This might cause a problem in classification, but we are not sure how to explain this. However, having clusters in the data gives us a hope."
      ]
    },
    {
      "cell_type": "markdown",
      "metadata": {
        "id": "bkg30xGkDYwd",
        "colab_type": "text"
      },
      "source": [
        "### Evaluation\n",
        "\n",
        "We will evaluate predictions of each method in a same way: computing accuracy, precision, recall, and F1-score. Thus, it makes sense to write a wrapper method which accepts true labels and predictions, and then outputs evaluation results."
      ]
    },
    {
      "cell_type": "code",
      "metadata": {
        "id": "iFvFhBP8Dpvp",
        "colab_type": "code",
        "colab": {}
      },
      "source": [
        "def evaluate(y_true, y_pred):\n",
        "  print(f\"Accuracy : {metrics.accuracy_score(y_true, y_pred)}\")\n",
        "  print(f\"Precision: {metrics.precision_score(y_true, y_pred)}\")\n",
        "  print(f\"Recall: {metrics.recall_score(y_true, y_pred)}\")\n",
        "  print(f\"F1 score: {metrics.f1_score(y_true, y_pred)}\")"
      ],
      "execution_count": 0,
      "outputs": []
    },
    {
      "cell_type": "markdown",
      "metadata": {
        "id": "0moxvG8ny8fc",
        "colab_type": "text"
      },
      "source": [
        "### Logistic Regression"
      ]
    },
    {
      "cell_type": "markdown",
      "metadata": {
        "id": "BHJ79VPTDVXY",
        "colab_type": "text"
      },
      "source": [
        "We start off with a logistic regression classifier. We have decided to implement this method from scratch. Basically, it requires us to optimize a cost function using stochastic gradient descent (SGD). Logistic regression is based on a simple regression but with sigmoid function applied to the outputs. The loss function is, therefore, different from that of regression.\n",
        "\n",
        "In the following class we have included all the necessary functions for a logistic regression classifier. In training phase, we first compute the predictions with current weights. Then, we apply a sigmoid activation function and "
      ]
    },
    {
      "cell_type": "code",
      "metadata": {
        "id": "mzrU0mRd8xXz",
        "colab_type": "code",
        "colab": {}
      },
      "source": [
        "class BinaryLogisticRegression:\n",
        "  def __init__(self, threshold=0.5):\n",
        "    self.threshold = threshold\n",
        "  \n",
        "  def activation(self, x):\n",
        "    return 1.0 / (1 + np.exp(-x))\n",
        "  \n",
        "  def predict(self, X, theta):\n",
        "    z = np.dot(X, theta)\n",
        "    return self.activation(z)\n",
        "  \n",
        "  def cost_function(self, X, y, theta):\n",
        "    # get predictions\n",
        "    h = self.predict(X, theta)\n",
        "    # compute cost (average loss)\n",
        "    L = (-np.dot(y, np.log(h)) - np.dot((1-y), np.log(1-h))) / len(y)\n",
        "    return L\n",
        "  \n",
        "  def gradient_descent_step(self, X, y, theta, alpha):\n",
        "    # get predictions\n",
        "    predictions = self.predict(X, theta)\n",
        "    # calculate gradient\n",
        "    gradient = np.dot(X.T, predictions - y)\n",
        "    # take average\n",
        "    gradient /= len(y)\n",
        "    # multiply by learning rate\n",
        "    gradient *= alpha\n",
        "    # update weights\n",
        "    theta -= gradient\n",
        "    \n",
        "    return theta\n",
        "  \n",
        "  def train(self, X, y, theta, alpha, iterations):\n",
        "    for i in range(iterations):\n",
        "      theta = self.gradient_descent_step(X, y, theta, alpha)\n",
        "      \n",
        "    return theta\n",
        "  \n",
        "  def decision_boundary(self, prediction):\n",
        "    return 1 if prediction >= self.threshold else 0\n",
        "  \n",
        "  def classify(self, predictions):\n",
        "    vectorized_decision_boundary = np.vectorize(self.decision_boundary)\n",
        "    return vectorized_decision_boundary(predictions).flatten()"
      ],
      "execution_count": 0,
      "outputs": []
    },
    {
      "cell_type": "code",
      "metadata": {
        "id": "gcb8badk3ggz",
        "colab_type": "code",
        "colab": {}
      },
      "source": [
        "# create an array of weights\n",
        "theta = np.zeros((X.shape[-1],))\n",
        "# select hyperparameters\n",
        "alpha = 0.01\n",
        "iterations = 3000\n",
        "# initialize a logistic regresison classifier\n",
        "lr_clf = BinaryLogisticRegression()"
      ],
      "execution_count": 0,
      "outputs": []
    },
    {
      "cell_type": "code",
      "metadata": {
        "id": "7Sopjj0dqUDK",
        "colab_type": "code",
        "outputId": "8d8722b5-d88a-4d3f-eb43-c372919687bb",
        "colab": {
          "base_uri": "https://localhost:8080/",
          "height": 51
        }
      },
      "source": [
        "# train logistic regression classifier\n",
        "theta = lr_clf.train(X_train[:100,:], y_train[:100], theta, alpha, iterations)\n",
        "print(theta)"
      ],
      "execution_count": 57,
      "outputs": [
        {
          "output_type": "stream",
          "text": [
            "[ 0.4166587  -0.16552625 -0.01739688  0.05034492 -4.25784903 -0.7605382\n",
            " -0.25509244  0.33766478 -0.13077055  0.23089604  0.0381135 ]\n"
          ],
          "name": "stdout"
        }
      ]
    },
    {
      "cell_type": "code",
      "metadata": {
        "id": "WcSOLWL84H9J",
        "colab_type": "code",
        "outputId": "5d2f4805-7cd9-4816-8c7b-a10605ac821c",
        "colab": {
          "base_uri": "https://localhost:8080/",
          "height": 68
        }
      },
      "source": [
        "# predict values\n",
        "y_pred = lr_clf.predict(X_test[:100,:], theta)\n",
        "# print(y_pred)\n",
        "\n",
        "# classify\n",
        "y_class = lr_clf.classify(y_pred)\n",
        "print(y_class)"
      ],
      "execution_count": 59,
      "outputs": [
        {
          "output_type": "stream",
          "text": [
            "[0 0 0 0 0 0 0 0 0 0 0 0 0 0 0 0 0 0 0 0 0 0 0 0 0 0 0 0 0 0 0 0 0 0 0 0 0\n",
            " 0 0 0 0 0 0 0 0 0 1 0 1 0 0 0 0 1 0 0 0 0 0 0 0 0 0 0 1 0 1 0 1 0 1 0 0 0\n",
            " 0 0 0 1 0 1 0 0 0 0 1 0 0 0 0 0 1 0 1 0 0 0 1 0 0 0]\n"
          ],
          "name": "stdout"
        }
      ]
    },
    {
      "cell_type": "code",
      "metadata": {
        "id": "ybuYSlfNIrNI",
        "colab_type": "code",
        "colab": {
          "base_uri": "https://localhost:8080/",
          "height": 85
        },
        "outputId": "abd55d1b-5979-4caf-98c0-4ee3159946e4"
      },
      "source": [
        "evaluate(y_test[:100], y_class)"
      ],
      "execution_count": 60,
      "outputs": [
        {
          "output_type": "stream",
          "text": [
            "Accuracy : 0.62\n",
            "Precision: 0.8461538461538461\n",
            "Recall: 0.23404255319148937\n",
            "F1 score: 0.36666666666666675\n"
          ],
          "name": "stdout"
        }
      ]
    },
    {
      "cell_type": "markdown",
      "metadata": {
        "id": "PfpFi_I4V5mA",
        "colab_type": "text"
      },
      "source": [
        "Logistic regression is pretty fast to train, however our implementation is probably not the best in terms of efficiency. The evaluation results are not great, with about 62% accuracy and low scores in recall and F1 score. However, precision is quite high, which means that it determines a collision with a pedestrian quite well."
      ]
    },
    {
      "cell_type": "markdown",
      "metadata": {
        "id": "raWB8iz378Xh",
        "colab_type": "text"
      },
      "source": [
        "### SVM classifier\n"
      ]
    },
    {
      "cell_type": "code",
      "metadata": {
        "id": "-QGrgXH0cCEx",
        "colab_type": "code",
        "colab": {}
      },
      "source": [
        "# initialize an SVM classifier (with linear kernel)\n",
        "svm_clf = svm.SVC(kernel='linear')\n",
        "# train\n",
        "svm_clf.fit(X_train, y_train)\n",
        "# predict on test data\n",
        "y_pred = svm_clf.predict(X_test)"
      ],
      "execution_count": 0,
      "outputs": []
    },
    {
      "cell_type": "code",
      "metadata": {
        "id": "FZeck4qrLj7k",
        "colab_type": "code",
        "colab": {
          "base_uri": "https://localhost:8080/",
          "height": 85
        },
        "outputId": "235028f6-de80-495d-88cf-31bd0bd02681"
      },
      "source": [
        "evaluate(y_test, y_pred)"
      ],
      "execution_count": 62,
      "outputs": [
        {
          "output_type": "stream",
          "text": [
            "Accuracy : 0.757\n",
            "Precision: 0.7212787212787213\n",
            "Recall: 0.7771797631862217\n",
            "F1 score: 0.7481865284974093\n"
          ],
          "name": "stdout"
        }
      ]
    },
    {
      "cell_type": "markdown",
      "metadata": {
        "id": "7ErikGjZWloI",
        "colab_type": "text"
      },
      "source": [
        "SVM classifier is way better in terms of evaluation. However, it takes a long time for training even on a reduced dataset of 10,000 data points. On average, SVM gets about 75% on all metrics, which is a lot compared to logistic regression classifier. Apart from that, we just use a linear kernel. Let's actually try a radial basis function kernel."
      ]
    },
    {
      "cell_type": "code",
      "metadata": {
        "id": "OEFAPL22XALY",
        "colab_type": "code",
        "colab": {
          "base_uri": "https://localhost:8080/",
          "height": 71
        },
        "outputId": "e43a5976-7aa7-4861-c0a0-e366df92216e"
      },
      "source": [
        "# initialize an SVM classifier (with rbf kernel)\n",
        "svm_rbf_clf = svm.SVC(kernel='rbf')\n",
        "# train\n",
        "svm_rbf_clf.fit(X_train, y_train)\n",
        "# predict on test data\n",
        "y_pred = svm_rbf_clf.predict(X_test)"
      ],
      "execution_count": 67,
      "outputs": [
        {
          "output_type": "stream",
          "text": [
            "/usr/local/lib/python3.6/dist-packages/sklearn/svm/base.py:193: FutureWarning: The default value of gamma will change from 'auto' to 'scale' in version 0.22 to account better for unscaled features. Set gamma explicitly to 'auto' or 'scale' to avoid this warning.\n",
            "  \"avoid this warning.\", FutureWarning)\n"
          ],
          "name": "stderr"
        }
      ]
    },
    {
      "cell_type": "code",
      "metadata": {
        "id": "QXOwRFi2XKI_",
        "colab_type": "code",
        "colab": {
          "base_uri": "https://localhost:8080/",
          "height": 85
        },
        "outputId": "b7a07ed9-644a-4937-eb22-ff2dca5ddac1"
      },
      "source": [
        "evaluate(y_test, y_pred)"
      ],
      "execution_count": 68,
      "outputs": [
        {
          "output_type": "stream",
          "text": [
            "Accuracy : 0.793\n",
            "Precision: 0.7646454265159301\n",
            "Recall: 0.8008611410118407\n",
            "F1 score: 0.7823343848580442\n"
          ],
          "name": "stdout"
        }
      ]
    },
    {
      "cell_type": "markdown",
      "metadata": {
        "id": "mjXJCE5qXOdr",
        "colab_type": "text"
      },
      "source": [
        "Trying RBF kernel gives an increase of about 5%. Moreover, it is empirically much faster in training than using a linear kernel."
      ]
    },
    {
      "cell_type": "markdown",
      "metadata": {
        "id": "waiSjGDpIw8r",
        "colab_type": "text"
      },
      "source": [
        "### Random Forest Classifier"
      ]
    },
    {
      "cell_type": "code",
      "metadata": {
        "id": "YyeKSG1lKP8g",
        "colab_type": "code",
        "outputId": "525c0791-c9af-4b3a-b989-3d9cde465760",
        "colab": {
          "base_uri": "https://localhost:8080/",
          "height": 51
        }
      },
      "source": [
        "# intiialize a Random Forest classifier\n",
        "rf_clf = RandomForestClassifier(max_features=8)\n",
        "# train it on breast cancer data\n",
        "rf_clf.fit(X_train, y_train)\n",
        "# predict on test data\n",
        "y_pred = rf_clf.predict(X_test)"
      ],
      "execution_count": 95,
      "outputs": [
        {
          "output_type": "stream",
          "text": [
            "/usr/local/lib/python3.6/dist-packages/sklearn/ensemble/forest.py:245: FutureWarning: The default value of n_estimators will change from 10 in version 0.20 to 100 in 0.22.\n",
            "  \"10 in version 0.20 to 100 in 0.22.\", FutureWarning)\n"
          ],
          "name": "stderr"
        }
      ]
    },
    {
      "cell_type": "code",
      "metadata": {
        "id": "Ke67ucbMV0rT",
        "colab_type": "code",
        "colab": {
          "base_uri": "https://localhost:8080/",
          "height": 85
        },
        "outputId": "3bd7c298-016f-4687-c618-23bb062add07"
      },
      "source": [
        "evaluate(y_test, y_pred)"
      ],
      "execution_count": 96,
      "outputs": [
        {
          "output_type": "stream",
          "text": [
            "Accuracy : 0.7915\n",
            "Precision: 0.756\n",
            "Recall: 0.813778256189451\n",
            "F1 score: 0.7838258164852256\n"
          ],
          "name": "stdout"
        }
      ]
    },
    {
      "cell_type": "markdown",
      "metadata": {
        "id": "ZLE_2sg8XYdx",
        "colab_type": "text"
      },
      "source": [
        "Random forest clasifier is a decision tree method. We hypothesize that it performs quite well on this data because the data is clustered (as observed in visualization). It is comparable to SVM with RBF kernel, while being a little bit faster. We have manually tried several hyperparameters of maximum number of features and came up with a value of 8."
      ]
    },
    {
      "cell_type": "markdown",
      "metadata": {
        "id": "nv4rGxshL5lV",
        "colab_type": "text"
      },
      "source": [
        "### kNN"
      ]
    },
    {
      "cell_type": "markdown",
      "metadata": {
        "id": "J7eeHDlGYIiW",
        "colab_type": "text"
      },
      "source": [
        "Let us employ k-fold cross validation to obtain the best hyperparameter *k*."
      ]
    },
    {
      "cell_type": "code",
      "metadata": {
        "id": "044swoXVM7Ay",
        "colab_type": "code",
        "outputId": "14ec23e2-b9f2-456a-c73b-871df774c7f3",
        "colab": {
          "base_uri": "https://localhost:8080/",
          "height": 170
        }
      },
      "source": [
        "# try different values of k\n",
        "for k in range(1, 10):\n",
        "  knn_clf = KNeighborsClassifier(n_neighbors=k)\n",
        "  scores = cross_val_score(knn_clf, X, y, cv = 5)\n",
        "  print(\"k = %.3f, cross_val_score = %.4f\"% (k, np.mean(scores)))"
      ],
      "execution_count": 98,
      "outputs": [
        {
          "output_type": "stream",
          "text": [
            "k = 1.000, cross_val_score = 0.7593\n",
            "k = 2.000, cross_val_score = 0.7625\n",
            "k = 3.000, cross_val_score = 0.7747\n",
            "k = 4.000, cross_val_score = 0.7772\n",
            "k = 5.000, cross_val_score = 0.7761\n",
            "k = 6.000, cross_val_score = 0.7832\n",
            "k = 7.000, cross_val_score = 0.7813\n",
            "k = 8.000, cross_val_score = 0.7819\n",
            "k = 9.000, cross_val_score = 0.7847\n"
          ],
          "name": "stdout"
        }
      ]
    },
    {
      "cell_type": "code",
      "metadata": {
        "id": "FVFNagKnNm6p",
        "colab_type": "code",
        "colab": {}
      },
      "source": [
        "# initialize a kNN classifier with best value of k\n",
        "knn_clf = KNeighborsClassifier(n_neighbors= 9)\n",
        "# train it on breast cancer data\n",
        "knn_clf.fit(X_train, y_train)\n",
        "# predict on test data\n",
        "y_pred = knn_clf.predict(X_test)"
      ],
      "execution_count": 0,
      "outputs": []
    },
    {
      "cell_type": "code",
      "metadata": {
        "id": "OAwcAFaJOj0z",
        "colab_type": "code",
        "outputId": "9fe8e267-8c85-4639-e5af-bb61e76f39f5",
        "colab": {
          "base_uri": "https://localhost:8080/",
          "height": 85
        }
      },
      "source": [
        "evaluate(y_test, y_pred)"
      ],
      "execution_count": 100,
      "outputs": [
        {
          "output_type": "stream",
          "text": [
            "Accuracy : 0.781\n",
            "Precision: 0.7497456765005086\n",
            "Recall: 0.7933261571582346\n",
            "F1 score: 0.7709205020920502\n"
          ],
          "name": "stdout"
        }
      ]
    },
    {
      "cell_type": "markdown",
      "metadata": {
        "id": "s40sg0FKYXVH",
        "colab_type": "text"
      },
      "source": [
        "k-Nearest Neighbors also performs pretty well on this task. It reaches about the same average evaluation score as the previous two models, while being a much simpler model."
      ]
    },
    {
      "cell_type": "markdown",
      "metadata": {
        "id": "mY3ZBtbV21-3",
        "colab_type": "text"
      },
      "source": [
        "### Neural networks"
      ]
    },
    {
      "cell_type": "code",
      "metadata": {
        "id": "vCFFB-0nfekZ",
        "colab_type": "code",
        "colab": {}
      },
      "source": [
        "# initialize an MLP classifier\n",
        "mlp_clf = MLPClassifier(hidden_layer_sizes=(30,30,30))\n",
        "# train\n",
        "mlp_clf.fit(X_train, y_train)\n",
        "# predict\n",
        "y_pred = mlp_clf.predict(X_test)"
      ],
      "execution_count": 0,
      "outputs": []
    },
    {
      "cell_type": "code",
      "metadata": {
        "id": "_rq5kGHM76SL",
        "colab_type": "code",
        "colab": {
          "base_uri": "https://localhost:8080/",
          "height": 85
        },
        "outputId": "91c8b7b8-02fe-452a-c943-2de6fa770cdd"
      },
      "source": [
        "evaluate(y_test, y_pred)"
      ],
      "execution_count": 103,
      "outputs": [
        {
          "output_type": "stream",
          "text": [
            "Accuracy : 0.772\n",
            "Precision: 0.7094774136403897\n",
            "Recall: 0.8622174381054898\n",
            "F1 score: 0.7784256559766763\n"
          ],
          "name": "stdout"
        }
      ]
    },
    {
      "cell_type": "markdown",
      "metadata": {
        "id": "KCVPX2zYY7LK",
        "colab_type": "text"
      },
      "source": [
        "A neural network does not outperform random forest and SVM in accuracy, but it shows a better score for recall. Let us try different number of neurons in each layer, and then increasing number of layers."
      ]
    },
    {
      "cell_type": "code",
      "metadata": {
        "id": "28jM__uZZNCz",
        "colab_type": "code",
        "colab": {
          "base_uri": "https://localhost:8080/",
          "height": 85
        },
        "outputId": "5f576dd5-dd97-4cdf-fddd-3544ad96f940"
      },
      "source": [
        "# initialize an MLP classifier\n",
        "mlp_clf = MLPClassifier(hidden_layer_sizes=(128,128,128))\n",
        "# train\n",
        "mlp_clf.fit(X_train, y_train)\n",
        "# predict\n",
        "y_pred = mlp_clf.predict(X_test)\n",
        "# evaluate\n",
        "evaluate(y_test, y_pred)"
      ],
      "execution_count": 107,
      "outputs": [
        {
          "output_type": "stream",
          "text": [
            "Accuracy : 0.779\n",
            "Precision: 0.7191719171917191\n",
            "Recall: 0.860064585575888\n",
            "F1 score: 0.7833333333333332\n"
          ],
          "name": "stdout"
        }
      ]
    },
    {
      "cell_type": "code",
      "metadata": {
        "id": "pM_EaUQyZYjT",
        "colab_type": "code",
        "colab": {
          "base_uri": "https://localhost:8080/",
          "height": 85
        },
        "outputId": "0cb60624-8433-488f-840f-0f93c6e8f63e"
      },
      "source": [
        "# initialize an MLP classifier\n",
        "mlp_clf = MLPClassifier(hidden_layer_sizes=(32,64,32))\n",
        "# train\n",
        "mlp_clf.fit(X_train, y_train)\n",
        "# predict\n",
        "y_pred = mlp_clf.predict(X_test)\n",
        "# evaluate\n",
        "evaluate(y_test, y_pred)"
      ],
      "execution_count": 108,
      "outputs": [
        {
          "output_type": "stream",
          "text": [
            "Accuracy : 0.7855\n",
            "Precision: 0.7376425855513308\n",
            "Recall: 0.8353067814854682\n",
            "F1 score: 0.7834427057041896\n"
          ],
          "name": "stdout"
        }
      ]
    },
    {
      "cell_type": "code",
      "metadata": {
        "id": "LjasW7UmZY81",
        "colab_type": "code",
        "colab": {
          "base_uri": "https://localhost:8080/",
          "height": 85
        },
        "outputId": "457b67c3-493a-4181-8397-4dbe8937b64f"
      },
      "source": [
        "# initialize an MLP classifier\n",
        "mlp_clf = MLPClassifier(hidden_layer_sizes=(32,64,128,64,32))\n",
        "# train\n",
        "mlp_clf.fit(X_train, y_train)\n",
        "# predict\n",
        "y_pred = mlp_clf.predict(X_test)\n",
        "# evaluate\n",
        "evaluate(y_test, y_pred)"
      ],
      "execution_count": 109,
      "outputs": [
        {
          "output_type": "stream",
          "text": [
            "Accuracy : 0.786\n",
            "Precision: 0.7767955801104972\n",
            "Recall: 0.7567276641550054\n",
            "F1 score: 0.7666303162486368\n"
          ],
          "name": "stdout"
        }
      ]
    },
    {
      "cell_type": "code",
      "metadata": {
        "id": "ND-PabCtZZeW",
        "colab_type": "code",
        "colab": {
          "base_uri": "https://localhost:8080/",
          "height": 85
        },
        "outputId": "eb178564-5323-4447-d085-129908143670"
      },
      "source": [
        "# initialize an MLP classifier\n",
        "mlp_clf = MLPClassifier(hidden_layer_sizes=(32,64,128,256,64))\n",
        "# train\n",
        "mlp_clf.fit(X_train, y_train)\n",
        "# predict\n",
        "y_pred = mlp_clf.predict(X_test)\n",
        "# evaluate\n",
        "evaluate(y_test, y_pred)"
      ],
      "execution_count": 110,
      "outputs": [
        {
          "output_type": "stream",
          "text": [
            "Accuracy : 0.7875\n",
            "Precision: 0.7603305785123967\n",
            "Recall: 0.7922497308934338\n",
            "F1 score: 0.775962045334739\n"
          ],
          "name": "stdout"
        }
      ]
    },
    {
      "cell_type": "code",
      "metadata": {
        "id": "yA10_rPqa7zW",
        "colab_type": "code",
        "colab": {
          "base_uri": "https://localhost:8080/",
          "height": 85
        },
        "outputId": "dfe92d17-894c-4b92-94c1-c0e9b24ef1e3"
      },
      "source": [
        "# initialize an MLP classifier\n",
        "mlp_clf = MLPClassifier(hidden_layer_sizes=(64,128,128,128,64,64,64))\n",
        "# train\n",
        "mlp_clf.fit(X_train, y_train)\n",
        "# predict\n",
        "y_pred = mlp_clf.predict(X_test)\n",
        "# evaluate\n",
        "evaluate(y_test, y_pred)"
      ],
      "execution_count": 111,
      "outputs": [
        {
          "output_type": "stream",
          "text": [
            "Accuracy : 0.786\n",
            "Precision: 0.7606659729448492\n",
            "Recall: 0.7868675995694295\n",
            "F1 score: 0.7735449735449735\n"
          ],
          "name": "stdout"
        }
      ]
    },
    {
      "cell_type": "markdown",
      "metadata": {
        "id": "eK7_OVU0anbX",
        "colab_type": "text"
      },
      "source": [
        "As you can see, trying different configurations do not affect the scores that much, but the recall score decreases with deeper networks."
      ]
    },
    {
      "cell_type": "markdown",
      "metadata": {
        "id": "KGKZvNinci5S",
        "colab_type": "text"
      },
      "source": [
        "### LDA "
      ]
    },
    {
      "cell_type": "code",
      "metadata": {
        "id": "FLYTdl4Rd9BO",
        "colab_type": "code",
        "colab": {
          "base_uri": "https://localhost:8080/",
          "height": 85
        },
        "outputId": "a7ce8da9-41f9-4e3a-e85e-4f07c71ab7bb"
      },
      "source": [
        "# initialize LDA classifier\n",
        "lda_clf = LinearDiscriminantAnalysis()\n",
        "# train LDA classifier\n",
        "lda_clf.fit(X_train, y_train)\n",
        "# predict values\n",
        "y_pred = lda_clf.predict(X_test)\n",
        "# evaluate\n",
        "evaluate(y_test, y_pred)"
      ],
      "execution_count": 112,
      "outputs": [
        {
          "output_type": "stream",
          "text": [
            "Accuracy : 0.762\n",
            "Precision: 0.7381703470031545\n",
            "Recall: 0.7556512378902045\n",
            "F1 score: 0.7468085106382977\n"
          ],
          "name": "stdout"
        }
      ]
    },
    {
      "cell_type": "markdown",
      "metadata": {
        "id": "7kEU5_Wr8BSP",
        "colab_type": "text"
      },
      "source": [
        "### QDA"
      ]
    },
    {
      "cell_type": "code",
      "metadata": {
        "id": "0Fz98oy3ef__",
        "colab_type": "code",
        "outputId": "8b1b0890-54ce-44b8-d8f4-e7a24e584a5a",
        "colab": {
          "base_uri": "https://localhost:8080/",
          "height": 85
        }
      },
      "source": [
        "# initialize QDA classifier\n",
        "qda_clf = QuadraticDiscriminantAnalysis()\n",
        "# train QDA classifier\n",
        "qda_clf.fit(X_train, y_train)\n",
        "# predict values\n",
        "y_pred = qda_clf.predict(X_test)\n",
        "# evaluate\n",
        "evaluate(y_test, y_pred)"
      ],
      "execution_count": 113,
      "outputs": [
        {
          "output_type": "stream",
          "text": [
            "Accuracy : 0.671\n",
            "Precision: 0.5958952583156405\n",
            "Recall: 0.9063509149623251\n",
            "F1 score: 0.7190435525192143\n"
          ],
          "name": "stdout"
        }
      ]
    },
    {
      "cell_type": "markdown",
      "metadata": {
        "id": "_Yz-3S_YbnVN",
        "colab_type": "text"
      },
      "source": [
        "LDA performs about the same as the previous models, with ~75% on all metrics. However, QDA has a much lower score (except for recall). This means that quadratic decision boundaries are not suited for the data we have."
      ]
    },
    {
      "cell_type": "markdown",
      "metadata": {
        "id": "o41eLbSmuV_E",
        "colab_type": "text"
      },
      "source": [
        "## Conclusion"
      ]
    },
    {
      "cell_type": "markdown",
      "metadata": {
        "id": "EHvNhaC0uakB",
        "colab_type": "text"
      },
      "source": [
        "After preprocessing and analyzing the data on car accidents in Kazakhstan, we can conclude that we can classify car accidents into two categories (collisions with cars and collisions with pedestrians) with a relatively high accuracy (and other metrics). The best classifiers for this problem are random forest and SVM. However, LDA, kNN, and neural networks also achieve good results. Logistic regression and QDA were a little bit worse as shown by evaluation. "
      ]
    },
    {
      "cell_type": "markdown",
      "metadata": {
        "id": "QtGqvS7GuTyj",
        "colab_type": "text"
      },
      "source": [
        "## Limitations and further improvements"
      ]
    },
    {
      "cell_type": "markdown",
      "metadata": {
        "id": "r7L7Fbc5uaM2",
        "colab_type": "text"
      },
      "source": [
        "There are clearly many limitations to our study. One of them is that we have devoted too little for the classification itself. The reason for that is the difficulty of preprocessing the data. We had to manually inspect the features and design specific transformations to convert the data. \n",
        "\n",
        "We could have also added more features into the data. For instance, we had coordinates of each car accident. Adding some features, e.g. population of that location, distance from the centre etc. Experimenting with augmented features is a good way to analyze what is important in a problem and could possibly further improve the metrics in classification.\n",
        "\n",
        "We have initially selected type of accident as a target variable. However, there are also different features which could have been classified, or even predicted with regression. An example of another setting is to predict the number of injured or dead people in a car accident (however this is probably an unbalanced situation, since most of the accidents have 1-3 injured and 0 dead people)."
      ]
    },
    {
      "cell_type": "code",
      "metadata": {
        "id": "w9PmlZ8wejzu",
        "colab_type": "code",
        "colab": {}
      },
      "source": [
        ""
      ],
      "execution_count": 0,
      "outputs": []
    }
  ]
}