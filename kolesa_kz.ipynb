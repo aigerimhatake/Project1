{
  "nbformat": 4,
  "nbformat_minor": 0,
  "metadata": {
    "colab": {
      "name": "Копия блокнота \"ML_report.ipynb\"",
      "provenance": [],
      "collapsed_sections": []
    },
    "kernelspec": {
      "name": "python3",
      "display_name": "Python 3"
    }
  },
  "cells": [
    {
      "cell_type": "code",
      "metadata": {
        "id": "apKLrUM6nRZk"
      },
      "source": [
        "import requests\n",
        "import urllib.request\n",
        "import time\n",
        "from bs4 import BeautifulSoup"
      ],
      "execution_count": null,
      "outputs": []
    },
    {
      "cell_type": "code",
      "metadata": {
        "id": "4mTNXtCqnU5a"
      },
      "source": [
        "cars = []\n",
        "url = \"https://kolesa.kz/cars/?year[from]=1990&year[to]=2017&price[from]=15%20000%20000&page={}\"\n",
        "url = \"https://kolesa.kz/cars/\"\n",
        "import time\n",
        "\n",
        "print(url.format('123'))"
      ],
      "execution_count": null,
      "outputs": []
    },
    {
      "cell_type": "code",
      "metadata": {
        "id": "2y48bLbmnW16"
      },
      "source": [
        "attr_to_index = {'Марка':0, \n",
        "                 'Год':1, \n",
        "                 'Цена':2, \n",
        "                 'Город':3, \n",
        "                 'Кузов':4,\n",
        "                 'Объем двигателя, л':5,\n",
        "                 'Пробег':6,\n",
        "                 'Коробка передач':7,\n",
        "                 'Руль':8,\n",
        "                 'Цвет':9,\n",
        "                 'Привод':10,\n",
        "                 'Растаможен':11,\n",
        "                 'VIN':12,\n",
        "                 'Бензин':13}\n",
        "for i in range(1, 500):\n",
        "    source = urllib.request.urlopen(url.format(i+1)).read()\n",
        "    soup = BeautifulSoup(source)   \n",
        "    #print(soup)\n",
        "#     break\n",
        "    #print(soup.title)\n",
        "    divs = soup.findAll('div', {'class': 'a-info-side col-right-list'})\n",
        "    for div in divs:\n",
        "        \n",
        "        line = [None for _ in range(14)]\n",
        "        line[0] = div.find('a', {'class': 'list-link ddl_product_link'}).string\n",
        "#         line.append(div.find('div', {'class': 'list-region'}).string.strip())\n",
        "        line[1] = div.find('div', {'class': 'a-search-description'}).string.strip()[:4]\n",
        "        line[2] = str(div.find('span', {'class': 'price'}).text).strip()[:-2].replace(u'\\xa0', u'')\n",
        "        href = div.find('a', href=True)[\"href\"]\n",
        "        car_url = \"https://kolesa.kz{}\".format(href)\n",
        "        car_source = urllib.request.urlopen(car_url).read()\n",
        "        car_soup = BeautifulSoup(car_source)\n",
        "        car_attr = car_soup.findAll('div', {'class': 'offer__parameters'})[0]\n",
        "        car_attr = car_attr.findAll('dl')\n",
        "#         print(car_attr)\n",
        "        for attr in car_attr:\n",
        "            attr_type = attr.find('dt')\n",
        "#             print(attr_type)\n",
        "            if attr_type.string == \"Наличие\":\n",
        "                continue\n",
        "            try:\n",
        "                attr_type = attr_type['title']\n",
        "            except:\n",
        "                continue\n",
        "            \n",
        "            if (attr_type == \"Объем двигателя, л\"):\n",
        "                engine_volume = attr.find('dd').string.split()[0]\n",
        "                is_petroleum = attr.find('dd').string.split()[1]\n",
        "                line[attr_to_index[attr_type]] = engine_volume\n",
        "                line[attr_to_index[\"Бензин\"]] = is_petroleum[1:-1]\n",
        "            elif (attr_type == \"Пробег\"):\n",
        "                attr_str = attr.find('dd').string.strip()[:-3]\n",
        "                val_str = \"\".join(attr_str.split())\n",
        "                line[attr_to_index[attr_type]] = int(val_str)\n",
        "            else:\n",
        "                attr_value = attr.find('dd').string.strip()\n",
        "                try:\n",
        "                    line[attr_to_index[attr_type]] = attr_value\n",
        "                except:\n",
        "                    continue\n",
        "            \n",
        "        #print(line)\n",
        "        cars.append(line)\n",
        "\n",
        "\n",
        "\n",
        "import csv\n",
        "with open(\"kolesa_cars.csv\", 'w', newline='\\n') as myfile:\n",
        "    wr = csv.writer(myfile)\n",
        "    for c in cars:\n",
        "        wr.writerow(c)"
      ],
      "execution_count": null,
      "outputs": []
    },
    {
      "cell_type": "code",
      "metadata": {
        "id": "WYeU7tvVnfKi"
      },
      "source": [
        "print(cars[0:2])"
      ],
      "execution_count": null,
      "outputs": []
    },
    {
      "cell_type": "code",
      "metadata": {
        "id": "A3aRGug3nfrr"
      },
      "source": [
        "cars_with_probeg = []\n",
        "for c in cars:\n",
        "    if (c[6] != None):\n",
        "        cars_with_probeg.append(c)"
      ],
      "execution_count": null,
      "outputs": []
    },
    {
      "cell_type": "code",
      "metadata": {
        "id": "nx66le7bnhhr"
      },
      "source": [
        "len(cars_with_probeg)"
      ],
      "execution_count": null,
      "outputs": []
    },
    {
      "cell_type": "code",
      "metadata": {
        "id": "TNVh25EQnk77"
      },
      "source": [
        "import copy\n",
        "\n",
        "cars_copy = copy.copy(cars_with_probeg)"
      ],
      "execution_count": null,
      "outputs": []
    },
    {
      "cell_type": "code",
      "metadata": {
        "id": "OdXqqpQVnrsj"
      },
      "source": [
        "cars = cars_with_probeg\n",
        "\n",
        "import pandas as pd\n",
        "import numpy as np\n",
        "import math\n",
        "\n",
        "attr_to_index = {'Марка':0, \n",
        "                 'Год':1, \n",
        "                 'Цена':2, \n",
        "                 'Город':3, \n",
        "                 'Кузов':4,\n",
        "                 'Объем двигателя, л':5,\n",
        "                 'Пробег':6,\n",
        "                 'Коробка передач':7,\n",
        "                 'Руль':8,\n",
        "                 'Цвет':9,\n",
        "                 'Привод':10,\n",
        "                 'Растаможен':11,\n",
        "                 'VIN':12,\n",
        "                 'Бензин':13}\n",
        "\n",
        "X = None\n",
        "for idx in [0, 3, 4, 7, 8, 9, 11, 13]:    \n",
        "    categorical_feats = [c[idx] for c in cars]\n",
        "#     for f in categorical_feats:\n",
        "#         if (f == None):\n",
        "#             print(\"omitting feature {}\".format(idx))\n",
        "    unique_feats = set(categorical_feats)\n",
        "    print(len(unique_feats))\n",
        "#     if idx in [7,8,9,10,11,13]:\n",
        "    print(unique_feats)\n",
        "    s = pd.Series(categorical_feats)\n",
        "    dummies = pd.get_dummies(s)\n",
        "    if X is None:\n",
        "        X = dummies.values\n",
        "    else:\n",
        "        X = np.append(X, dummies.values, axis=1)\n",
        "    print(\"X shape = {}\".format(X.shape))\n",
        "    print(\"dummies shape = {}\".format(dummies.values.shape))\n",
        "    \n",
        "for idx in [1, 5, 6]:\n",
        "    numeric_feats = [c[idx] for c in cars]\n",
        "    numeric_feats = np.expand_dims(np.array(numeric_feats), axis=1)\n",
        "    print(\"X shape = {}\".format(X.shape))\n",
        "    print(\"features shape = {}\".format(numeric_feats.shape))\n",
        "    X = np.append(X, numeric_feats, axis=1)\n",
        "\n",
        "y = np.array([c[2] for c in cars])\n"
      ],
      "execution_count": null,
      "outputs": []
    },
    {
      "cell_type": "code",
      "metadata": {
        "id": "vBjlF_nZntqb"
      },
      "source": [
        "dataset_size = X.shape[0]\n",
        "train_size = math.floor(dataset_size * 0.8)\n",
        "test_size = dataset_size - train_size\n",
        "print(\"train_size = {}\".format(train_size))\n",
        "print(\"test_size = {}\".format(test_size))\n",
        "print(\"dataset_size = {}\".format(dataset_size))\n",
        "\n",
        "X_train = X[:train_size].astype(np.float32)\n",
        "y_train = y[:train_size].astype(np.float32)\n",
        "\n",
        "X_test = X[train_size:].astype(np.float32)\n",
        "y_test = y[train_size:].astype(np.float32)\n",
        "\n",
        "print(\"X_train = {}\".format(X_train.shape))"
      ],
      "execution_count": null,
      "outputs": []
    },
    {
      "cell_type": "markdown",
      "metadata": {
        "id": "zw0vdf02Bo3H"
      },
      "source": [
        "#Methods\n"
      ]
    },
    {
      "cell_type": "code",
      "metadata": {
        "id": "9t6MBFJynaiC"
      },
      "source": [
        "import random\n",
        "import copy\n",
        "\n",
        "class Lasso():\n",
        "    \n",
        "    def __init__(self, num_weights, lambd, num_iters=1000):\n",
        "        self.num_weights = num_weights\n",
        "        self.w = np.ones((num_weights,)).astype(np.float)\n",
        "        self.lambd = lambd\n",
        "        self.is_converged = False\n",
        "        self.num_iters = num_iters\n",
        "    def fit(self, X, y):\n",
        "        weights = []\n",
        "        for _ in range(self.num_iters):\n",
        "            i = random.choice(range(self.num_weights))\n",
        "            r = -y\n",
        "            for j in range(X.shape[1]):\n",
        "                if j != i:\n",
        "                    r += np.dot(X[:,j], self.w[j])\n",
        "            a = -2 * np.dot(X[:,i], r)\n",
        "            b = 2 * np.sum(np.square(X[:,i]))\n",
        "            if abs(a) <= self.lambd:\n",
        "                self.w[i] = 0.0\n",
        "            else: \n",
        "                det = (-self.lambd + a) / b\n",
        "                if det > 0:\n",
        "                    self.w[i] = det\n",
        "                else:\n",
        "                    self.w[i] = (self.lambd + a) / b\n",
        "            if len(weights) == 3:\n",
        "#                 print(self.w)\n",
        "                prev_mean = np.array(weights).mean()\n",
        "                if np.linalg.norm(prev_mean - self.w) < 0.1:\n",
        "                    break\n",
        "                w_copy = copy.copy(weights)\n",
        "                weights = []\n",
        "                for w_i in range(2):\n",
        "                    weights.append(w_copy[w_i+1])\n",
        "                weights.append(self.w)\n",
        "            else:\n",
        "                weights.append(self.w)\n",
        "        \n",
        "    def predict(self, X):\n",
        "        return np.dot(X, self.w)"
      ],
      "execution_count": null,
      "outputs": []
    },
    {
      "cell_type": "code",
      "metadata": {
        "id": "kEla3xl3n3Cr"
      },
      "source": [
        "import numpy as np\n",
        "import sklearn\n",
        "from sklearn.linear_model import LinearRegression\n",
        "from sklearn.neural_network import MLPRegressor\n",
        "\n",
        "\n",
        "reg = LinearRegression().fit(X_train, y_train)\n",
        "print(reg.score(X_train, y_train))\n",
        "print(reg.score(X_test, y_test))\n",
        "\n",
        "y_pred = reg.predict(X_test)\n",
        "\n",
        "print(\"Mean error = {}\".format(math.sqrt(sklearn.metrics.mean_squared_error(y_pred, y_test))))\n",
        "\n",
        "lasso_model = Lasso(X_train.shape[1], 0.01)\n",
        "lasso_model.fit(X_train, y_train)\n",
        "y_pred = lasso_model.predict(X_test)\n",
        "print(\"Mean error = {}\".format(math.sqrt(sklearn.metrics.mean_squared_error(y_pred, y_test))))\n",
        "\n",
        "scikit_lasso = sklearn.linear_model.Lasso()\n",
        "scikit_lasso.fit(X_train, y_train)\n",
        "y_pred = scikit_lasso.predict(X_test)\n",
        "print(\"Mean error = {}\".format(math.sqrt(sklearn.metrics.mean_squared_error(y_pred, y_test))))\n",
        "\n",
        "scikit_ridge = sklearn.linear_model.Ridge()\n",
        "scikit_ridge.fit(X_train, y_train)\n",
        "y_pred = scikit_ridge.predict(X_test)\n",
        "print(\"Mean error = {}\".format(math.sqrt(sklearn.metrics.mean_squared_error(y_pred, y_test))))\n",
        "\n",
        "nn = MLPRegressor((100, 100, 100))\n",
        "nn.fit(X_train, y_train)\n",
        "y_pred = nn.predict(X_test)\n",
        "print(\"Mean error = {}\".format(math.sqrt(sklearn.metrics.mean_squared_error(y_pred, y_test))))"
      ],
      "execution_count": null,
      "outputs": []
    }
  ]
}