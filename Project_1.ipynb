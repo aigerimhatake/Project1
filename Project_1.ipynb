{
  "nbformat": 4,
  "nbformat_minor": 0,
  "metadata": {
    "kernelspec": {
      "display_name": "Python 2",
      "language": "python",
      "name": "python2"
    },
    "language_info": {
      "codemirror_mode": {
        "name": "ipython",
        "version": 2
      },
      "file_extension": ".py",
      "mimetype": "text/x-python",
      "name": "python",
      "nbconvert_exporter": "python",
      "pygments_lexer": "ipython2",
      "version": "2.7.15"
    },
    "colab": {
      "name": "Project_1.ipynb",
      "provenance": [],
      "toc_visible": true
    }
  },
  "cells": [
    {
      "cell_type": "code",
      "metadata": {
        "id": "M2005YTAwYeZ"
      },
      "source": [
        "import pandas as pd\n",
        "import numpy as np\n",
        "import sklearn\n",
        "from sklearn.model_selection import train_test_split\n",
        "from sklearn.preprocessing import Imputer\n"
      ],
      "execution_count": 3,
      "outputs": []
    },
    {
      "cell_type": "code",
      "metadata": {
        "id": "AjI3TWLTwYeu"
      },
      "source": [
        "file = 'data.csv'\n",
        "df = pd.read_csv(file)\n"
      ],
      "execution_count": 4,
      "outputs": []
    },
    {
      "cell_type": "code",
      "metadata": {
        "id": "n4VAaqJKwYex"
      },
      "source": [
        "df['prestige1']= df['prestige']\n",
        "df = df.drop(['prestige'], axis=1)"
      ],
      "execution_count": 5,
      "outputs": []
    },
    {
      "cell_type": "code",
      "metadata": {
        "id": "U5vD3yJ-wYez"
      },
      "source": [
        "df = df.drop(['job'],axis=1)"
      ],
      "execution_count": 6,
      "outputs": []
    },
    {
      "cell_type": "code",
      "metadata": {
        "colab": {
          "base_uri": "https://localhost:8080/",
          "height": 195
        },
        "id": "S5W9cyRuwYe0",
        "outputId": "47bb2061-ce18-4ae6-bfb0-f4e2a8617125"
      },
      "source": [
        "df.head()"
      ],
      "execution_count": 7,
      "outputs": [
        {
          "output_type": "execute_result",
          "data": {
            "text/plain": [
              "   education  income  women  census  type  prestige1\n",
              "0      13.11   12351  11.16    1113  prof       68.8\n",
              "1      12.26   25879   4.02    1130  prof       69.1\n",
              "2      12.77    9271  15.70    1171  prof       63.4\n",
              "3      11.42    8865   9.11    1175  prof       56.8\n",
              "4      14.62    8403  11.68    2111  prof       73.5"
            ],
            "text/html": [
              "<div>\n",
              "<style scoped>\n",
              "    .dataframe tbody tr th:only-of-type {\n",
              "        vertical-align: middle;\n",
              "    }\n",
              "\n",
              "    .dataframe tbody tr th {\n",
              "        vertical-align: top;\n",
              "    }\n",
              "\n",
              "    .dataframe thead th {\n",
              "        text-align: right;\n",
              "    }\n",
              "</style>\n",
              "<table border=\"1\" class=\"dataframe\">\n",
              "  <thead>\n",
              "    <tr style=\"text-align: right;\">\n",
              "      <th></th>\n",
              "      <th>education</th>\n",
              "      <th>income</th>\n",
              "      <th>women</th>\n",
              "      <th>census</th>\n",
              "      <th>type</th>\n",
              "      <th>prestige1</th>\n",
              "    </tr>\n",
              "  </thead>\n",
              "  <tbody>\n",
              "    <tr>\n",
              "      <th>0</th>\n",
              "      <td>13.11</td>\n",
              "      <td>12351</td>\n",
              "      <td>11.16</td>\n",
              "      <td>1113</td>\n",
              "      <td>prof</td>\n",
              "      <td>68.8</td>\n",
              "    </tr>\n",
              "    <tr>\n",
              "      <th>1</th>\n",
              "      <td>12.26</td>\n",
              "      <td>25879</td>\n",
              "      <td>4.02</td>\n",
              "      <td>1130</td>\n",
              "      <td>prof</td>\n",
              "      <td>69.1</td>\n",
              "    </tr>\n",
              "    <tr>\n",
              "      <th>2</th>\n",
              "      <td>12.77</td>\n",
              "      <td>9271</td>\n",
              "      <td>15.70</td>\n",
              "      <td>1171</td>\n",
              "      <td>prof</td>\n",
              "      <td>63.4</td>\n",
              "    </tr>\n",
              "    <tr>\n",
              "      <th>3</th>\n",
              "      <td>11.42</td>\n",
              "      <td>8865</td>\n",
              "      <td>9.11</td>\n",
              "      <td>1175</td>\n",
              "      <td>prof</td>\n",
              "      <td>56.8</td>\n",
              "    </tr>\n",
              "    <tr>\n",
              "      <th>4</th>\n",
              "      <td>14.62</td>\n",
              "      <td>8403</td>\n",
              "      <td>11.68</td>\n",
              "      <td>2111</td>\n",
              "      <td>prof</td>\n",
              "      <td>73.5</td>\n",
              "    </tr>\n",
              "  </tbody>\n",
              "</table>\n",
              "</div>"
            ]
          },
          "metadata": {
            "tags": []
          },
          "execution_count": 7
        }
      ]
    },
    {
      "cell_type": "code",
      "metadata": {
        "id": "G2hS55VSwYe1"
      },
      "source": [
        "df=df.fillna('other')"
      ],
      "execution_count": 8,
      "outputs": []
    },
    {
      "cell_type": "code",
      "metadata": {
        "colab": {
          "base_uri": "https://localhost:8080/",
          "height": 166
        },
        "id": "i7MRUyOswYe2",
        "outputId": "941ed2d0-7b33-4f20-da16-546d32d12628"
      },
      "source": [
        "df[df.type=='other']"
      ],
      "execution_count": 9,
      "outputs": [
        {
          "output_type": "execute_result",
          "data": {
            "text/plain": [
              "    education  income  women  census   type  prestige1\n",
              "33      11.44    8206   8.13    3373  other       54.1\n",
              "52       9.62     918   7.00    5143  other       14.8\n",
              "62       9.46     611  96.53    6147  other       25.9\n",
              "66       6.84    3643   3.60    7112  other       44.1"
            ],
            "text/html": [
              "<div>\n",
              "<style scoped>\n",
              "    .dataframe tbody tr th:only-of-type {\n",
              "        vertical-align: middle;\n",
              "    }\n",
              "\n",
              "    .dataframe tbody tr th {\n",
              "        vertical-align: top;\n",
              "    }\n",
              "\n",
              "    .dataframe thead th {\n",
              "        text-align: right;\n",
              "    }\n",
              "</style>\n",
              "<table border=\"1\" class=\"dataframe\">\n",
              "  <thead>\n",
              "    <tr style=\"text-align: right;\">\n",
              "      <th></th>\n",
              "      <th>education</th>\n",
              "      <th>income</th>\n",
              "      <th>women</th>\n",
              "      <th>census</th>\n",
              "      <th>type</th>\n",
              "      <th>prestige1</th>\n",
              "    </tr>\n",
              "  </thead>\n",
              "  <tbody>\n",
              "    <tr>\n",
              "      <th>33</th>\n",
              "      <td>11.44</td>\n",
              "      <td>8206</td>\n",
              "      <td>8.13</td>\n",
              "      <td>3373</td>\n",
              "      <td>other</td>\n",
              "      <td>54.1</td>\n",
              "    </tr>\n",
              "    <tr>\n",
              "      <th>52</th>\n",
              "      <td>9.62</td>\n",
              "      <td>918</td>\n",
              "      <td>7.00</td>\n",
              "      <td>5143</td>\n",
              "      <td>other</td>\n",
              "      <td>14.8</td>\n",
              "    </tr>\n",
              "    <tr>\n",
              "      <th>62</th>\n",
              "      <td>9.46</td>\n",
              "      <td>611</td>\n",
              "      <td>96.53</td>\n",
              "      <td>6147</td>\n",
              "      <td>other</td>\n",
              "      <td>25.9</td>\n",
              "    </tr>\n",
              "    <tr>\n",
              "      <th>66</th>\n",
              "      <td>6.84</td>\n",
              "      <td>3643</td>\n",
              "      <td>3.60</td>\n",
              "      <td>7112</td>\n",
              "      <td>other</td>\n",
              "      <td>44.1</td>\n",
              "    </tr>\n",
              "  </tbody>\n",
              "</table>\n",
              "</div>"
            ]
          },
          "metadata": {
            "tags": []
          },
          "execution_count": 9
        }
      ]
    },
    {
      "cell_type": "code",
      "metadata": {
        "id": "iCrT8pabwYe3"
      },
      "source": [
        "df = pd.get_dummies(df,prefix=['type'])\n"
      ],
      "execution_count": 10,
      "outputs": []
    },
    {
      "cell_type": "code",
      "metadata": {
        "colab": {
          "base_uri": "https://localhost:8080/",
          "height": 195
        },
        "id": "i0tQcd9wwYe4",
        "outputId": "adfb079b-9c44-4db7-9d77-51f22fba56dd"
      },
      "source": [
        "df.head()"
      ],
      "execution_count": 11,
      "outputs": [
        {
          "output_type": "execute_result",
          "data": {
            "text/plain": [
              "   education  income  women  census  prestige1  type_bc  type_other  \\\n",
              "0      13.11   12351  11.16    1113       68.8        0           0   \n",
              "1      12.26   25879   4.02    1130       69.1        0           0   \n",
              "2      12.77    9271  15.70    1171       63.4        0           0   \n",
              "3      11.42    8865   9.11    1175       56.8        0           0   \n",
              "4      14.62    8403  11.68    2111       73.5        0           0   \n",
              "\n",
              "   type_prof  type_wc  \n",
              "0          1        0  \n",
              "1          1        0  \n",
              "2          1        0  \n",
              "3          1        0  \n",
              "4          1        0  "
            ],
            "text/html": [
              "<div>\n",
              "<style scoped>\n",
              "    .dataframe tbody tr th:only-of-type {\n",
              "        vertical-align: middle;\n",
              "    }\n",
              "\n",
              "    .dataframe tbody tr th {\n",
              "        vertical-align: top;\n",
              "    }\n",
              "\n",
              "    .dataframe thead th {\n",
              "        text-align: right;\n",
              "    }\n",
              "</style>\n",
              "<table border=\"1\" class=\"dataframe\">\n",
              "  <thead>\n",
              "    <tr style=\"text-align: right;\">\n",
              "      <th></th>\n",
              "      <th>education</th>\n",
              "      <th>income</th>\n",
              "      <th>women</th>\n",
              "      <th>census</th>\n",
              "      <th>prestige1</th>\n",
              "      <th>type_bc</th>\n",
              "      <th>type_other</th>\n",
              "      <th>type_prof</th>\n",
              "      <th>type_wc</th>\n",
              "    </tr>\n",
              "  </thead>\n",
              "  <tbody>\n",
              "    <tr>\n",
              "      <th>0</th>\n",
              "      <td>13.11</td>\n",
              "      <td>12351</td>\n",
              "      <td>11.16</td>\n",
              "      <td>1113</td>\n",
              "      <td>68.8</td>\n",
              "      <td>0</td>\n",
              "      <td>0</td>\n",
              "      <td>1</td>\n",
              "      <td>0</td>\n",
              "    </tr>\n",
              "    <tr>\n",
              "      <th>1</th>\n",
              "      <td>12.26</td>\n",
              "      <td>25879</td>\n",
              "      <td>4.02</td>\n",
              "      <td>1130</td>\n",
              "      <td>69.1</td>\n",
              "      <td>0</td>\n",
              "      <td>0</td>\n",
              "      <td>1</td>\n",
              "      <td>0</td>\n",
              "    </tr>\n",
              "    <tr>\n",
              "      <th>2</th>\n",
              "      <td>12.77</td>\n",
              "      <td>9271</td>\n",
              "      <td>15.70</td>\n",
              "      <td>1171</td>\n",
              "      <td>63.4</td>\n",
              "      <td>0</td>\n",
              "      <td>0</td>\n",
              "      <td>1</td>\n",
              "      <td>0</td>\n",
              "    </tr>\n",
              "    <tr>\n",
              "      <th>3</th>\n",
              "      <td>11.42</td>\n",
              "      <td>8865</td>\n",
              "      <td>9.11</td>\n",
              "      <td>1175</td>\n",
              "      <td>56.8</td>\n",
              "      <td>0</td>\n",
              "      <td>0</td>\n",
              "      <td>1</td>\n",
              "      <td>0</td>\n",
              "    </tr>\n",
              "    <tr>\n",
              "      <th>4</th>\n",
              "      <td>14.62</td>\n",
              "      <td>8403</td>\n",
              "      <td>11.68</td>\n",
              "      <td>2111</td>\n",
              "      <td>73.5</td>\n",
              "      <td>0</td>\n",
              "      <td>0</td>\n",
              "      <td>1</td>\n",
              "      <td>0</td>\n",
              "    </tr>\n",
              "  </tbody>\n",
              "</table>\n",
              "</div>"
            ]
          },
          "metadata": {
            "tags": []
          },
          "execution_count": 11
        }
      ]
    },
    {
      "cell_type": "code",
      "metadata": {
        "id": "wEYfi8rmwYe5"
      },
      "source": [
        "X = df[['education','income', 'women','census', 'type_bc', 'type_other','type_prof','type_wc']]"
      ],
      "execution_count": 12,
      "outputs": []
    },
    {
      "cell_type": "code",
      "metadata": {
        "colab": {
          "base_uri": "https://localhost:8080/"
        },
        "id": "TQR7P7YowYe6",
        "outputId": "03ab6bf6-2495-42fa-9229-b7537a743199"
      },
      "source": [
        "y = df['prestige1']\n",
        "y.head()"
      ],
      "execution_count": 13,
      "outputs": [
        {
          "output_type": "execute_result",
          "data": {
            "text/plain": [
              "0    68.8\n",
              "1    69.1\n",
              "2    63.4\n",
              "3    56.8\n",
              "4    73.5\n",
              "Name: prestige1, dtype: float64"
            ]
          },
          "metadata": {
            "tags": []
          },
          "execution_count": 13
        }
      ]
    },
    {
      "cell_type": "code",
      "metadata": {
        "id": "1FiKSn2YwYe8"
      },
      "source": [
        "X_train, X_test, y_train, y_test = train_test_split(X, y, test_size = 0.3, random_state = 101)"
      ],
      "execution_count": 14,
      "outputs": []
    },
    {
      "cell_type": "code",
      "metadata": {
        "id": "arwm9WY8wYe8"
      },
      "source": [
        "# #feature scaling\n",
        "# #from sklearn.preprocessing import StandardScaler\n",
        "# #sc_X = StandardScaler()\n",
        "# X_train = sc_X.fit_transform(X_train)\n",
        "# X_test = sc_X.transform(X_test)"
      ],
      "execution_count": 15,
      "outputs": []
    },
    {
      "cell_type": "code",
      "metadata": {
        "colab": {
          "base_uri": "https://localhost:8080/",
          "height": 195
        },
        "id": "InSu5zFPwYe-",
        "outputId": "22fcba3b-d3d7-44dc-cce0-91f1524d9cc7"
      },
      "source": [
        "X_train.head()"
      ],
      "execution_count": 16,
      "outputs": [
        {
          "output_type": "execute_result",
          "data": {
            "text/plain": [
              "    education  income  women  census  type_bc  type_other  type_prof  type_wc\n",
              "88       9.93    7147   0.99    8733        1           0          0        0\n",
              "41      11.04    2901  92.86    4171        0           0          0        1\n",
              "23      15.96   25308  10.56    3111        0           0          1        0\n",
              "26      12.46    4614  96.12    3131        0           0          1        0\n",
              "22      15.08    8034  46.80    2733        0           0          1        0"
            ],
            "text/html": [
              "<div>\n",
              "<style scoped>\n",
              "    .dataframe tbody tr th:only-of-type {\n",
              "        vertical-align: middle;\n",
              "    }\n",
              "\n",
              "    .dataframe tbody tr th {\n",
              "        vertical-align: top;\n",
              "    }\n",
              "\n",
              "    .dataframe thead th {\n",
              "        text-align: right;\n",
              "    }\n",
              "</style>\n",
              "<table border=\"1\" class=\"dataframe\">\n",
              "  <thead>\n",
              "    <tr style=\"text-align: right;\">\n",
              "      <th></th>\n",
              "      <th>education</th>\n",
              "      <th>income</th>\n",
              "      <th>women</th>\n",
              "      <th>census</th>\n",
              "      <th>type_bc</th>\n",
              "      <th>type_other</th>\n",
              "      <th>type_prof</th>\n",
              "      <th>type_wc</th>\n",
              "    </tr>\n",
              "  </thead>\n",
              "  <tbody>\n",
              "    <tr>\n",
              "      <th>88</th>\n",
              "      <td>9.93</td>\n",
              "      <td>7147</td>\n",
              "      <td>0.99</td>\n",
              "      <td>8733</td>\n",
              "      <td>1</td>\n",
              "      <td>0</td>\n",
              "      <td>0</td>\n",
              "      <td>0</td>\n",
              "    </tr>\n",
              "    <tr>\n",
              "      <th>41</th>\n",
              "      <td>11.04</td>\n",
              "      <td>2901</td>\n",
              "      <td>92.86</td>\n",
              "      <td>4171</td>\n",
              "      <td>0</td>\n",
              "      <td>0</td>\n",
              "      <td>0</td>\n",
              "      <td>1</td>\n",
              "    </tr>\n",
              "    <tr>\n",
              "      <th>23</th>\n",
              "      <td>15.96</td>\n",
              "      <td>25308</td>\n",
              "      <td>10.56</td>\n",
              "      <td>3111</td>\n",
              "      <td>0</td>\n",
              "      <td>0</td>\n",
              "      <td>1</td>\n",
              "      <td>0</td>\n",
              "    </tr>\n",
              "    <tr>\n",
              "      <th>26</th>\n",
              "      <td>12.46</td>\n",
              "      <td>4614</td>\n",
              "      <td>96.12</td>\n",
              "      <td>3131</td>\n",
              "      <td>0</td>\n",
              "      <td>0</td>\n",
              "      <td>1</td>\n",
              "      <td>0</td>\n",
              "    </tr>\n",
              "    <tr>\n",
              "      <th>22</th>\n",
              "      <td>15.08</td>\n",
              "      <td>8034</td>\n",
              "      <td>46.80</td>\n",
              "      <td>2733</td>\n",
              "      <td>0</td>\n",
              "      <td>0</td>\n",
              "      <td>1</td>\n",
              "      <td>0</td>\n",
              "    </tr>\n",
              "  </tbody>\n",
              "</table>\n",
              "</div>"
            ]
          },
          "metadata": {
            "tags": []
          },
          "execution_count": 16
        }
      ]
    },
    {
      "cell_type": "code",
      "metadata": {
        "colab": {
          "base_uri": "https://localhost:8080/"
        },
        "id": "9XYxG1w-wYe_",
        "outputId": "bd011c0f-f103-4620-b6ae-46cc09f95359"
      },
      "source": [
        "np.var(X_train)"
      ],
      "execution_count": 17,
      "outputs": [
        {
          "output_type": "execute_result",
          "data": {
            "text/plain": [
              "education     7.717758e+00\n",
              "income        1.456917e+07\n",
              "women         1.066529e+03\n",
              "census        6.902471e+06\n",
              "type_bc       2.459829e-01\n",
              "type_other    5.316405e-02\n",
              "type_prof     2.082920e-01\n",
              "type_wc       1.666336e-01\n",
              "dtype: float64"
            ]
          },
          "metadata": {
            "tags": []
          },
          "execution_count": 17
        }
      ]
    },
    {
      "cell_type": "code",
      "metadata": {
        "colab": {
          "base_uri": "https://localhost:8080/"
        },
        "id": "OtsM5PHjwYfA",
        "outputId": "c35613c2-22dc-4823-c87a-ce52a80f0f59"
      },
      "source": [
        "print(np.cov(X_train.education,y_train)[0][1])\n",
        "print(np.cov(X_train.women,y_train)[0][1])\n",
        "print(np.cov(X_train.census,y_train)[0][1])\n",
        "print(np.cov(X_train.type_bc,y_train)[0][1])\n",
        "print(np.cov(X_train.type_other,y_train)[0][1])\n",
        "print(np.cov(X_train.type_prof,y_train)[0][1])\n",
        "print(np.cov(X_train.type_wc,y_train)[0][1])\n",
        "print(np.cov(X_train.income,y_train)[0][1])\n"
      ],
      "execution_count": 18,
      "outputs": [
        {
          "output_type": "stream",
          "text": [
            "43.147711468812886\n",
            "-60.10444124748488\n",
            "-29393.69929577464\n",
            "-5.475010060362172\n",
            "-0.6722132796780685\n",
            "6.579094567404425\n",
            "-0.4318712273641851\n",
            "50676.37434607645\n"
          ],
          "name": "stdout"
        }
      ]
    },
    {
      "cell_type": "code",
      "metadata": {
        "colab": {
          "base_uri": "https://localhost:8080/"
        },
        "id": "p8YcLS9mwYfF",
        "outputId": "dc723b5d-42e6-48f9-a216-904fa5ef815e"
      },
      "source": [
        "print(np.corrcoef(X_train.education,y_train))[0][1]\n",
        "print(np.corrcoef(X_train.women,y_train)[0][1])\n",
        "print(np.corrcoef(X_train.census,y_train)[0][1])\n",
        "print(np.corrcoef(X_train.type_bc,y_train)[0][1])\n",
        "print(np.corrcoef(X_train.type_other,y_train)[0][1])\n",
        "print(np.corrcoef(X_train.type_prof,y_train)[0][1])\n",
        "print(np.corrcoef(X_train.type_wc,y_train)[0][1])\n",
        "print(np.corrcoef(X_train.income,y_train)[0][1])\n"
      ],
      "execution_count": 19,
      "outputs": [
        {
          "output_type": "stream",
          "text": [
            "0.8663014386851096\n",
            "-0.10265430983005346\n",
            "-0.6240348120391159\n",
            "-0.6157285398401381\n",
            "-0.16261286293414207\n",
            "0.8040567176018791\n",
            "-0.05901057319343967\n",
            "0.740533863831983\n"
          ],
          "name": "stdout"
        }
      ]
    },
    {
      "cell_type": "code",
      "metadata": {
        "colab": {
          "base_uri": "https://localhost:8080/"
        },
        "id": "zvxwZW2swYfH",
        "outputId": "ab4931a8-836f-42aa-86c8-152bfb86c850"
      },
      "source": [
        "print(y_train.size)"
      ],
      "execution_count": 20,
      "outputs": [
        {
          "output_type": "stream",
          "text": [
            "71\n"
          ],
          "name": "stdout"
        }
      ]
    },
    {
      "cell_type": "code",
      "metadata": {
        "id": "EQ0H8lIBwYfK"
      },
      "source": [
        "X_train=X_train.drop('type_wc',axis=1)"
      ],
      "execution_count": 24,
      "outputs": []
    },
    {
      "cell_type": "code",
      "metadata": {
        "colab": {
          "base_uri": "https://localhost:8080/"
        },
        "id": "PoH17WU2wYfK",
        "outputId": "c66565b6-7ed8-498c-f6b4-dcd24ad0f83c"
      },
      "source": [
        "from sklearn import linear_model\n",
        "reg = linear_model.LinearRegression()\n",
        "reg = reg.fit(X_train, y_train)                                       \n",
        "reg.coef_\n"
      ],
      "execution_count": 25,
      "outputs": [
        {
          "output_type": "execute_result",
          "data": {
            "text/plain": [
              "array([ 3.07507896e+00,  1.43908356e-03,  2.21687815e-02,  9.64537017e-04,\n",
              "       -4.92916258e+00, -2.55678959e+00,  8.80361847e+00])"
            ]
          },
          "metadata": {
            "tags": []
          },
          "execution_count": 25
        }
      ]
    },
    {
      "cell_type": "code",
      "metadata": {
        "colab": {
          "base_uri": "https://localhost:8080/"
        },
        "id": "NXQtJncYwYfL",
        "outputId": "b9dba661-90fd-49a1-d747-123da0036135"
      },
      "source": [
        "reg.intercept_"
      ],
      "execution_count": 26,
      "outputs": [
        {
          "output_type": "execute_result",
          "data": {
            "text/plain": [
              "-2.141954700938946"
            ]
          },
          "metadata": {
            "tags": []
          },
          "execution_count": 26
        }
      ]
    },
    {
      "cell_type": "code",
      "metadata": {
        "colab": {
          "base_uri": "https://localhost:8080/"
        },
        "id": "VSNVAGExwYfQ",
        "outputId": "5e0cd003-4eea-4ce7-a675-820614db87e0"
      },
      "source": [
        "print(y_train)"
      ],
      "execution_count": 30,
      "outputs": [
        {
          "output_type": "stream",
          "text": [
            "88     50.2\n",
            "41     38.7\n",
            "23     87.2\n",
            "26     64.7\n",
            "22     66.1\n",
            "93     42.9\n",
            "27     34.9\n",
            "20     84.6\n",
            "66     44.1\n",
            "30     67.5\n",
            "35     41.9\n",
            "76     44.2\n",
            "98     25.1\n",
            "24     66.7\n",
            "99     26.1\n",
            "33     54.1\n",
            "54     47.3\n",
            "100    42.2\n",
            "17     58.1\n",
            "85     50.3\n",
            "42     36.1\n",
            "74     28.8\n",
            "78     41.8\n",
            "15     55.1\n",
            "68     35.3\n",
            "67     21.5\n",
            "55     47.1\n",
            "18     58.3\n",
            "65     20.1\n",
            "94     26.5\n",
            "       ... \n",
            "82     37.2\n",
            "73     33.3\n",
            "0      68.8\n",
            "10     62.0\n",
            "19     72.8\n",
            "72     23.2\n",
            "44     38.1\n",
            "34     46.0\n",
            "59     29.7\n",
            "29     69.3\n",
            "8      73.1\n",
            "49     41.5\n",
            "89     51.1\n",
            "12     53.8\n",
            "5      77.6\n",
            "64     17.3\n",
            "60     20.2\n",
            "92     29.9\n",
            "97     35.9\n",
            "4      73.5\n",
            "40     32.7\n",
            "77     35.9\n",
            "9      68.8\n",
            "75     42.5\n",
            "87     40.9\n",
            "63     20.8\n",
            "70     25.2\n",
            "81     50.8\n",
            "11     60.0\n",
            "95     66.1\n",
            "Name: prestige1, Length: 71, dtype: float64\n"
          ],
          "name": "stdout"
        }
      ]
    },
    {
      "cell_type": "code",
      "metadata": {
        "colab": {
          "base_uri": "https://localhost:8080/"
        },
        "id": "3012WneKwYfR",
        "outputId": "87e1b343-cf14-4f00-cbff-d43dbe37d5fc"
      },
      "source": [
        "reg.predict(X_train)"
      ],
      "execution_count": 31,
      "outputs": [
        {
          "output_type": "execute_result",
          "data": {
            "text/plain": [
              "array([42.19479586, 42.06337539, 95.39502766, 56.76790785, 68.26903046,\n",
              "       37.00702923, 31.71533968, 76.77958387, 28.51697209, 49.37255103,\n",
              "       43.81561633, 37.75511965, 32.32023182, 79.7289028 , 34.48999102,\n",
              "       45.72289426, 50.50795993, 42.45379391, 62.94654937, 43.3860973 ,\n",
              "       38.33403736, 27.52978204, 34.75848094, 62.93908919, 37.54524205,\n",
              "       29.30017271, 47.55313369, 70.34917094, 28.03299325, 30.19045387,\n",
              "       44.6409321 , 44.70130487, 37.16577748, 48.76181719, 31.32038938,\n",
              "       35.17657341, 76.64733114, 30.31614697, 60.73027681, 44.42237453,\n",
              "       33.33974427, 40.7119969 , 28.56404973, 66.07100328, 55.38207014,\n",
              "       60.50758548, 27.99676814, 40.88431702, 45.43324127, 28.27088597,\n",
              "       72.03318119, 69.7741006 , 44.2098764 , 39.52964007, 63.75971652,\n",
              "       72.78078294, 26.50484692, 30.97235024, 32.01963341, 33.29787134,\n",
              "       66.00700634, 45.23368542, 36.29560472, 69.64132468, 43.58049882,\n",
              "       41.17684505, 27.26645753, 32.11704574, 35.42326169, 56.90350096,\n",
              "       73.38685776])"
            ]
          },
          "metadata": {
            "tags": []
          },
          "execution_count": 31
        }
      ]
    },
    {
      "cell_type": "code",
      "metadata": {
        "id": "r2mmqhywwYfU"
      },
      "source": [
        "from numpy import linalg as LA"
      ],
      "execution_count": 32,
      "outputs": []
    },
    {
      "cell_type": "code",
      "metadata": {
        "id": "Vp5MaZA8wYfV"
      },
      "source": [
        "n = LA.norm(y_train-reg.predict(X_train),2)**2"
      ],
      "execution_count": 33,
      "outputs": []
    },
    {
      "cell_type": "code",
      "metadata": {
        "id": "AIu_RnmGwYfW"
      },
      "source": [
        "error = y_train - reg.predict(X_train)"
      ],
      "execution_count": 34,
      "outputs": []
    },
    {
      "cell_type": "code",
      "metadata": {
        "colab": {
          "base_uri": "https://localhost:8080/"
        },
        "id": "L-fyuVt0wYfZ",
        "outputId": "6c911f92-27d1-482b-f544-f78eef0f761b"
      },
      "source": [
        "y_train.size"
      ],
      "execution_count": 35,
      "outputs": [
        {
          "output_type": "execute_result",
          "data": {
            "text/plain": [
              "71"
            ]
          },
          "metadata": {
            "tags": []
          },
          "execution_count": 35
        }
      ]
    },
    {
      "cell_type": "code",
      "metadata": {
        "colab": {
          "base_uri": "https://localhost:8080/"
        },
        "id": "d1oQZfHFwYfc",
        "outputId": "2cb39391-e52a-4ee3-a3cc-a3a8a81b2adc"
      },
      "source": [
        "sum_errors = 0\n",
        "for y in error:\n",
        "    sum_errors = sum_errors + y*y\n",
        "sigma = sum_errors/(y_train.size - 7 - 1)\n",
        "sigma"
      ],
      "execution_count": 36,
      "outputs": [
        {
          "output_type": "execute_result",
          "data": {
            "text/plain": [
              "60.38951521673472"
            ]
          },
          "metadata": {
            "tags": []
          },
          "execution_count": 36
        }
      ]
    },
    {
      "cell_type": "code",
      "metadata": {
        "id": "fF3VHs06wYfd"
      },
      "source": [
        ""
      ],
      "execution_count": null,
      "outputs": []
    },
    {
      "cell_type": "code",
      "metadata": {
        "colab": {
          "base_uri": "https://localhost:8080/"
        },
        "id": "HekrMxBIwYfe",
        "outputId": "1cdaaa38-7ad1-453c-952c-9d48f2413317"
      },
      "source": [
        "print(n)"
      ],
      "execution_count": 38,
      "outputs": [
        {
          "output_type": "stream",
          "text": [
            "3804.539458654288\n"
          ],
          "name": "stdout"
        }
      ]
    },
    {
      "cell_type": "code",
      "metadata": {
        "colab": {
          "base_uri": "https://localhost:8080/",
          "height": 1000
        },
        "id": "H7o5sj1OwYfe",
        "outputId": "bf05e6b0-a521-471e-f958-a9be51a0a8fe"
      },
      "source": [
        "X_train"
      ],
      "execution_count": 39,
      "outputs": [
        {
          "output_type": "execute_result",
          "data": {
            "text/plain": [
              "     education  income  women  census  type_bc  type_other  type_prof\n",
              "88        9.93    7147   0.99    8733        1           0          0\n",
              "41       11.04    2901  92.86    4171        0           0          0\n",
              "23       15.96   25308  10.56    3111        0           0          1\n",
              "26       12.46    4614  96.12    3131        0           0          1\n",
              "22       15.08    8034  46.80    2733        0           0          1\n",
              "93        8.33    6928   0.61    8791        1           0          0\n",
              "27        9.45    3485  76.14    3135        1           0          0\n",
              "20       15.97   12480  19.59    2711        0           0          1\n",
              "66        6.84    3643   3.60    7112        0           1          0\n",
              "30       12.79    5180  76.04    3156        0           0          0\n",
              "35       11.49    3148  95.97    4113        0           0          0\n",
              "76        8.81    6686   4.28    8313        1           0          0\n",
              "98        7.93    4224   3.59    9173        1           0          0\n",
              "24       15.94   14558   4.32    3115        0           0          1\n",
              "99        8.37    4753   0.00    9313        1           0          0\n",
              "33       11.44    8206   8.13    3373        0           1          0\n",
              "54       11.60    8131  13.09    5171        0           0          0\n",
              "100      10.00    6462  13.58    9511        1           0          0\n",
              "17       14.15    6112  77.10    2351        0           0          1\n",
              "85       10.10    7716   0.78    8582        1           0          0\n",
              "42        9.22    5511   7.62    4172        0           0          0\n",
              "74        6.74    3485  39.48    8278        1           0          0\n",
              "78        7.92    6477   5.17    8335        1           0          0\n",
              "15       14.21    6336  54.77    2331        0           0          1\n",
              "68        8.88    6860   0.00    7711        1           0          0\n",
              "67        8.60    1656  27.75    7182        1           0          0\n",
              "55       11.09    6992  24.44    5172        0           0          0\n",
              "18       15.22    9593  34.89    2391        0           0          1\n",
              "65        7.58    3582  30.08    6193        1           0          0\n",
              "94        7.52    3910   1.09    8798        1           0          0\n",
              "..         ...     ...    ...     ...      ...         ...        ...\n",
              "82       10.29    5449   2.92    8537        1           0          0\n",
              "73        6.69    4443  31.36    8267        1           0          0\n",
              "0        13.11   12351  11.16    1113        0           0          1\n",
              "10       12.39    5902   1.91    2161        0           0          1\n",
              "19       14.50    4686   4.14    2511        0           0          1\n",
              "72        7.42    1890  72.24    8221        1           0          0\n",
              "44       10.51    3161  96.14    4175        0           0          0\n",
              "34       11.59    4036  97.51    4111        0           0          0\n",
              "59        7.74    3116  52.00    6121        1           0          0\n",
              "29       15.21   10432  24.71    3151        0           0          1\n",
              "8        14.52   11377   1.03    2143        0           0          1\n",
              "49        9.84    7482  17.04    5130        0           0          0\n",
              "89        8.24    8880   0.65    8780        1           0          0\n",
              "12       13.83    8425  15.33    2183        0           0          1\n",
              "5        15.64   11030   5.13    2113        0           0          1\n",
              "64        7.11    3472  33.57    6191        1           0          0\n",
              "60        8.50    3930  15.51    6123        1           0          0\n",
              "92        7.81    4549   2.46    8785        1           0          0\n",
              "97        7.58    5562   9.47    9171        1           0          0\n",
              "4        14.62    8403  11.68    2111        0           0          1\n",
              "40       12.09    3016  83.19    4161        0           0          0\n",
              "77        8.40    6565   2.30    8333        1           0          0\n",
              "9        14.64   11023   0.94    2153        0           0          1\n",
              "75       10.09    8043   1.50    8311        1           0          0\n",
              "87        9.05    8316   1.34    8731        1           0          0\n",
              "63        7.33    3000  69.31    6162        1           0          0\n",
              "70        7.64    5134  17.26    8215        1           0          0\n",
              "81        8.76    3942  74.54    8534        1           0          0\n",
              "11       12.30    7059   7.83    2163        0           0          1\n",
              "95       12.27   14032   0.58    9111        0           0          1\n",
              "\n",
              "[71 rows x 7 columns]"
            ],
            "text/html": [
              "<div>\n",
              "<style scoped>\n",
              "    .dataframe tbody tr th:only-of-type {\n",
              "        vertical-align: middle;\n",
              "    }\n",
              "\n",
              "    .dataframe tbody tr th {\n",
              "        vertical-align: top;\n",
              "    }\n",
              "\n",
              "    .dataframe thead th {\n",
              "        text-align: right;\n",
              "    }\n",
              "</style>\n",
              "<table border=\"1\" class=\"dataframe\">\n",
              "  <thead>\n",
              "    <tr style=\"text-align: right;\">\n",
              "      <th></th>\n",
              "      <th>education</th>\n",
              "      <th>income</th>\n",
              "      <th>women</th>\n",
              "      <th>census</th>\n",
              "      <th>type_bc</th>\n",
              "      <th>type_other</th>\n",
              "      <th>type_prof</th>\n",
              "    </tr>\n",
              "  </thead>\n",
              "  <tbody>\n",
              "    <tr>\n",
              "      <th>88</th>\n",
              "      <td>9.93</td>\n",
              "      <td>7147</td>\n",
              "      <td>0.99</td>\n",
              "      <td>8733</td>\n",
              "      <td>1</td>\n",
              "      <td>0</td>\n",
              "      <td>0</td>\n",
              "    </tr>\n",
              "    <tr>\n",
              "      <th>41</th>\n",
              "      <td>11.04</td>\n",
              "      <td>2901</td>\n",
              "      <td>92.86</td>\n",
              "      <td>4171</td>\n",
              "      <td>0</td>\n",
              "      <td>0</td>\n",
              "      <td>0</td>\n",
              "    </tr>\n",
              "    <tr>\n",
              "      <th>23</th>\n",
              "      <td>15.96</td>\n",
              "      <td>25308</td>\n",
              "      <td>10.56</td>\n",
              "      <td>3111</td>\n",
              "      <td>0</td>\n",
              "      <td>0</td>\n",
              "      <td>1</td>\n",
              "    </tr>\n",
              "    <tr>\n",
              "      <th>26</th>\n",
              "      <td>12.46</td>\n",
              "      <td>4614</td>\n",
              "      <td>96.12</td>\n",
              "      <td>3131</td>\n",
              "      <td>0</td>\n",
              "      <td>0</td>\n",
              "      <td>1</td>\n",
              "    </tr>\n",
              "    <tr>\n",
              "      <th>22</th>\n",
              "      <td>15.08</td>\n",
              "      <td>8034</td>\n",
              "      <td>46.80</td>\n",
              "      <td>2733</td>\n",
              "      <td>0</td>\n",
              "      <td>0</td>\n",
              "      <td>1</td>\n",
              "    </tr>\n",
              "    <tr>\n",
              "      <th>93</th>\n",
              "      <td>8.33</td>\n",
              "      <td>6928</td>\n",
              "      <td>0.61</td>\n",
              "      <td>8791</td>\n",
              "      <td>1</td>\n",
              "      <td>0</td>\n",
              "      <td>0</td>\n",
              "    </tr>\n",
              "    <tr>\n",
              "      <th>27</th>\n",
              "      <td>9.45</td>\n",
              "      <td>3485</td>\n",
              "      <td>76.14</td>\n",
              "      <td>3135</td>\n",
              "      <td>1</td>\n",
              "      <td>0</td>\n",
              "      <td>0</td>\n",
              "    </tr>\n",
              "    <tr>\n",
              "      <th>20</th>\n",
              "      <td>15.97</td>\n",
              "      <td>12480</td>\n",
              "      <td>19.59</td>\n",
              "      <td>2711</td>\n",
              "      <td>0</td>\n",
              "      <td>0</td>\n",
              "      <td>1</td>\n",
              "    </tr>\n",
              "    <tr>\n",
              "      <th>66</th>\n",
              "      <td>6.84</td>\n",
              "      <td>3643</td>\n",
              "      <td>3.60</td>\n",
              "      <td>7112</td>\n",
              "      <td>0</td>\n",
              "      <td>1</td>\n",
              "      <td>0</td>\n",
              "    </tr>\n",
              "    <tr>\n",
              "      <th>30</th>\n",
              "      <td>12.79</td>\n",
              "      <td>5180</td>\n",
              "      <td>76.04</td>\n",
              "      <td>3156</td>\n",
              "      <td>0</td>\n",
              "      <td>0</td>\n",
              "      <td>0</td>\n",
              "    </tr>\n",
              "    <tr>\n",
              "      <th>35</th>\n",
              "      <td>11.49</td>\n",
              "      <td>3148</td>\n",
              "      <td>95.97</td>\n",
              "      <td>4113</td>\n",
              "      <td>0</td>\n",
              "      <td>0</td>\n",
              "      <td>0</td>\n",
              "    </tr>\n",
              "    <tr>\n",
              "      <th>76</th>\n",
              "      <td>8.81</td>\n",
              "      <td>6686</td>\n",
              "      <td>4.28</td>\n",
              "      <td>8313</td>\n",
              "      <td>1</td>\n",
              "      <td>0</td>\n",
              "      <td>0</td>\n",
              "    </tr>\n",
              "    <tr>\n",
              "      <th>98</th>\n",
              "      <td>7.93</td>\n",
              "      <td>4224</td>\n",
              "      <td>3.59</td>\n",
              "      <td>9173</td>\n",
              "      <td>1</td>\n",
              "      <td>0</td>\n",
              "      <td>0</td>\n",
              "    </tr>\n",
              "    <tr>\n",
              "      <th>24</th>\n",
              "      <td>15.94</td>\n",
              "      <td>14558</td>\n",
              "      <td>4.32</td>\n",
              "      <td>3115</td>\n",
              "      <td>0</td>\n",
              "      <td>0</td>\n",
              "      <td>1</td>\n",
              "    </tr>\n",
              "    <tr>\n",
              "      <th>99</th>\n",
              "      <td>8.37</td>\n",
              "      <td>4753</td>\n",
              "      <td>0.00</td>\n",
              "      <td>9313</td>\n",
              "      <td>1</td>\n",
              "      <td>0</td>\n",
              "      <td>0</td>\n",
              "    </tr>\n",
              "    <tr>\n",
              "      <th>33</th>\n",
              "      <td>11.44</td>\n",
              "      <td>8206</td>\n",
              "      <td>8.13</td>\n",
              "      <td>3373</td>\n",
              "      <td>0</td>\n",
              "      <td>1</td>\n",
              "      <td>0</td>\n",
              "    </tr>\n",
              "    <tr>\n",
              "      <th>54</th>\n",
              "      <td>11.60</td>\n",
              "      <td>8131</td>\n",
              "      <td>13.09</td>\n",
              "      <td>5171</td>\n",
              "      <td>0</td>\n",
              "      <td>0</td>\n",
              "      <td>0</td>\n",
              "    </tr>\n",
              "    <tr>\n",
              "      <th>100</th>\n",
              "      <td>10.00</td>\n",
              "      <td>6462</td>\n",
              "      <td>13.58</td>\n",
              "      <td>9511</td>\n",
              "      <td>1</td>\n",
              "      <td>0</td>\n",
              "      <td>0</td>\n",
              "    </tr>\n",
              "    <tr>\n",
              "      <th>17</th>\n",
              "      <td>14.15</td>\n",
              "      <td>6112</td>\n",
              "      <td>77.10</td>\n",
              "      <td>2351</td>\n",
              "      <td>0</td>\n",
              "      <td>0</td>\n",
              "      <td>1</td>\n",
              "    </tr>\n",
              "    <tr>\n",
              "      <th>85</th>\n",
              "      <td>10.10</td>\n",
              "      <td>7716</td>\n",
              "      <td>0.78</td>\n",
              "      <td>8582</td>\n",
              "      <td>1</td>\n",
              "      <td>0</td>\n",
              "      <td>0</td>\n",
              "    </tr>\n",
              "    <tr>\n",
              "      <th>42</th>\n",
              "      <td>9.22</td>\n",
              "      <td>5511</td>\n",
              "      <td>7.62</td>\n",
              "      <td>4172</td>\n",
              "      <td>0</td>\n",
              "      <td>0</td>\n",
              "      <td>0</td>\n",
              "    </tr>\n",
              "    <tr>\n",
              "      <th>74</th>\n",
              "      <td>6.74</td>\n",
              "      <td>3485</td>\n",
              "      <td>39.48</td>\n",
              "      <td>8278</td>\n",
              "      <td>1</td>\n",
              "      <td>0</td>\n",
              "      <td>0</td>\n",
              "    </tr>\n",
              "    <tr>\n",
              "      <th>78</th>\n",
              "      <td>7.92</td>\n",
              "      <td>6477</td>\n",
              "      <td>5.17</td>\n",
              "      <td>8335</td>\n",
              "      <td>1</td>\n",
              "      <td>0</td>\n",
              "      <td>0</td>\n",
              "    </tr>\n",
              "    <tr>\n",
              "      <th>15</th>\n",
              "      <td>14.21</td>\n",
              "      <td>6336</td>\n",
              "      <td>54.77</td>\n",
              "      <td>2331</td>\n",
              "      <td>0</td>\n",
              "      <td>0</td>\n",
              "      <td>1</td>\n",
              "    </tr>\n",
              "    <tr>\n",
              "      <th>68</th>\n",
              "      <td>8.88</td>\n",
              "      <td>6860</td>\n",
              "      <td>0.00</td>\n",
              "      <td>7711</td>\n",
              "      <td>1</td>\n",
              "      <td>0</td>\n",
              "      <td>0</td>\n",
              "    </tr>\n",
              "    <tr>\n",
              "      <th>67</th>\n",
              "      <td>8.60</td>\n",
              "      <td>1656</td>\n",
              "      <td>27.75</td>\n",
              "      <td>7182</td>\n",
              "      <td>1</td>\n",
              "      <td>0</td>\n",
              "      <td>0</td>\n",
              "    </tr>\n",
              "    <tr>\n",
              "      <th>55</th>\n",
              "      <td>11.09</td>\n",
              "      <td>6992</td>\n",
              "      <td>24.44</td>\n",
              "      <td>5172</td>\n",
              "      <td>0</td>\n",
              "      <td>0</td>\n",
              "      <td>0</td>\n",
              "    </tr>\n",
              "    <tr>\n",
              "      <th>18</th>\n",
              "      <td>15.22</td>\n",
              "      <td>9593</td>\n",
              "      <td>34.89</td>\n",
              "      <td>2391</td>\n",
              "      <td>0</td>\n",
              "      <td>0</td>\n",
              "      <td>1</td>\n",
              "    </tr>\n",
              "    <tr>\n",
              "      <th>65</th>\n",
              "      <td>7.58</td>\n",
              "      <td>3582</td>\n",
              "      <td>30.08</td>\n",
              "      <td>6193</td>\n",
              "      <td>1</td>\n",
              "      <td>0</td>\n",
              "      <td>0</td>\n",
              "    </tr>\n",
              "    <tr>\n",
              "      <th>94</th>\n",
              "      <td>7.52</td>\n",
              "      <td>3910</td>\n",
              "      <td>1.09</td>\n",
              "      <td>8798</td>\n",
              "      <td>1</td>\n",
              "      <td>0</td>\n",
              "      <td>0</td>\n",
              "    </tr>\n",
              "    <tr>\n",
              "      <th>...</th>\n",
              "      <td>...</td>\n",
              "      <td>...</td>\n",
              "      <td>...</td>\n",
              "      <td>...</td>\n",
              "      <td>...</td>\n",
              "      <td>...</td>\n",
              "      <td>...</td>\n",
              "    </tr>\n",
              "    <tr>\n",
              "      <th>82</th>\n",
              "      <td>10.29</td>\n",
              "      <td>5449</td>\n",
              "      <td>2.92</td>\n",
              "      <td>8537</td>\n",
              "      <td>1</td>\n",
              "      <td>0</td>\n",
              "      <td>0</td>\n",
              "    </tr>\n",
              "    <tr>\n",
              "      <th>73</th>\n",
              "      <td>6.69</td>\n",
              "      <td>4443</td>\n",
              "      <td>31.36</td>\n",
              "      <td>8267</td>\n",
              "      <td>1</td>\n",
              "      <td>0</td>\n",
              "      <td>0</td>\n",
              "    </tr>\n",
              "    <tr>\n",
              "      <th>0</th>\n",
              "      <td>13.11</td>\n",
              "      <td>12351</td>\n",
              "      <td>11.16</td>\n",
              "      <td>1113</td>\n",
              "      <td>0</td>\n",
              "      <td>0</td>\n",
              "      <td>1</td>\n",
              "    </tr>\n",
              "    <tr>\n",
              "      <th>10</th>\n",
              "      <td>12.39</td>\n",
              "      <td>5902</td>\n",
              "      <td>1.91</td>\n",
              "      <td>2161</td>\n",
              "      <td>0</td>\n",
              "      <td>0</td>\n",
              "      <td>1</td>\n",
              "    </tr>\n",
              "    <tr>\n",
              "      <th>19</th>\n",
              "      <td>14.50</td>\n",
              "      <td>4686</td>\n",
              "      <td>4.14</td>\n",
              "      <td>2511</td>\n",
              "      <td>0</td>\n",
              "      <td>0</td>\n",
              "      <td>1</td>\n",
              "    </tr>\n",
              "    <tr>\n",
              "      <th>72</th>\n",
              "      <td>7.42</td>\n",
              "      <td>1890</td>\n",
              "      <td>72.24</td>\n",
              "      <td>8221</td>\n",
              "      <td>1</td>\n",
              "      <td>0</td>\n",
              "      <td>0</td>\n",
              "    </tr>\n",
              "    <tr>\n",
              "      <th>44</th>\n",
              "      <td>10.51</td>\n",
              "      <td>3161</td>\n",
              "      <td>96.14</td>\n",
              "      <td>4175</td>\n",
              "      <td>0</td>\n",
              "      <td>0</td>\n",
              "      <td>0</td>\n",
              "    </tr>\n",
              "    <tr>\n",
              "      <th>34</th>\n",
              "      <td>11.59</td>\n",
              "      <td>4036</td>\n",
              "      <td>97.51</td>\n",
              "      <td>4111</td>\n",
              "      <td>0</td>\n",
              "      <td>0</td>\n",
              "      <td>0</td>\n",
              "    </tr>\n",
              "    <tr>\n",
              "      <th>59</th>\n",
              "      <td>7.74</td>\n",
              "      <td>3116</td>\n",
              "      <td>52.00</td>\n",
              "      <td>6121</td>\n",
              "      <td>1</td>\n",
              "      <td>0</td>\n",
              "      <td>0</td>\n",
              "    </tr>\n",
              "    <tr>\n",
              "      <th>29</th>\n",
              "      <td>15.21</td>\n",
              "      <td>10432</td>\n",
              "      <td>24.71</td>\n",
              "      <td>3151</td>\n",
              "      <td>0</td>\n",
              "      <td>0</td>\n",
              "      <td>1</td>\n",
              "    </tr>\n",
              "    <tr>\n",
              "      <th>8</th>\n",
              "      <td>14.52</td>\n",
              "      <td>11377</td>\n",
              "      <td>1.03</td>\n",
              "      <td>2143</td>\n",
              "      <td>0</td>\n",
              "      <td>0</td>\n",
              "      <td>1</td>\n",
              "    </tr>\n",
              "    <tr>\n",
              "      <th>49</th>\n",
              "      <td>9.84</td>\n",
              "      <td>7482</td>\n",
              "      <td>17.04</td>\n",
              "      <td>5130</td>\n",
              "      <td>0</td>\n",
              "      <td>0</td>\n",
              "      <td>0</td>\n",
              "    </tr>\n",
              "    <tr>\n",
              "      <th>89</th>\n",
              "      <td>8.24</td>\n",
              "      <td>8880</td>\n",
              "      <td>0.65</td>\n",
              "      <td>8780</td>\n",
              "      <td>1</td>\n",
              "      <td>0</td>\n",
              "      <td>0</td>\n",
              "    </tr>\n",
              "    <tr>\n",
              "      <th>12</th>\n",
              "      <td>13.83</td>\n",
              "      <td>8425</td>\n",
              "      <td>15.33</td>\n",
              "      <td>2183</td>\n",
              "      <td>0</td>\n",
              "      <td>0</td>\n",
              "      <td>1</td>\n",
              "    </tr>\n",
              "    <tr>\n",
              "      <th>5</th>\n",
              "      <td>15.64</td>\n",
              "      <td>11030</td>\n",
              "      <td>5.13</td>\n",
              "      <td>2113</td>\n",
              "      <td>0</td>\n",
              "      <td>0</td>\n",
              "      <td>1</td>\n",
              "    </tr>\n",
              "    <tr>\n",
              "      <th>64</th>\n",
              "      <td>7.11</td>\n",
              "      <td>3472</td>\n",
              "      <td>33.57</td>\n",
              "      <td>6191</td>\n",
              "      <td>1</td>\n",
              "      <td>0</td>\n",
              "      <td>0</td>\n",
              "    </tr>\n",
              "    <tr>\n",
              "      <th>60</th>\n",
              "      <td>8.50</td>\n",
              "      <td>3930</td>\n",
              "      <td>15.51</td>\n",
              "      <td>6123</td>\n",
              "      <td>1</td>\n",
              "      <td>0</td>\n",
              "      <td>0</td>\n",
              "    </tr>\n",
              "    <tr>\n",
              "      <th>92</th>\n",
              "      <td>7.81</td>\n",
              "      <td>4549</td>\n",
              "      <td>2.46</td>\n",
              "      <td>8785</td>\n",
              "      <td>1</td>\n",
              "      <td>0</td>\n",
              "      <td>0</td>\n",
              "    </tr>\n",
              "    <tr>\n",
              "      <th>97</th>\n",
              "      <td>7.58</td>\n",
              "      <td>5562</td>\n",
              "      <td>9.47</td>\n",
              "      <td>9171</td>\n",
              "      <td>1</td>\n",
              "      <td>0</td>\n",
              "      <td>0</td>\n",
              "    </tr>\n",
              "    <tr>\n",
              "      <th>4</th>\n",
              "      <td>14.62</td>\n",
              "      <td>8403</td>\n",
              "      <td>11.68</td>\n",
              "      <td>2111</td>\n",
              "      <td>0</td>\n",
              "      <td>0</td>\n",
              "      <td>1</td>\n",
              "    </tr>\n",
              "    <tr>\n",
              "      <th>40</th>\n",
              "      <td>12.09</td>\n",
              "      <td>3016</td>\n",
              "      <td>83.19</td>\n",
              "      <td>4161</td>\n",
              "      <td>0</td>\n",
              "      <td>0</td>\n",
              "      <td>0</td>\n",
              "    </tr>\n",
              "    <tr>\n",
              "      <th>77</th>\n",
              "      <td>8.40</td>\n",
              "      <td>6565</td>\n",
              "      <td>2.30</td>\n",
              "      <td>8333</td>\n",
              "      <td>1</td>\n",
              "      <td>0</td>\n",
              "      <td>0</td>\n",
              "    </tr>\n",
              "    <tr>\n",
              "      <th>9</th>\n",
              "      <td>14.64</td>\n",
              "      <td>11023</td>\n",
              "      <td>0.94</td>\n",
              "      <td>2153</td>\n",
              "      <td>0</td>\n",
              "      <td>0</td>\n",
              "      <td>1</td>\n",
              "    </tr>\n",
              "    <tr>\n",
              "      <th>75</th>\n",
              "      <td>10.09</td>\n",
              "      <td>8043</td>\n",
              "      <td>1.50</td>\n",
              "      <td>8311</td>\n",
              "      <td>1</td>\n",
              "      <td>0</td>\n",
              "      <td>0</td>\n",
              "    </tr>\n",
              "    <tr>\n",
              "      <th>87</th>\n",
              "      <td>9.05</td>\n",
              "      <td>8316</td>\n",
              "      <td>1.34</td>\n",
              "      <td>8731</td>\n",
              "      <td>1</td>\n",
              "      <td>0</td>\n",
              "      <td>0</td>\n",
              "    </tr>\n",
              "    <tr>\n",
              "      <th>63</th>\n",
              "      <td>7.33</td>\n",
              "      <td>3000</td>\n",
              "      <td>69.31</td>\n",
              "      <td>6162</td>\n",
              "      <td>1</td>\n",
              "      <td>0</td>\n",
              "      <td>0</td>\n",
              "    </tr>\n",
              "    <tr>\n",
              "      <th>70</th>\n",
              "      <td>7.64</td>\n",
              "      <td>5134</td>\n",
              "      <td>17.26</td>\n",
              "      <td>8215</td>\n",
              "      <td>1</td>\n",
              "      <td>0</td>\n",
              "      <td>0</td>\n",
              "    </tr>\n",
              "    <tr>\n",
              "      <th>81</th>\n",
              "      <td>8.76</td>\n",
              "      <td>3942</td>\n",
              "      <td>74.54</td>\n",
              "      <td>8534</td>\n",
              "      <td>1</td>\n",
              "      <td>0</td>\n",
              "      <td>0</td>\n",
              "    </tr>\n",
              "    <tr>\n",
              "      <th>11</th>\n",
              "      <td>12.30</td>\n",
              "      <td>7059</td>\n",
              "      <td>7.83</td>\n",
              "      <td>2163</td>\n",
              "      <td>0</td>\n",
              "      <td>0</td>\n",
              "      <td>1</td>\n",
              "    </tr>\n",
              "    <tr>\n",
              "      <th>95</th>\n",
              "      <td>12.27</td>\n",
              "      <td>14032</td>\n",
              "      <td>0.58</td>\n",
              "      <td>9111</td>\n",
              "      <td>0</td>\n",
              "      <td>0</td>\n",
              "      <td>1</td>\n",
              "    </tr>\n",
              "  </tbody>\n",
              "</table>\n",
              "<p>71 rows × 7 columns</p>\n",
              "</div>"
            ]
          },
          "metadata": {
            "tags": []
          },
          "execution_count": 39
        }
      ]
    },
    {
      "cell_type": "code",
      "metadata": {
        "colab": {
          "base_uri": "https://localhost:8080/"
        },
        "id": "cRyyr3KcwYfg",
        "outputId": "cb3ae257-cbc1-47d6-e829-2a7affcc7253"
      },
      "source": [
        "sigma = n/(y_train.size - 7 - 1)\n",
        "print(sigma)"
      ],
      "execution_count": 40,
      "outputs": [
        {
          "output_type": "stream",
          "text": [
            "60.38951521673473\n"
          ],
          "name": "stdout"
        }
      ]
    },
    {
      "cell_type": "code",
      "metadata": {
        "colab": {
          "base_uri": "https://localhost:8080/"
        },
        "id": "TePcxB1VwYfh",
        "outputId": "ef271a74-f423-4312-9d5a-6cd5e729100e"
      },
      "source": [
        "print(reg.coef_)\n",
        "print(reg.coef_[5])"
      ],
      "execution_count": 42,
      "outputs": [
        {
          "output_type": "stream",
          "text": [
            "[ 3.07507896e+00  1.43908356e-03  2.21687815e-02  9.64537017e-04\n",
            " -4.92916258e+00 -2.55678959e+00  8.80361847e+00]\n",
            "-2.5567895901388904\n"
          ],
          "name": "stdout"
        }
      ]
    },
    {
      "cell_type": "code",
      "metadata": {
        "colab": {
          "base_uri": "https://localhost:8080/"
        },
        "id": "J0buypwrwYfi",
        "outputId": "3fd97523-1204-4374-e1f3-bd44190e18fb"
      },
      "source": [
        "reg.intercept_"
      ],
      "execution_count": 43,
      "outputs": [
        {
          "output_type": "execute_result",
          "data": {
            "text/plain": [
              "-2.141954700938946"
            ]
          },
          "metadata": {
            "tags": []
          },
          "execution_count": 43
        }
      ]
    },
    {
      "cell_type": "code",
      "metadata": {
        "colab": {
          "base_uri": "https://localhost:8080/"
        },
        "id": "a3kPUKh4wYfj",
        "outputId": "dd4f0df4-8ae0-4940-c786-586f3cc8299d"
      },
      "source": [
        "coefficients = []\n",
        "for x in reg.coef_:\n",
        "    coefficients.append(x)\n",
        "print(coefficients)\n"
      ],
      "execution_count": 44,
      "outputs": [
        {
          "output_type": "stream",
          "text": [
            "[3.075078962820239, 0.0014390835564693444, 0.022168781486792882, 0.0009645370167960582, -4.929162577308903, -2.5567895901388904, 8.803618471695865]\n"
          ],
          "name": "stdout"
        }
      ]
    },
    {
      "cell_type": "code",
      "metadata": {
        "colab": {
          "base_uri": "https://localhost:8080/",
          "height": 195
        },
        "id": "KknWkY3cwYfk",
        "outputId": "1ab21caf-7696-490e-c1b7-f941d194af5d"
      },
      "source": [
        "X_test.head()"
      ],
      "execution_count": 49,
      "outputs": [
        {
          "output_type": "execute_result",
          "data": {
            "text/plain": [
              "    education  income  women  census  type_bc  type_other  type_prof  type_wc\n",
              "37      10.64    2448  91.76    4133        0           0          0        1\n",
              "1       12.26   25879   4.02    1130        0           0          1        0\n",
              "69       7.54    4199  33.30    8213        1           0          0        0\n",
              "80       8.78    6573   5.78    8515        1           0          0        0\n",
              "91       6.60    5959   0.52    8782        1           0          0        0"
            ],
            "text/html": [
              "<div>\n",
              "<style scoped>\n",
              "    .dataframe tbody tr th:only-of-type {\n",
              "        vertical-align: middle;\n",
              "    }\n",
              "\n",
              "    .dataframe tbody tr th {\n",
              "        vertical-align: top;\n",
              "    }\n",
              "\n",
              "    .dataframe thead th {\n",
              "        text-align: right;\n",
              "    }\n",
              "</style>\n",
              "<table border=\"1\" class=\"dataframe\">\n",
              "  <thead>\n",
              "    <tr style=\"text-align: right;\">\n",
              "      <th></th>\n",
              "      <th>education</th>\n",
              "      <th>income</th>\n",
              "      <th>women</th>\n",
              "      <th>census</th>\n",
              "      <th>type_bc</th>\n",
              "      <th>type_other</th>\n",
              "      <th>type_prof</th>\n",
              "      <th>type_wc</th>\n",
              "    </tr>\n",
              "  </thead>\n",
              "  <tbody>\n",
              "    <tr>\n",
              "      <th>37</th>\n",
              "      <td>10.64</td>\n",
              "      <td>2448</td>\n",
              "      <td>91.76</td>\n",
              "      <td>4133</td>\n",
              "      <td>0</td>\n",
              "      <td>0</td>\n",
              "      <td>0</td>\n",
              "      <td>1</td>\n",
              "    </tr>\n",
              "    <tr>\n",
              "      <th>1</th>\n",
              "      <td>12.26</td>\n",
              "      <td>25879</td>\n",
              "      <td>4.02</td>\n",
              "      <td>1130</td>\n",
              "      <td>0</td>\n",
              "      <td>0</td>\n",
              "      <td>1</td>\n",
              "      <td>0</td>\n",
              "    </tr>\n",
              "    <tr>\n",
              "      <th>69</th>\n",
              "      <td>7.54</td>\n",
              "      <td>4199</td>\n",
              "      <td>33.30</td>\n",
              "      <td>8213</td>\n",
              "      <td>1</td>\n",
              "      <td>0</td>\n",
              "      <td>0</td>\n",
              "      <td>0</td>\n",
              "    </tr>\n",
              "    <tr>\n",
              "      <th>80</th>\n",
              "      <td>8.78</td>\n",
              "      <td>6573</td>\n",
              "      <td>5.78</td>\n",
              "      <td>8515</td>\n",
              "      <td>1</td>\n",
              "      <td>0</td>\n",
              "      <td>0</td>\n",
              "      <td>0</td>\n",
              "    </tr>\n",
              "    <tr>\n",
              "      <th>91</th>\n",
              "      <td>6.60</td>\n",
              "      <td>5959</td>\n",
              "      <td>0.52</td>\n",
              "      <td>8782</td>\n",
              "      <td>1</td>\n",
              "      <td>0</td>\n",
              "      <td>0</td>\n",
              "      <td>0</td>\n",
              "    </tr>\n",
              "  </tbody>\n",
              "</table>\n",
              "</div>"
            ]
          },
          "metadata": {
            "tags": []
          },
          "execution_count": 49
        }
      ]
    },
    {
      "cell_type": "code",
      "metadata": {
        "id": "p3-3FpKkwYfk"
      },
      "source": [
        "X_test=X_test.drop('type_wc',axis=1)"
      ],
      "execution_count": 50,
      "outputs": []
    },
    {
      "cell_type": "code",
      "metadata": {
        "colab": {
          "base_uri": "https://localhost:8080/"
        },
        "id": "L0RNvsYmwYfl",
        "outputId": "c763278b-7af9-4a58-e21f-496052f8b484"
      },
      "source": [
        "error1 = y_test - reg.predict(X_test)\n",
        "sum_errors1 = 0\n",
        "for y in error1:\n",
        "    sum_errors1 = sum_errors1 + y*y\n",
        "sigma1 = sum_errors1/(y_train.size - 7 - 1)\n",
        "sigma1"
      ],
      "execution_count": 51,
      "outputs": [
        {
          "output_type": "execute_result",
          "data": {
            "text/plain": [
              "26.939421295164358"
            ]
          },
          "metadata": {
            "tags": []
          },
          "execution_count": 51
        }
      ]
    },
    {
      "cell_type": "code",
      "metadata": {
        "colab": {
          "base_uri": "https://localhost:8080/"
        },
        "id": "mgp-qOZcwYfq",
        "outputId": "0bf19497-703e-43da-af21-07d79aae622a"
      },
      "source": [
        "weights = []\n",
        "for x in range(7):\n",
        "    weights.append(reg.coef_[x])\n",
        "print(weights)"
      ],
      "execution_count": 56,
      "outputs": [
        {
          "output_type": "stream",
          "text": [
            "[3.075078962820239, 0.0014390835564693444, 0.022168781486792882, 0.0009645370167960582, -4.929162577308903, -2.5567895901388904, 8.803618471695865]\n"
          ],
          "name": "stdout"
        }
      ]
    },
    {
      "cell_type": "code",
      "metadata": {
        "colab": {
          "base_uri": "https://localhost:8080/"
        },
        "id": "zffW9OEGwYfs",
        "outputId": "d0c09a92-54ea-424f-a242-cb1f543ed77e"
      },
      "source": [
        "exact = sum(y_test - reg.predict(X_test)<0.1)\n",
        "total = len(y_test)\n",
        "print('The accuracy1 = ' + str(float(100*exact/total)) + '%')"
      ],
      "execution_count": 62,
      "outputs": [
        {
          "output_type": "stream",
          "text": [
            "The accuracy1 = 41.0%\n"
          ],
          "name": "stdout"
        }
      ]
    },
    {
      "cell_type": "code",
      "metadata": {
        "id": "N2vKUza2wYfu"
      },
      "source": [
        ""
      ],
      "execution_count": null,
      "outputs": []
    }
  ]
}