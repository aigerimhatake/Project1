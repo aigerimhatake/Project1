{
  "nbformat": 4,
  "nbformat_minor": 0,
  "metadata": {
    "kernelspec": {
      "display_name": "Python 2",
      "language": "python",
      "name": "python2"
    },
    "language_info": {
      "codemirror_mode": {
        "name": "ipython",
        "version": 2
      },
      "file_extension": ".py",
      "mimetype": "text/x-python",
      "name": "python",
      "nbconvert_exporter": "python",
      "pygments_lexer": "ipython2",
      "version": "2.7.15"
    },
    "colab": {
      "name": "Project_2.ipynb",
      "provenance": []
    }
  },
  "cells": [
    {
      "cell_type": "code",
      "metadata": {
        "id": "NzSHBECD7Ttk"
      },
      "source": [
        "import pandas as pd\n",
        "import numpy as np"
      ],
      "execution_count": 1,
      "outputs": []
    },
    {
      "cell_type": "code",
      "metadata": {
        "id": "YhNU4MI37Ttw"
      },
      "source": [
        "df = pd.read_csv('data.csv')"
      ],
      "execution_count": 2,
      "outputs": []
    },
    {
      "cell_type": "code",
      "metadata": {
        "colab": {
          "base_uri": "https://localhost:8080/",
          "height": 195
        },
        "id": "NGWluJIe7Ttx",
        "outputId": "248c7b6b-83d6-4e48-c7cc-75540f9ffebc"
      },
      "source": [
        "df.head()"
      ],
      "execution_count": 3,
      "outputs": [
        {
          "output_type": "execute_result",
          "data": {
            "text/plain": [
              "                   job  education  income  women  prestige  census  type\n",
              "0   gov.administrators      13.11   12351  11.16      68.8    1113  prof\n",
              "1     general.managers      12.26   25879   4.02      69.1    1130  prof\n",
              "2          accountants      12.77    9271  15.70      63.4    1171  prof\n",
              "3  purchasing.officers      11.42    8865   9.11      56.8    1175  prof\n",
              "4             chemists      14.62    8403  11.68      73.5    2111  prof"
            ],
            "text/html": [
              "<div>\n",
              "<style scoped>\n",
              "    .dataframe tbody tr th:only-of-type {\n",
              "        vertical-align: middle;\n",
              "    }\n",
              "\n",
              "    .dataframe tbody tr th {\n",
              "        vertical-align: top;\n",
              "    }\n",
              "\n",
              "    .dataframe thead th {\n",
              "        text-align: right;\n",
              "    }\n",
              "</style>\n",
              "<table border=\"1\" class=\"dataframe\">\n",
              "  <thead>\n",
              "    <tr style=\"text-align: right;\">\n",
              "      <th></th>\n",
              "      <th>job</th>\n",
              "      <th>education</th>\n",
              "      <th>income</th>\n",
              "      <th>women</th>\n",
              "      <th>prestige</th>\n",
              "      <th>census</th>\n",
              "      <th>type</th>\n",
              "    </tr>\n",
              "  </thead>\n",
              "  <tbody>\n",
              "    <tr>\n",
              "      <th>0</th>\n",
              "      <td>gov.administrators</td>\n",
              "      <td>13.11</td>\n",
              "      <td>12351</td>\n",
              "      <td>11.16</td>\n",
              "      <td>68.8</td>\n",
              "      <td>1113</td>\n",
              "      <td>prof</td>\n",
              "    </tr>\n",
              "    <tr>\n",
              "      <th>1</th>\n",
              "      <td>general.managers</td>\n",
              "      <td>12.26</td>\n",
              "      <td>25879</td>\n",
              "      <td>4.02</td>\n",
              "      <td>69.1</td>\n",
              "      <td>1130</td>\n",
              "      <td>prof</td>\n",
              "    </tr>\n",
              "    <tr>\n",
              "      <th>2</th>\n",
              "      <td>accountants</td>\n",
              "      <td>12.77</td>\n",
              "      <td>9271</td>\n",
              "      <td>15.70</td>\n",
              "      <td>63.4</td>\n",
              "      <td>1171</td>\n",
              "      <td>prof</td>\n",
              "    </tr>\n",
              "    <tr>\n",
              "      <th>3</th>\n",
              "      <td>purchasing.officers</td>\n",
              "      <td>11.42</td>\n",
              "      <td>8865</td>\n",
              "      <td>9.11</td>\n",
              "      <td>56.8</td>\n",
              "      <td>1175</td>\n",
              "      <td>prof</td>\n",
              "    </tr>\n",
              "    <tr>\n",
              "      <th>4</th>\n",
              "      <td>chemists</td>\n",
              "      <td>14.62</td>\n",
              "      <td>8403</td>\n",
              "      <td>11.68</td>\n",
              "      <td>73.5</td>\n",
              "      <td>2111</td>\n",
              "      <td>prof</td>\n",
              "    </tr>\n",
              "  </tbody>\n",
              "</table>\n",
              "</div>"
            ]
          },
          "metadata": {
            "tags": []
          },
          "execution_count": 3
        }
      ]
    },
    {
      "cell_type": "code",
      "metadata": {
        "id": "vGBgN9Lv7Tt0"
      },
      "source": [
        "df = df.drop('job', axis = 1)"
      ],
      "execution_count": 4,
      "outputs": []
    },
    {
      "cell_type": "code",
      "metadata": {
        "id": "5yqfo6487Tt0"
      },
      "source": [
        "df = df.fillna('other')"
      ],
      "execution_count": 5,
      "outputs": []
    },
    {
      "cell_type": "code",
      "metadata": {
        "colab": {
          "base_uri": "https://localhost:8080/",
          "height": 166
        },
        "id": "PW_Eagg27Tt1",
        "outputId": "794aaec9-46c3-4bca-adc6-648060f3f70f"
      },
      "source": [
        "df[df.type == 'other']"
      ],
      "execution_count": 6,
      "outputs": [
        {
          "output_type": "execute_result",
          "data": {
            "text/plain": [
              "    education  income  women  prestige  census   type\n",
              "33      11.44    8206   8.13      54.1    3373  other\n",
              "52       9.62     918   7.00      14.8    5143  other\n",
              "62       9.46     611  96.53      25.9    6147  other\n",
              "66       6.84    3643   3.60      44.1    7112  other"
            ],
            "text/html": [
              "<div>\n",
              "<style scoped>\n",
              "    .dataframe tbody tr th:only-of-type {\n",
              "        vertical-align: middle;\n",
              "    }\n",
              "\n",
              "    .dataframe tbody tr th {\n",
              "        vertical-align: top;\n",
              "    }\n",
              "\n",
              "    .dataframe thead th {\n",
              "        text-align: right;\n",
              "    }\n",
              "</style>\n",
              "<table border=\"1\" class=\"dataframe\">\n",
              "  <thead>\n",
              "    <tr style=\"text-align: right;\">\n",
              "      <th></th>\n",
              "      <th>education</th>\n",
              "      <th>income</th>\n",
              "      <th>women</th>\n",
              "      <th>prestige</th>\n",
              "      <th>census</th>\n",
              "      <th>type</th>\n",
              "    </tr>\n",
              "  </thead>\n",
              "  <tbody>\n",
              "    <tr>\n",
              "      <th>33</th>\n",
              "      <td>11.44</td>\n",
              "      <td>8206</td>\n",
              "      <td>8.13</td>\n",
              "      <td>54.1</td>\n",
              "      <td>3373</td>\n",
              "      <td>other</td>\n",
              "    </tr>\n",
              "    <tr>\n",
              "      <th>52</th>\n",
              "      <td>9.62</td>\n",
              "      <td>918</td>\n",
              "      <td>7.00</td>\n",
              "      <td>14.8</td>\n",
              "      <td>5143</td>\n",
              "      <td>other</td>\n",
              "    </tr>\n",
              "    <tr>\n",
              "      <th>62</th>\n",
              "      <td>9.46</td>\n",
              "      <td>611</td>\n",
              "      <td>96.53</td>\n",
              "      <td>25.9</td>\n",
              "      <td>6147</td>\n",
              "      <td>other</td>\n",
              "    </tr>\n",
              "    <tr>\n",
              "      <th>66</th>\n",
              "      <td>6.84</td>\n",
              "      <td>3643</td>\n",
              "      <td>3.60</td>\n",
              "      <td>44.1</td>\n",
              "      <td>7112</td>\n",
              "      <td>other</td>\n",
              "    </tr>\n",
              "  </tbody>\n",
              "</table>\n",
              "</div>"
            ]
          },
          "metadata": {
            "tags": []
          },
          "execution_count": 6
        }
      ]
    },
    {
      "cell_type": "code",
      "metadata": {
        "id": "UW9FIE_S7Tt2"
      },
      "source": [
        "df = pd.get_dummies(df,prefix=['type'])"
      ],
      "execution_count": 7,
      "outputs": []
    },
    {
      "cell_type": "code",
      "metadata": {
        "colab": {
          "base_uri": "https://localhost:8080/",
          "height": 195
        },
        "id": "a7ozN_iO7Tt3",
        "outputId": "7c07aa8a-8593-4898-d5ad-19ec9ad77a23"
      },
      "source": [
        "df.head()"
      ],
      "execution_count": 8,
      "outputs": [
        {
          "output_type": "execute_result",
          "data": {
            "text/plain": [
              "   education  income  women  prestige  census  type_bc  type_other  type_prof  \\\n",
              "0      13.11   12351  11.16      68.8    1113        0           0          1   \n",
              "1      12.26   25879   4.02      69.1    1130        0           0          1   \n",
              "2      12.77    9271  15.70      63.4    1171        0           0          1   \n",
              "3      11.42    8865   9.11      56.8    1175        0           0          1   \n",
              "4      14.62    8403  11.68      73.5    2111        0           0          1   \n",
              "\n",
              "   type_wc  \n",
              "0        0  \n",
              "1        0  \n",
              "2        0  \n",
              "3        0  \n",
              "4        0  "
            ],
            "text/html": [
              "<div>\n",
              "<style scoped>\n",
              "    .dataframe tbody tr th:only-of-type {\n",
              "        vertical-align: middle;\n",
              "    }\n",
              "\n",
              "    .dataframe tbody tr th {\n",
              "        vertical-align: top;\n",
              "    }\n",
              "\n",
              "    .dataframe thead th {\n",
              "        text-align: right;\n",
              "    }\n",
              "</style>\n",
              "<table border=\"1\" class=\"dataframe\">\n",
              "  <thead>\n",
              "    <tr style=\"text-align: right;\">\n",
              "      <th></th>\n",
              "      <th>education</th>\n",
              "      <th>income</th>\n",
              "      <th>women</th>\n",
              "      <th>prestige</th>\n",
              "      <th>census</th>\n",
              "      <th>type_bc</th>\n",
              "      <th>type_other</th>\n",
              "      <th>type_prof</th>\n",
              "      <th>type_wc</th>\n",
              "    </tr>\n",
              "  </thead>\n",
              "  <tbody>\n",
              "    <tr>\n",
              "      <th>0</th>\n",
              "      <td>13.11</td>\n",
              "      <td>12351</td>\n",
              "      <td>11.16</td>\n",
              "      <td>68.8</td>\n",
              "      <td>1113</td>\n",
              "      <td>0</td>\n",
              "      <td>0</td>\n",
              "      <td>1</td>\n",
              "      <td>0</td>\n",
              "    </tr>\n",
              "    <tr>\n",
              "      <th>1</th>\n",
              "      <td>12.26</td>\n",
              "      <td>25879</td>\n",
              "      <td>4.02</td>\n",
              "      <td>69.1</td>\n",
              "      <td>1130</td>\n",
              "      <td>0</td>\n",
              "      <td>0</td>\n",
              "      <td>1</td>\n",
              "      <td>0</td>\n",
              "    </tr>\n",
              "    <tr>\n",
              "      <th>2</th>\n",
              "      <td>12.77</td>\n",
              "      <td>9271</td>\n",
              "      <td>15.70</td>\n",
              "      <td>63.4</td>\n",
              "      <td>1171</td>\n",
              "      <td>0</td>\n",
              "      <td>0</td>\n",
              "      <td>1</td>\n",
              "      <td>0</td>\n",
              "    </tr>\n",
              "    <tr>\n",
              "      <th>3</th>\n",
              "      <td>11.42</td>\n",
              "      <td>8865</td>\n",
              "      <td>9.11</td>\n",
              "      <td>56.8</td>\n",
              "      <td>1175</td>\n",
              "      <td>0</td>\n",
              "      <td>0</td>\n",
              "      <td>1</td>\n",
              "      <td>0</td>\n",
              "    </tr>\n",
              "    <tr>\n",
              "      <th>4</th>\n",
              "      <td>14.62</td>\n",
              "      <td>8403</td>\n",
              "      <td>11.68</td>\n",
              "      <td>73.5</td>\n",
              "      <td>2111</td>\n",
              "      <td>0</td>\n",
              "      <td>0</td>\n",
              "      <td>1</td>\n",
              "      <td>0</td>\n",
              "    </tr>\n",
              "  </tbody>\n",
              "</table>\n",
              "</div>"
            ]
          },
          "metadata": {
            "tags": []
          },
          "execution_count": 8
        }
      ]
    },
    {
      "cell_type": "code",
      "metadata": {
        "id": "c2p3H-QY7Tt4"
      },
      "source": [
        "X = df[['education','income', 'women','census', 'type_bc', 'type_other','type_prof','type_wc']]\n",
        "y = df[['prestige']]"
      ],
      "execution_count": 9,
      "outputs": []
    },
    {
      "cell_type": "code",
      "metadata": {
        "id": "L8XJHs7F7Tt4"
      },
      "source": [
        "from sklearn.model_selection import train_test_split"
      ],
      "execution_count": 12,
      "outputs": []
    },
    {
      "cell_type": "code",
      "metadata": {
        "id": "LI9Uz2re7Tt5"
      },
      "source": [
        "X_train, X_test, y_train, y_test = train_test_split(X, y, test_size=0.05, random_state=1)\n",
        "X_train, X_val, y_train, y_val  = train_test_split(X_train, y_train, test_size=0.05, random_state=1)"
      ],
      "execution_count": 13,
      "outputs": []
    },
    {
      "cell_type": "code",
      "metadata": {
        "id": "rGBGEziD7Tt7"
      },
      "source": [
        "from sklearn import preprocessing"
      ],
      "execution_count": 14,
      "outputs": []
    },
    {
      "cell_type": "code",
      "metadata": {
        "colab": {
          "base_uri": "https://localhost:8080/"
        },
        "id": "NOroKrNj7Tt8",
        "outputId": "4d3e2e7b-d154-4753-fd95-3c542dc335cf"
      },
      "source": [
        "# feature scaling\n",
        "from sklearn.preprocessing import StandardScaler\n",
        "scaler = StandardScaler()\n",
        "X_train = scaler.fit_transform(X_train)\n",
        "X_test = scaler.transform(X_test)\n",
        "X_val = scaler.transform(X_val)"
      ],
      "execution_count": 15,
      "outputs": [
        {
          "output_type": "stream",
          "text": [
            "/usr/local/lib/python2.7/dist-packages/sklearn/preprocessing/data.py:645: DataConversionWarning: Data with input dtype uint8, int64, float64 were all converted to float64 by StandardScaler.\n",
            "  return self.partial_fit(X, y)\n",
            "/usr/local/lib/python2.7/dist-packages/sklearn/base.py:464: DataConversionWarning: Data with input dtype uint8, int64, float64 were all converted to float64 by StandardScaler.\n",
            "  return self.fit(X, **fit_params).transform(X)\n",
            "/usr/local/lib/python2.7/dist-packages/ipykernel_launcher.py:5: DataConversionWarning: Data with input dtype uint8, int64, float64 were all converted to float64 by StandardScaler.\n",
            "  \"\"\"\n",
            "/usr/local/lib/python2.7/dist-packages/ipykernel_launcher.py:6: DataConversionWarning: Data with input dtype uint8, int64, float64 were all converted to float64 by StandardScaler.\n",
            "  \n"
          ],
          "name": "stderr"
        }
      ]
    },
    {
      "cell_type": "code",
      "metadata": {
        "colab": {
          "base_uri": "https://localhost:8080/"
        },
        "id": "8Itx_XMj7Tt8",
        "outputId": "1c04d18c-5893-4a3f-beb0-2b46bcce60a7"
      },
      "source": [
        "X_val"
      ],
      "execution_count": 16,
      "outputs": [
        {
          "output_type": "execute_result",
          "data": {
            "text/plain": [
              "array([[ 1.24734271, -0.12039291,  0.81874227, -1.13485154, -0.84674738,\n",
              "        -0.21442251,  1.5       , -0.54772256],\n",
              "       [-0.88536371, -0.48228512, -0.91145438,  1.60914054,  1.18098977,\n",
              "        -0.21442251, -0.66666667, -0.54772256],\n",
              "       [-0.2901049 , -0.09158785, -0.48245912,  1.68695641,  1.18098977,\n",
              "        -0.21442251, -0.66666667, -0.54772256],\n",
              "       [ 0.23211602, -0.13799601,  0.32593476, -0.40306792, -0.84674738,\n",
              "        -0.21442251, -0.66666667,  1.82574186],\n",
              "       [-0.98396487, -0.2440718 , -0.8858663 ,  1.32145761,  1.18098977,\n",
              "        -0.21442251, -0.66666667, -0.54772256]])"
            ]
          },
          "metadata": {
            "tags": []
          },
          "execution_count": 16
        }
      ]
    },
    {
      "cell_type": "code",
      "metadata": {
        "colab": {
          "base_uri": "https://localhost:8080/"
        },
        "id": "tzBKTd0j7TuB",
        "outputId": "9b0483c5-823f-4ad5-d012-e8622db549e9"
      },
      "source": [
        "from sklearn import linear_model\n",
        "reg = linear_model.LinearRegression()\n",
        "reg = reg.fit(X_train, y_train)                                       \n",
        "reg.coef_\n"
      ],
      "execution_count": 20,
      "outputs": [
        {
          "output_type": "execute_result",
          "data": {
            "text/plain": [
              "array([[10.2000972 ,  4.65385508,  0.3862062 ,  4.50312655, -2.83675077,\n",
              "        -0.82554553,  4.48945694, -1.1958672 ]])"
            ]
          },
          "metadata": {
            "tags": []
          },
          "execution_count": 20
        }
      ]
    },
    {
      "cell_type": "code",
      "metadata": {
        "colab": {
          "base_uri": "https://localhost:8080/"
        },
        "id": "H65udwzE7TuC",
        "outputId": "b946d686-5167-429c-f50a-944f9be3a86d"
      },
      "source": [
        "print(reg)"
      ],
      "execution_count": 21,
      "outputs": [
        {
          "output_type": "stream",
          "text": [
            "LinearRegression(copy_X=True, fit_intercept=True, n_jobs=None,\n",
            "         normalize=False)\n"
          ],
          "name": "stdout"
        }
      ]
    },
    {
      "cell_type": "code",
      "metadata": {
        "colab": {
          "base_uri": "https://localhost:8080/"
        },
        "id": "tXmFw1Vw7TuD",
        "outputId": "b8fed8ae-7eb3-48a7-f266-ea94eccb8d64"
      },
      "source": [
        "error = y_train - reg.predict(X_train)\n",
        "sum_errors = 0\n",
        "for y in error.values:\n",
        "    sum_errors = sum_errors + y*y\n",
        "sigma = sum_errors/(y_train.size - 8 - 1)\n",
        "\n",
        "mat = np.linalg.inv(np.matmul(np.transpose(X_train),X_train))\n",
        "coefficients = []\n",
        "for x in reg.coef_:\n",
        "    coefficients.append(x)\n",
        "order3 = []\n",
        "for x in range(0,len(coefficients)):\n",
        "    order3.append(np.abs(coefficients[x]/(np.sqrt(sigma*np.abs(mat[x][x])))))\n",
        "print(order3)\n"
      ],
      "execution_count": 23,
      "outputs": [
        {
          "output_type": "stream",
          "text": [
            "[array([5.22713837, 2.384913  , 0.1979151 , 2.30767071, 1.45372034,\n",
            "       0.42305878, 2.30066559, 0.6128337 ])]\n"
          ],
          "name": "stdout"
        }
      ]
    },
    {
      "cell_type": "code",
      "metadata": {
        "colab": {
          "base_uri": "https://localhost:8080/"
        },
        "id": "y4v_0Uwg7TuF",
        "outputId": "167eda9e-59e8-4ed3-ae4d-95da70bb507f"
      },
      "source": [
        "pd.Series(order3[0])\n"
      ],
      "execution_count": 24,
      "outputs": [
        {
          "output_type": "execute_result",
          "data": {
            "text/plain": [
              "0    5.227138\n",
              "1    2.384913\n",
              "2    0.197915\n",
              "3    2.307671\n",
              "4    1.453720\n",
              "5    0.423059\n",
              "6    2.300666\n",
              "7    0.612834\n",
              "dtype: float64"
            ]
          },
          "metadata": {
            "tags": []
          },
          "execution_count": 24
        }
      ]
    },
    {
      "cell_type": "code",
      "metadata": {
        "id": "WidERE4v7TuH"
      },
      "source": [
        "relevant = []\n",
        "moderate = []\n",
        "not_relevant = []\n",
        "for x in range(len(order3[0])):\n",
        "    if order3[0][x] >= 1.6:\n",
        "        relevant.append(X.columns[x])\n",
        "    elif order3[0][x] >= 1.2:\n",
        "        moderate.append(X.columns[x])\n",
        "    else:\n",
        "        not_relevant.append(X.columns[x])\n"
      ],
      "execution_count": 25,
      "outputs": []
    },
    {
      "cell_type": "code",
      "metadata": {
        "colab": {
          "base_uri": "https://localhost:8080/"
        },
        "id": "2Zj5HEjU7TuI",
        "outputId": "f95e400e-37ef-46d7-9460-71b4e9569459"
      },
      "source": [
        "relevant"
      ],
      "execution_count": 26,
      "outputs": [
        {
          "output_type": "execute_result",
          "data": {
            "text/plain": [
              "['education', 'income', 'census', 'type_prof']"
            ]
          },
          "metadata": {
            "tags": []
          },
          "execution_count": 26
        }
      ]
    },
    {
      "cell_type": "code",
      "metadata": {
        "colab": {
          "base_uri": "https://localhost:8080/"
        },
        "id": "KYdziU8o7TuI",
        "outputId": "2b759361-d92e-4cd0-8e6e-99d16bd6f8e0"
      },
      "source": [
        "moderate"
      ],
      "execution_count": 27,
      "outputs": [
        {
          "output_type": "execute_result",
          "data": {
            "text/plain": [
              "['type_bc']"
            ]
          },
          "metadata": {
            "tags": []
          },
          "execution_count": 27
        }
      ]
    },
    {
      "cell_type": "code",
      "metadata": {
        "colab": {
          "base_uri": "https://localhost:8080/"
        },
        "id": "ussPEI207TuI",
        "outputId": "2a797617-771d-4286-c40e-a72996d44591"
      },
      "source": [
        "not_relevant"
      ],
      "execution_count": 28,
      "outputs": [
        {
          "output_type": "execute_result",
          "data": {
            "text/plain": [
              "['women', 'type_other', 'type_wc']"
            ]
          },
          "metadata": {
            "tags": []
          },
          "execution_count": 28
        }
      ]
    },
    {
      "cell_type": "code",
      "metadata": {
        "id": "tZLbgQgy7TuI"
      },
      "source": [
        "import matplotlib.pyplot as plt\n"
      ],
      "execution_count": 29,
      "outputs": []
    },
    {
      "cell_type": "code",
      "metadata": {
        "id": "KVe-hD217TuJ"
      },
      "source": [
        "import seaborn as sns"
      ],
      "execution_count": 30,
      "outputs": []
    },
    {
      "cell_type": "code",
      "metadata": {
        "colab": {
          "base_uri": "https://localhost:8080/",
          "height": 1000
        },
        "id": "QjE8e0Zd7TuJ",
        "outputId": "e6c3620f-6453-4f5a-8f25-e787326f3914"
      },
      "source": [
        "sns.pairplot(df)"
      ],
      "execution_count": 31,
      "outputs": [
        {
          "output_type": "execute_result",
          "data": {
            "text/plain": [
              "<seaborn.axisgrid.PairGrid at 0x7f608a7079d0>"
            ]
          },
          "metadata": {
            "tags": []
          },
          "execution_count": 31
        },
        {
          "output_type": "display_data",
          "data": {
            "image/png": "[encoded data removed]",
            "text/plain": [
              "<Figure size 1620x1620 with 90 Axes>"
            ]
          },
          "metadata": {
            "tags": [],
            "needs_background": "light"
          }
        }
      ]
    },
    {
      "cell_type": "code",
      "metadata": {
        "id": "srJBjLg77TuK"
      },
      "source": [
        "from sklearn.preprocessing import PolynomialFeatures"
      ],
      "execution_count": 32,
      "outputs": []
    },
    {
      "cell_type": "code",
      "metadata": {
        "id": "q1BdVf5V7TuK"
      },
      "source": [
        "poly = PolynomialFeatures(2, include_bias = False)\n",
        "X_train_poly = poly.fit_transform(X_train)"
      ],
      "execution_count": 33,
      "outputs": []
    },
    {
      "cell_type": "code",
      "metadata": {
        "id": "QonMQgOX7TuK"
      },
      "source": [
        "from sklearn.decomposition import PCA"
      ],
      "execution_count": 34,
      "outputs": []
    },
    {
      "cell_type": "code",
      "metadata": {
        "colab": {
          "base_uri": "https://localhost:8080/"
        },
        "id": "6yGc2NoZ7TuL",
        "outputId": "7428d9fe-370d-413b-8342-71e4051bdf64"
      },
      "source": [
        "pca = PCA(n_components=15)\n",
        "pca.fit(X_train_poly)"
      ],
      "execution_count": 35,
      "outputs": [
        {
          "output_type": "execute_result",
          "data": {
            "text/plain": [
              "PCA(copy=True, iterated_power='auto', n_components=15, random_state=None,\n",
              "  svd_solver='auto', tol=0.0, whiten=False)"
            ]
          },
          "metadata": {
            "tags": []
          },
          "execution_count": 35
        }
      ]
    },
    {
      "cell_type": "code",
      "metadata": {
        "colab": {
          "base_uri": "https://localhost:8080/"
        },
        "id": "CkSkWnIi7TuL",
        "outputId": "a1bf42c9-3127-4064-cb12-dbac0b29da28"
      },
      "source": [
        "ratios = pca.explained_variance_ratio_\n",
        "n = 0\n",
        "sum = 0\n",
        "for x in ratios:\n",
        "    if sum < 0.9:\n",
        "        n = n+1\n",
        "        sum = sum + x\n",
        "    else:\n",
        "        break\n",
        "        \n",
        "print(n)"
      ],
      "execution_count": 36,
      "outputs": [
        {
          "output_type": "stream",
          "text": [
            "7\n"
          ],
          "name": "stdout"
        }
      ]
    },
    {
      "cell_type": "code",
      "metadata": {
        "colab": {
          "base_uri": "https://localhost:8080/"
        },
        "id": "s8m81tva7TuN",
        "outputId": "999d6e16-573c-4e7b-8a23-eac83b67d81c"
      },
      "source": [
        "pca_data = pd.DataFrame(pca.transform(X_train_poly))\n",
        "print(pca_data)"
      ],
      "execution_count": 37,
      "outputs": [
        {
          "output_type": "stream",
          "text": [
            "           0          1         2         3         4         5         6   \\\n",
            "0   -1.190486   0.380921 -1.992659 -3.308688  0.600899 -1.463899  0.359131   \n",
            "1   -0.779460  -2.025702 -0.647983  1.251622  0.046605 -0.833639  0.934650   \n",
            "2   -1.019845  -2.037728 -1.944639  2.072399  0.669670 -1.296085  0.039184   \n",
            "3   -1.462691   4.334629 -1.739975 -2.933522 -0.048526  0.338204 -0.875805   \n",
            "4   -0.964382  -1.997353 -1.686260  1.889301  0.302100 -0.960202  0.279861   \n",
            "5   -0.886777  -1.296972 -1.213470  1.669135 -0.586860  0.198110  0.382362   \n",
            "6   -0.691100  -1.156351  0.341078  0.723744  0.264764  2.159673 -0.063071   \n",
            "7   -0.889324  -2.175497 -1.214364  1.688235  0.327104 -1.214942  0.712504   \n",
            "8   -1.069057   0.269927 -1.347081 -2.921984 -0.273626  0.345107  0.596865   \n",
            "9   -0.801925  -1.157026 -0.586801  1.614282 -0.684426 -0.254420  0.934541   \n",
            "10  -1.143313   0.943065 -1.312323 -2.646941 -0.244296  0.111468  0.745076   \n",
            "11  -1.061831  -0.817866 -2.118528  2.067751 -0.238072  1.097212 -0.557892   \n",
            "12  23.035813   0.660324 -1.387002 -0.414594 -2.241858 -1.929875 -2.610198   \n",
            "13  -0.930870  -1.911053 -1.418705  1.918715  0.127887 -1.022129  0.613026   \n",
            "14  -0.788407  -2.301726  2.318707 -0.478942 -2.715106  0.697733  1.830860   \n",
            "15  -0.974947  -1.016898 -0.975801 -2.956632  2.566024 -2.856004  0.702435   \n",
            "16  -0.873516  -2.997496  4.665954 -0.378628  0.377323 -0.800204 -1.094902   \n",
            "17  -0.834020  -2.583816  3.854729 -0.477949 -1.277265  0.085411  0.211123   \n",
            "18  -1.432961   3.608603 -1.889363 -3.415491  0.189607  1.245021 -1.068609   \n",
            "19  -0.811044  -2.313178  6.489195 -0.281798  1.825470 -0.260890 -1.851692   \n",
            "20  -1.999420  19.812221  3.955066  4.194715 -0.578526 -1.561357  0.102480   \n",
            "21  -0.833476  -1.850738  4.931596 -0.341414 -0.397752  0.261307 -0.471761   \n",
            "22  -0.912892  -0.493492 -1.055372  1.645250 -0.436031  2.252113 -0.424773   \n",
            "23  -1.046917  -1.355714 -2.144922  2.046402 -0.023511  0.018195 -0.294517   \n",
            "24  -0.759333  -2.006829 -0.651863  1.078940 -0.344248 -0.504832  1.047462   \n",
            "25  -0.998583  -2.161084 -1.773720  1.984617  0.826067 -1.522047  0.168703   \n",
            "26  -0.787255  -2.948000  6.359563 -0.455487  2.254956 -0.563542 -2.137663   \n",
            "27  -0.810674  -1.596173 -0.079345 -2.505209  3.435154 -2.765830  0.920367   \n",
            "28  -0.775002  -2.295428  2.168760 -0.554848 -2.814697  0.709257  2.067340   \n",
            "29  -0.774798  -2.197807  2.076981 -0.436163 -2.827399  0.929572  2.127083   \n",
            "..        ...        ...       ...       ...       ...       ...       ...   \n",
            "61  -1.120999  -1.518432 -2.506256  2.311764  0.476146 -0.696840 -0.462115   \n",
            "62  -1.248147   1.477983 -1.699347 -2.937326 -0.095067 -0.059466  0.415137   \n",
            "63  -1.346580   3.361113 -1.307884 -2.958320  0.074855  1.178549 -0.555355   \n",
            "64  -1.375451   3.602037 -1.230132 -2.355546 -0.102229  0.110794  0.198578   \n",
            "65  -1.117678  -1.165785 -2.301866  2.586189  0.545035 -1.017172 -0.452493   \n",
            "66  -1.343147   3.178694 -1.414711 -3.086779  0.096526  1.228508 -0.613151   \n",
            "67  -0.983315  -1.956640 -1.788802  1.942494  0.296272 -0.923137  0.223478   \n",
            "68  -0.902020  -0.191808 -0.785756  1.562496  0.157268  3.412901 -1.038993   \n",
            "69  -0.747531  -2.077244  1.912611 -0.388770 -2.845617  1.061420  2.530332   \n",
            "70  21.131047  -0.202155 -1.004834 -0.482767 -3.772278 -1.267795 -3.221753   \n",
            "71  -0.737709  -1.937779 -0.428353  1.052700 -0.166227 -0.700824  1.145223   \n",
            "72  -0.836083  -2.492666  4.400138 -0.423414 -0.745113 -0.031977 -0.185046   \n",
            "73  -1.046917  -1.355714 -2.144922  2.046402 -0.023511  0.018195 -0.294517   \n",
            "74  -0.825325  -2.707055  4.987404 -0.447352  0.195202 -0.245370 -0.851613   \n",
            "75  -0.768051  -2.233876  2.216482 -0.563573 -2.893664  0.730538  2.152303   \n",
            "76  -1.272037   1.543592 -1.991376 -3.525052  0.027291  0.566779 -0.289977   \n",
            "77  -1.116331  -0.732422 -2.468083  2.108230 -0.083826  1.158428 -0.954489   \n",
            "78  -0.915573  -0.592130 -0.952199 -2.298153 -0.563537 -0.197219  1.170088   \n",
            "79  -1.197988   0.480666 -1.922797 -3.228610  0.925750 -1.936988  0.332066   \n",
            "80  -0.934863  -1.122258 -0.845653 -2.889619  2.444522 -2.643420  0.784477   \n",
            "81  -1.049410   0.837514 -1.282950  1.872974  1.645470  5.799059 -2.786196   \n",
            "82  -0.828511  -2.587749  5.717750 -0.304918  1.056427 -0.599395 -1.361339   \n",
            "83  -1.088386  -1.410010 -2.215669  2.419360  0.494498 -0.982436 -0.298775   \n",
            "84  -1.326676   1.908958 -2.158289 -3.351010  0.190604 -0.677470 -0.228533   \n",
            "85  -0.793364  -2.546664  6.552444 -0.408464  2.146462 -0.171715 -2.090427   \n",
            "86  -1.294183   2.349213 -1.725243 -3.089497 -0.147221 -0.005490 -0.273861   \n",
            "87  -0.797307  -2.710033  6.523618 -0.356707  2.227968 -0.555676 -2.082103   \n",
            "88  -0.913259  -2.077453 -1.404130  1.747743  0.322456 -1.030124  0.419511   \n",
            "89  -0.929870  -0.501840 -1.134426  1.659808  0.476229  3.325265 -0.951340   \n",
            "90  -0.935851  -2.151913 -1.462741  1.866263  0.415672 -1.280166  0.558248   \n",
            "\n",
            "          7         8         9         10        11        12        13  \\\n",
            "0   0.623974 -0.700957  0.120278 -0.315355 -0.665150  0.132957 -0.131741   \n",
            "1   0.185090  0.477111  0.135310  1.624891  0.644887 -0.148559  0.163769   \n",
            "2  -0.751938  0.196700  0.133908 -0.366970  0.405518  0.082872  0.101661   \n",
            "3  -1.100610 -1.525177  0.871295  0.307346  0.040116 -0.155868 -0.066322   \n",
            "4  -0.472136  0.340634  0.072550  0.158597  0.317817 -0.001177 -0.000483   \n",
            "5   0.404940 -0.253519  0.081097  1.465213 -0.885840 -0.365714 -0.063300   \n",
            "6   3.075132  0.048822 -0.658865  2.008608  0.128704 -0.838280  0.737964   \n",
            "7  -0.342186  0.841981  0.023749  0.628581  1.115570  0.110268 -0.010820   \n",
            "8  -0.027962  2.024894 -0.926945  0.360547 -0.246822  0.243087  0.087845   \n",
            "9   0.810043  0.127190 -0.081830  2.150122 -0.957576 -0.495326 -0.002556   \n",
            "10 -0.123341  2.842051 -1.347927 -0.407224 -0.319879 -0.378810 -0.200709   \n",
            "11 -0.099310 -0.195529 -0.052270 -0.345498 -0.617772  0.117355 -0.211790   \n",
            "12 -0.776854 -2.907280 -4.611108 -0.041830  0.864822 -1.711162 -0.414000   \n",
            "13 -0.294041  0.849982 -0.128382  0.357368  0.486955 -0.246224 -0.233671   \n",
            "14  0.031706 -0.614135  0.136179 -0.501296  0.034295 -0.187682  0.428705   \n",
            "15  3.096751 -1.458087  0.149144 -0.740897  0.016055 -0.020459 -0.108921   \n",
            "16 -0.893599 -0.357127  0.008325 -0.633474 -0.890187 -0.374586  1.540893   \n",
            "17 -0.651478 -0.166074  0.065517 -0.088076 -0.518328  0.045407 -0.023807   \n",
            "18 -1.347814 -0.203229  0.357208 -0.058770  0.429409 -0.012589  0.132821   \n",
            "19 -0.235451  0.401317 -0.039131  0.360755  0.272526  0.194892 -0.519955   \n",
            "20  0.393199 -2.391554  1.118592  1.138059  0.453886  1.033751  0.205902   \n",
            "21 -0.518303  0.133383  0.044139  0.374543 -0.153357  0.430000 -1.403597   \n",
            "22  1.317574 -0.421676 -0.117895  1.118403 -0.661818 -0.137510  0.011518   \n",
            "23 -0.467415 -0.266302  0.106006 -0.200583 -0.502405  0.036944 -0.085857   \n",
            "24  0.253962  0.645012  0.025438  1.838130  0.618462 -0.259445 -0.020138   \n",
            "25 -0.751756  0.340157  0.160156 -0.306469  0.846690  0.480597  0.308256   \n",
            "26 -0.201600  0.281464 -0.141963  0.045551 -0.046556 -0.283503  0.560906   \n",
            "27  4.460113 -1.192947 -0.016757 -0.669967  0.785518 -0.036481 -0.116384   \n",
            "28  0.173242 -0.748147  0.156242 -0.586541  0.330925 -0.032466 -0.411321   \n",
            "29  0.318604 -0.783161  0.177339 -0.742785  0.381171 -0.285301  0.882300   \n",
            "..       ...       ...       ...       ...       ...       ...       ...   \n",
            "61 -0.973921 -0.135519  0.099448 -1.049889 -0.188415  0.109433 -0.034361   \n",
            "62 -0.367366  1.979930 -0.896482 -0.616420 -0.329080 -0.288107 -0.201969   \n",
            "63 -0.966767  0.870694 -0.107284  0.081553  0.480663 -0.263593  0.096828   \n",
            "64 -0.625970  1.958665 -0.801352 -0.868726 -0.167448 -0.796432 -0.303559   \n",
            "65 -0.815195 -0.577280  0.202985 -0.761330 -0.641316 -0.251499 -0.059821   \n",
            "66 -1.002887  0.796616 -0.077659  0.089402  0.481860 -0.181002  0.126299   \n",
            "67 -0.534679  0.379288  0.041107 -0.016327  0.303244  0.033015 -0.028558   \n",
            "68  1.988770 -0.486397 -0.224217  0.825823 -0.079896 -0.027960  0.169020   \n",
            "69  0.755041 -0.875961  0.174136 -0.982377  0.877771 -0.320088  0.823040   \n",
            "70  2.304269  3.509653  5.212602 -0.760086 -0.019971 -0.867153 -0.185260   \n",
            "71  0.228728  0.731158  0.079710  1.941811  1.062302 -0.189044  0.024957   \n",
            "72 -0.642771 -0.033553  0.046915  0.055218 -0.449563  0.153706 -0.276256   \n",
            "73 -0.467415 -0.266302  0.106006 -0.200583 -0.502405  0.036944 -0.085857   \n",
            "74 -0.578252  0.067067 -0.015852  0.045625 -0.443355 -0.047425  0.157940   \n",
            "75  0.225265 -0.962545  0.185807 -0.755563  0.615845  0.318333 -1.205543   \n",
            "76 -0.725334  0.555635 -0.136295  0.008769 -0.082157  0.288930  0.136792   \n",
            "77 -0.407734 -0.739105  0.150628 -0.602211 -0.755712  0.233826 -0.096591   \n",
            "78  0.713041  1.505496 -0.800899  0.987574 -0.557924  0.199178 -0.038981   \n",
            "79  0.930521 -1.170173  0.246636 -0.512364 -0.651397 -0.086902 -0.203136   \n",
            "80  3.199439 -1.433664  0.170768 -0.515244  0.003264  0.127037 -0.108454   \n",
            "81  2.123516 -0.020206 -0.579942 -1.827434  1.287414  0.634649  0.020967   \n",
            "82 -0.459228  0.155707 -0.083318 -0.058724 -0.526601 -0.062464  0.466572   \n",
            "83 -0.769590 -0.302716  0.151695 -0.634880 -0.402119 -0.188958 -0.057435   \n",
            "84 -0.357407 -1.072459  0.443445 -0.150269 -0.530525 -0.024849 -0.128117   \n",
            "85 -0.171163  0.420634 -0.061188  0.368619  0.405751  0.063047 -0.397286   \n",
            "86 -0.515689 -0.978437  0.573768  0.596468 -0.213567 -0.018476 -0.045121   \n",
            "87 -0.190322  0.354317 -0.124359  0.104340  0.015388 -0.130997  0.279388   \n",
            "88 -0.287337  0.234822  0.149430  0.620787  0.328000 -0.125490  0.065431   \n",
            "89  1.689102  1.067281 -0.894930 -0.965892  0.643683  0.275477 -0.305741   \n",
            "90 -0.482458  0.846606 -0.024914  0.224550  0.947816  0.016731 -0.073013   \n",
            "\n",
            "          14  \n",
            "0  -0.137040  \n",
            "1  -0.490218  \n",
            "2  -0.044257  \n",
            "3   0.205762  \n",
            "4   0.057896  \n",
            "5   0.130549  \n",
            "6   0.120810  \n",
            "7   0.053880  \n",
            "8  -0.209809  \n",
            "9   0.385929  \n",
            "10  0.510054  \n",
            "11 -0.035298  \n",
            "12 -1.040992  \n",
            "13  0.709172  \n",
            "14  0.087324  \n",
            "15  0.161313  \n",
            "16  0.058407  \n",
            "17  0.012309  \n",
            "18 -0.080303  \n",
            "19 -0.063782  \n",
            "20 -0.494154  \n",
            "21 -0.242366  \n",
            "22 -0.121908  \n",
            "23 -0.068195  \n",
            "24 -0.075394  \n",
            "25 -0.730772  \n",
            "26  0.292524  \n",
            "27  0.346703  \n",
            "28  0.014364  \n",
            "29  0.104527  \n",
            "..       ...  \n",
            "61  0.033158  \n",
            "62  0.490590  \n",
            "63  0.252265  \n",
            "64  0.978168  \n",
            "65  0.480762  \n",
            "66  0.153839  \n",
            "67  0.089067  \n",
            "68 -0.185927  \n",
            "69  0.118306  \n",
            "70 -0.585680  \n",
            "71 -0.203649  \n",
            "72 -0.082295  \n",
            "73 -0.068195  \n",
            "74  0.063267  \n",
            "75 -0.019026  \n",
            "76 -0.382752  \n",
            "77 -0.355604  \n",
            "78 -0.263502  \n",
            "79  0.225629  \n",
            "80 -0.126247  \n",
            "81 -0.174683  \n",
            "82 -0.258354  \n",
            "83  0.399190  \n",
            "84  0.031376  \n",
            "85  0.182598  \n",
            "86  0.000903  \n",
            "87  0.067742  \n",
            "88  0.009112  \n",
            "89  0.290824  \n",
            "90  0.325636  \n",
            "\n",
            "[91 rows x 15 columns]\n"
          ],
          "name": "stdout"
        }
      ]
    },
    {
      "cell_type": "code",
      "metadata": {
        "colab": {
          "base_uri": "https://localhost:8080/"
        },
        "id": "vFsbfy3O7TuN",
        "outputId": "0204fa6b-df6a-4049-d34c-e75b80a6ea6e"
      },
      "source": [
        "pd.Series(pca.components_[0]).sort_values(ascending=False)"
      ],
      "execution_count": 38,
      "outputs": [
        {
          "output_type": "execute_result",
          "data": {
            "text/plain": [
              "38    0.914222\n",
              "5     0.205477\n",
              "12    0.057215\n",
              "36    0.054459\n",
              "19    0.050194\n",
              "32    0.036206\n",
              "37    0.035028\n",
              "42    0.032650\n",
              "22    0.032551\n",
              "23    0.028615\n",
              "11    0.026822\n",
              "31    0.020085\n",
              "15    0.014709\n",
              "18    0.012896\n",
              "24    0.011223\n",
              "3     0.008266\n",
              "27    0.006938\n",
              "25    0.006758\n",
              "10    0.005635\n",
              "2     0.004367\n",
              "26    0.002806\n",
              "17    0.002799\n",
              "33    0.001910\n",
              "9    -0.009171\n",
              "34   -0.011687\n",
              "21   -0.011961\n",
              "16   -0.014034\n",
              "28   -0.016875\n",
              "7    -0.018751\n",
              "8    -0.023368\n",
              "43   -0.023964\n",
              "14   -0.027426\n",
              "0    -0.029465\n",
              "41   -0.030656\n",
              "4    -0.034965\n",
              "29   -0.035060\n",
              "6    -0.036787\n",
              "30   -0.043865\n",
              "1    -0.044814\n",
              "13   -0.106125\n",
              "40   -0.108524\n",
              "39   -0.129097\n",
              "20   -0.160724\n",
              "35   -0.166490\n",
              "dtype: float64"
            ]
          },
          "metadata": {
            "tags": []
          },
          "execution_count": 38
        }
      ]
    },
    {
      "cell_type": "code",
      "metadata": {
        "colab": {
          "base_uri": "https://localhost:8080/"
        },
        "id": "azPXj-dT7TuO",
        "outputId": "ffe8273c-80ef-4f79-fb9d-70918e83ffce"
      },
      "source": [
        "arr = np.arange(9).reshape(3,3)\n",
        "poly.fit_transform(arr)"
      ],
      "execution_count": 39,
      "outputs": [
        {
          "output_type": "execute_result",
          "data": {
            "text/plain": [
              "array([[ 0.,  1.,  2.,  0.,  0.,  0.,  1.,  2.,  4.],\n",
              "       [ 3.,  4.,  5.,  9., 12., 15., 16., 20., 25.],\n",
              "       [ 6.,  7.,  8., 36., 42., 48., 49., 56., 64.]])"
            ]
          },
          "metadata": {
            "tags": []
          },
          "execution_count": 39
        }
      ]
    },
    {
      "cell_type": "code",
      "metadata": {
        "colab": {
          "base_uri": "https://localhost:8080/",
          "height": 1000
        },
        "id": "HMqRPxac7TuO",
        "outputId": "474cf954-2fca-4216-fa93-d051a906a563"
      },
      "source": [
        "df"
      ],
      "execution_count": 40,
      "outputs": [
        {
          "output_type": "execute_result",
          "data": {
            "text/plain": [
              "     education  income  women  prestige  census  type_bc  type_other  \\\n",
              "0        13.11   12351  11.16      68.8    1113        0           0   \n",
              "1        12.26   25879   4.02      69.1    1130        0           0   \n",
              "2        12.77    9271  15.70      63.4    1171        0           0   \n",
              "3        11.42    8865   9.11      56.8    1175        0           0   \n",
              "4        14.62    8403  11.68      73.5    2111        0           0   \n",
              "5        15.64   11030   5.13      77.6    2113        0           0   \n",
              "6        15.09    8258  25.65      72.6    2133        0           0   \n",
              "7        15.44   14163   2.69      78.1    2141        0           0   \n",
              "8        14.52   11377   1.03      73.1    2143        0           0   \n",
              "9        14.64   11023   0.94      68.8    2153        0           0   \n",
              "10       12.39    5902   1.91      62.0    2161        0           0   \n",
              "11       12.30    7059   7.83      60.0    2163        0           0   \n",
              "12       13.83    8425  15.33      53.8    2183        0           0   \n",
              "13       14.44    8049  57.31      62.2    2311        0           0   \n",
              "14       14.36    7405  48.28      74.9    2315        0           0   \n",
              "15       14.21    6336  54.77      55.1    2331        0           0   \n",
              "16       15.77   19263   5.13      82.3    2343        0           0   \n",
              "17       14.15    6112  77.10      58.1    2351        0           0   \n",
              "18       15.22    9593  34.89      58.3    2391        0           0   \n",
              "19       14.50    4686   4.14      72.8    2511        0           0   \n",
              "20       15.97   12480  19.59      84.6    2711        0           0   \n",
              "21       13.62    5648  83.78      59.6    2731        0           0   \n",
              "22       15.08    8034  46.80      66.1    2733        0           0   \n",
              "23       15.96   25308  10.56      87.2    3111        0           0   \n",
              "24       15.94   14558   4.32      66.7    3115        0           0   \n",
              "25       14.71   17498   6.91      68.4    3117        0           0   \n",
              "26       12.46    4614  96.12      64.7    3131        0           0   \n",
              "27        9.45    3485  76.14      34.9    3135        1           0   \n",
              "28       13.62    5092  82.66      72.1    3137        0           0   \n",
              "29       15.21   10432  24.71      69.3    3151        0           0   \n",
              "..         ...     ...    ...       ...     ...      ...         ...   \n",
              "72        7.42    1890  72.24      23.2    8221        1           0   \n",
              "73        6.69    4443  31.36      33.3    8267        1           0   \n",
              "74        6.74    3485  39.48      28.8    8278        1           0   \n",
              "75       10.09    8043   1.50      42.5    8311        1           0   \n",
              "76        8.81    6686   4.28      44.2    8313        1           0   \n",
              "77        8.40    6565   2.30      35.9    8333        1           0   \n",
              "78        7.92    6477   5.17      41.8    8335        1           0   \n",
              "79        8.43    5811  13.62      35.9    8513        1           0   \n",
              "80        8.78    6573   5.78      43.7    8515        1           0   \n",
              "81        8.76    3942  74.54      50.8    8534        1           0   \n",
              "82       10.29    5449   2.92      37.2    8537        1           0   \n",
              "83        6.38    2847  90.67      28.2    8563        1           0   \n",
              "84        8.10    5795   0.81      38.1    8581        1           0   \n",
              "85       10.10    7716   0.78      50.3    8582        1           0   \n",
              "86        6.67    4696   0.00      27.3    8715        1           0   \n",
              "87        9.05    8316   1.34      40.9    8731        1           0   \n",
              "88        9.93    7147   0.99      50.2    8733        1           0   \n",
              "89        8.24    8880   0.65      51.1    8780        1           0   \n",
              "90        6.92    5299   0.56      38.9    8781        1           0   \n",
              "91        6.60    5959   0.52      36.2    8782        1           0   \n",
              "92        7.81    4549   2.46      29.9    8785        1           0   \n",
              "93        8.33    6928   0.61      42.9    8791        1           0   \n",
              "94        7.52    3910   1.09      26.5    8798        1           0   \n",
              "95       12.27   14032   0.58      66.1    9111        0           0   \n",
              "96        8.49    8845   0.00      48.9    9131        1           0   \n",
              "97        7.58    5562   9.47      35.9    9171        1           0   \n",
              "98        7.93    4224   3.59      25.1    9173        1           0   \n",
              "99        8.37    4753   0.00      26.1    9313        1           0   \n",
              "100      10.00    6462  13.58      42.2    9511        1           0   \n",
              "101       8.55    3617  70.87      35.2    9517        1           0   \n",
              "\n",
              "     type_prof  type_wc  \n",
              "0            1        0  \n",
              "1            1        0  \n",
              "2            1        0  \n",
              "3            1        0  \n",
              "4            1        0  \n",
              "5            1        0  \n",
              "6            1        0  \n",
              "7            1        0  \n",
              "8            1        0  \n",
              "9            1        0  \n",
              "10           1        0  \n",
              "11           1        0  \n",
              "12           1        0  \n",
              "13           1        0  \n",
              "14           1        0  \n",
              "15           1        0  \n",
              "16           1        0  \n",
              "17           1        0  \n",
              "18           1        0  \n",
              "19           1        0  \n",
              "20           1        0  \n",
              "21           1        0  \n",
              "22           1        0  \n",
              "23           1        0  \n",
              "24           1        0  \n",
              "25           1        0  \n",
              "26           1        0  \n",
              "27           0        0  \n",
              "28           1        0  \n",
              "29           1        0  \n",
              "..         ...      ...  \n",
              "72           0        0  \n",
              "73           0        0  \n",
              "74           0        0  \n",
              "75           0        0  \n",
              "76           0        0  \n",
              "77           0        0  \n",
              "78           0        0  \n",
              "79           0        0  \n",
              "80           0        0  \n",
              "81           0        0  \n",
              "82           0        0  \n",
              "83           0        0  \n",
              "84           0        0  \n",
              "85           0        0  \n",
              "86           0        0  \n",
              "87           0        0  \n",
              "88           0        0  \n",
              "89           0        0  \n",
              "90           0        0  \n",
              "91           0        0  \n",
              "92           0        0  \n",
              "93           0        0  \n",
              "94           0        0  \n",
              "95           1        0  \n",
              "96           0        0  \n",
              "97           0        0  \n",
              "98           0        0  \n",
              "99           0        0  \n",
              "100          0        0  \n",
              "101          0        0  \n",
              "\n",
              "[102 rows x 9 columns]"
            ],
            "text/html": [
              "<div>\n",
              "<style scoped>\n",
              "    .dataframe tbody tr th:only-of-type {\n",
              "        vertical-align: middle;\n",
              "    }\n",
              "\n",
              "    .dataframe tbody tr th {\n",
              "        vertical-align: top;\n",
              "    }\n",
              "\n",
              "    .dataframe thead th {\n",
              "        text-align: right;\n",
              "    }\n",
              "</style>\n",
              "<table border=\"1\" class=\"dataframe\">\n",
              "  <thead>\n",
              "    <tr style=\"text-align: right;\">\n",
              "      <th></th>\n",
              "      <th>education</th>\n",
              "      <th>income</th>\n",
              "      <th>women</th>\n",
              "      <th>prestige</th>\n",
              "      <th>census</th>\n",
              "      <th>type_bc</th>\n",
              "      <th>type_other</th>\n",
              "      <th>type_prof</th>\n",
              "      <th>type_wc</th>\n",
              "    </tr>\n",
              "  </thead>\n",
              "  <tbody>\n",
              "    <tr>\n",
              "      <th>0</th>\n",
              "      <td>13.11</td>\n",
              "      <td>12351</td>\n",
              "      <td>11.16</td>\n",
              "      <td>68.8</td>\n",
              "      <td>1113</td>\n",
              "      <td>0</td>\n",
              "      <td>0</td>\n",
              "      <td>1</td>\n",
              "      <td>0</td>\n",
              "    </tr>\n",
              "    <tr>\n",
              "      <th>1</th>\n",
              "      <td>12.26</td>\n",
              "      <td>25879</td>\n",
              "      <td>4.02</td>\n",
              "      <td>69.1</td>\n",
              "      <td>1130</td>\n",
              "      <td>0</td>\n",
              "      <td>0</td>\n",
              "      <td>1</td>\n",
              "      <td>0</td>\n",
              "    </tr>\n",
              "    <tr>\n",
              "      <th>2</th>\n",
              "      <td>12.77</td>\n",
              "      <td>9271</td>\n",
              "      <td>15.70</td>\n",
              "      <td>63.4</td>\n",
              "      <td>1171</td>\n",
              "      <td>0</td>\n",
              "      <td>0</td>\n",
              "      <td>1</td>\n",
              "      <td>0</td>\n",
              "    </tr>\n",
              "    <tr>\n",
              "      <th>3</th>\n",
              "      <td>11.42</td>\n",
              "      <td>8865</td>\n",
              "      <td>9.11</td>\n",
              "      <td>56.8</td>\n",
              "      <td>1175</td>\n",
              "      <td>0</td>\n",
              "      <td>0</td>\n",
              "      <td>1</td>\n",
              "      <td>0</td>\n",
              "    </tr>\n",
              "    <tr>\n",
              "      <th>4</th>\n",
              "      <td>14.62</td>\n",
              "      <td>8403</td>\n",
              "      <td>11.68</td>\n",
              "      <td>73.5</td>\n",
              "      <td>2111</td>\n",
              "      <td>0</td>\n",
              "      <td>0</td>\n",
              "      <td>1</td>\n",
              "      <td>0</td>\n",
              "    </tr>\n",
              "    <tr>\n",
              "      <th>5</th>\n",
              "      <td>15.64</td>\n",
              "      <td>11030</td>\n",
              "      <td>5.13</td>\n",
              "      <td>77.6</td>\n",
              "      <td>2113</td>\n",
              "      <td>0</td>\n",
              "      <td>0</td>\n",
              "      <td>1</td>\n",
              "      <td>0</td>\n",
              "    </tr>\n",
              "    <tr>\n",
              "      <th>6</th>\n",
              "      <td>15.09</td>\n",
              "      <td>8258</td>\n",
              "      <td>25.65</td>\n",
              "      <td>72.6</td>\n",
              "      <td>2133</td>\n",
              "      <td>0</td>\n",
              "      <td>0</td>\n",
              "      <td>1</td>\n",
              "      <td>0</td>\n",
              "    </tr>\n",
              "    <tr>\n",
              "      <th>7</th>\n",
              "      <td>15.44</td>\n",
              "      <td>14163</td>\n",
              "      <td>2.69</td>\n",
              "      <td>78.1</td>\n",
              "      <td>2141</td>\n",
              "      <td>0</td>\n",
              "      <td>0</td>\n",
              "      <td>1</td>\n",
              "      <td>0</td>\n",
              "    </tr>\n",
              "    <tr>\n",
              "      <th>8</th>\n",
              "      <td>14.52</td>\n",
              "      <td>11377</td>\n",
              "      <td>1.03</td>\n",
              "      <td>73.1</td>\n",
              "      <td>2143</td>\n",
              "      <td>0</td>\n",
              "      <td>0</td>\n",
              "      <td>1</td>\n",
              "      <td>0</td>\n",
              "    </tr>\n",
              "    <tr>\n",
              "      <th>9</th>\n",
              "      <td>14.64</td>\n",
              "      <td>11023</td>\n",
              "      <td>0.94</td>\n",
              "      <td>68.8</td>\n",
              "      <td>2153</td>\n",
              "      <td>0</td>\n",
              "      <td>0</td>\n",
              "      <td>1</td>\n",
              "      <td>0</td>\n",
              "    </tr>\n",
              "    <tr>\n",
              "      <th>10</th>\n",
              "      <td>12.39</td>\n",
              "      <td>5902</td>\n",
              "      <td>1.91</td>\n",
              "      <td>62.0</td>\n",
              "      <td>2161</td>\n",
              "      <td>0</td>\n",
              "      <td>0</td>\n",
              "      <td>1</td>\n",
              "      <td>0</td>\n",
              "    </tr>\n",
              "    <tr>\n",
              "      <th>11</th>\n",
              "      <td>12.30</td>\n",
              "      <td>7059</td>\n",
              "      <td>7.83</td>\n",
              "      <td>60.0</td>\n",
              "      <td>2163</td>\n",
              "      <td>0</td>\n",
              "      <td>0</td>\n",
              "      <td>1</td>\n",
              "      <td>0</td>\n",
              "    </tr>\n",
              "    <tr>\n",
              "      <th>12</th>\n",
              "      <td>13.83</td>\n",
              "      <td>8425</td>\n",
              "      <td>15.33</td>\n",
              "      <td>53.8</td>\n",
              "      <td>2183</td>\n",
              "      <td>0</td>\n",
              "      <td>0</td>\n",
              "      <td>1</td>\n",
              "      <td>0</td>\n",
              "    </tr>\n",
              "    <tr>\n",
              "      <th>13</th>\n",
              "      <td>14.44</td>\n",
              "      <td>8049</td>\n",
              "      <td>57.31</td>\n",
              "      <td>62.2</td>\n",
              "      <td>2311</td>\n",
              "      <td>0</td>\n",
              "      <td>0</td>\n",
              "      <td>1</td>\n",
              "      <td>0</td>\n",
              "    </tr>\n",
              "    <tr>\n",
              "      <th>14</th>\n",
              "      <td>14.36</td>\n",
              "      <td>7405</td>\n",
              "      <td>48.28</td>\n",
              "      <td>74.9</td>\n",
              "      <td>2315</td>\n",
              "      <td>0</td>\n",
              "      <td>0</td>\n",
              "      <td>1</td>\n",
              "      <td>0</td>\n",
              "    </tr>\n",
              "    <tr>\n",
              "      <th>15</th>\n",
              "      <td>14.21</td>\n",
              "      <td>6336</td>\n",
              "      <td>54.77</td>\n",
              "      <td>55.1</td>\n",
              "      <td>2331</td>\n",
              "      <td>0</td>\n",
              "      <td>0</td>\n",
              "      <td>1</td>\n",
              "      <td>0</td>\n",
              "    </tr>\n",
              "    <tr>\n",
              "      <th>16</th>\n",
              "      <td>15.77</td>\n",
              "      <td>19263</td>\n",
              "      <td>5.13</td>\n",
              "      <td>82.3</td>\n",
              "      <td>2343</td>\n",
              "      <td>0</td>\n",
              "      <td>0</td>\n",
              "      <td>1</td>\n",
              "      <td>0</td>\n",
              "    </tr>\n",
              "    <tr>\n",
              "      <th>17</th>\n",
              "      <td>14.15</td>\n",
              "      <td>6112</td>\n",
              "      <td>77.10</td>\n",
              "      <td>58.1</td>\n",
              "      <td>2351</td>\n",
              "      <td>0</td>\n",
              "      <td>0</td>\n",
              "      <td>1</td>\n",
              "      <td>0</td>\n",
              "    </tr>\n",
              "    <tr>\n",
              "      <th>18</th>\n",
              "      <td>15.22</td>\n",
              "      <td>9593</td>\n",
              "      <td>34.89</td>\n",
              "      <td>58.3</td>\n",
              "      <td>2391</td>\n",
              "      <td>0</td>\n",
              "      <td>0</td>\n",
              "      <td>1</td>\n",
              "      <td>0</td>\n",
              "    </tr>\n",
              "    <tr>\n",
              "      <th>19</th>\n",
              "      <td>14.50</td>\n",
              "      <td>4686</td>\n",
              "      <td>4.14</td>\n",
              "      <td>72.8</td>\n",
              "      <td>2511</td>\n",
              "      <td>0</td>\n",
              "      <td>0</td>\n",
              "      <td>1</td>\n",
              "      <td>0</td>\n",
              "    </tr>\n",
              "    <tr>\n",
              "      <th>20</th>\n",
              "      <td>15.97</td>\n",
              "      <td>12480</td>\n",
              "      <td>19.59</td>\n",
              "      <td>84.6</td>\n",
              "      <td>2711</td>\n",
              "      <td>0</td>\n",
              "      <td>0</td>\n",
              "      <td>1</td>\n",
              "      <td>0</td>\n",
              "    </tr>\n",
              "    <tr>\n",
              "      <th>21</th>\n",
              "      <td>13.62</td>\n",
              "      <td>5648</td>\n",
              "      <td>83.78</td>\n",
              "      <td>59.6</td>\n",
              "      <td>2731</td>\n",
              "      <td>0</td>\n",
              "      <td>0</td>\n",
              "      <td>1</td>\n",
              "      <td>0</td>\n",
              "    </tr>\n",
              "    <tr>\n",
              "      <th>22</th>\n",
              "      <td>15.08</td>\n",
              "      <td>8034</td>\n",
              "      <td>46.80</td>\n",
              "      <td>66.1</td>\n",
              "      <td>2733</td>\n",
              "      <td>0</td>\n",
              "      <td>0</td>\n",
              "      <td>1</td>\n",
              "      <td>0</td>\n",
              "    </tr>\n",
              "    <tr>\n",
              "      <th>23</th>\n",
              "      <td>15.96</td>\n",
              "      <td>25308</td>\n",
              "      <td>10.56</td>\n",
              "      <td>87.2</td>\n",
              "      <td>3111</td>\n",
              "      <td>0</td>\n",
              "      <td>0</td>\n",
              "      <td>1</td>\n",
              "      <td>0</td>\n",
              "    </tr>\n",
              "    <tr>\n",
              "      <th>24</th>\n",
              "      <td>15.94</td>\n",
              "      <td>14558</td>\n",
              "      <td>4.32</td>\n",
              "      <td>66.7</td>\n",
              "      <td>3115</td>\n",
              "      <td>0</td>\n",
              "      <td>0</td>\n",
              "      <td>1</td>\n",
              "      <td>0</td>\n",
              "    </tr>\n",
              "    <tr>\n",
              "      <th>25</th>\n",
              "      <td>14.71</td>\n",
              "      <td>17498</td>\n",
              "      <td>6.91</td>\n",
              "      <td>68.4</td>\n",
              "      <td>3117</td>\n",
              "      <td>0</td>\n",
              "      <td>0</td>\n",
              "      <td>1</td>\n",
              "      <td>0</td>\n",
              "    </tr>\n",
              "    <tr>\n",
              "      <th>26</th>\n",
              "      <td>12.46</td>\n",
              "      <td>4614</td>\n",
              "      <td>96.12</td>\n",
              "      <td>64.7</td>\n",
              "      <td>3131</td>\n",
              "      <td>0</td>\n",
              "      <td>0</td>\n",
              "      <td>1</td>\n",
              "      <td>0</td>\n",
              "    </tr>\n",
              "    <tr>\n",
              "      <th>27</th>\n",
              "      <td>9.45</td>\n",
              "      <td>3485</td>\n",
              "      <td>76.14</td>\n",
              "      <td>34.9</td>\n",
              "      <td>3135</td>\n",
              "      <td>1</td>\n",
              "      <td>0</td>\n",
              "      <td>0</td>\n",
              "      <td>0</td>\n",
              "    </tr>\n",
              "    <tr>\n",
              "      <th>28</th>\n",
              "      <td>13.62</td>\n",
              "      <td>5092</td>\n",
              "      <td>82.66</td>\n",
              "      <td>72.1</td>\n",
              "      <td>3137</td>\n",
              "      <td>0</td>\n",
              "      <td>0</td>\n",
              "      <td>1</td>\n",
              "      <td>0</td>\n",
              "    </tr>\n",
              "    <tr>\n",
              "      <th>29</th>\n",
              "      <td>15.21</td>\n",
              "      <td>10432</td>\n",
              "      <td>24.71</td>\n",
              "      <td>69.3</td>\n",
              "      <td>3151</td>\n",
              "      <td>0</td>\n",
              "      <td>0</td>\n",
              "      <td>1</td>\n",
              "      <td>0</td>\n",
              "    </tr>\n",
              "    <tr>\n",
              "      <th>...</th>\n",
              "      <td>...</td>\n",
              "      <td>...</td>\n",
              "      <td>...</td>\n",
              "      <td>...</td>\n",
              "      <td>...</td>\n",
              "      <td>...</td>\n",
              "      <td>...</td>\n",
              "      <td>...</td>\n",
              "      <td>...</td>\n",
              "    </tr>\n",
              "    <tr>\n",
              "      <th>72</th>\n",
              "      <td>7.42</td>\n",
              "      <td>1890</td>\n",
              "      <td>72.24</td>\n",
              "      <td>23.2</td>\n",
              "      <td>8221</td>\n",
              "      <td>1</td>\n",
              "      <td>0</td>\n",
              "      <td>0</td>\n",
              "      <td>0</td>\n",
              "    </tr>\n",
              "    <tr>\n",
              "      <th>73</th>\n",
              "      <td>6.69</td>\n",
              "      <td>4443</td>\n",
              "      <td>31.36</td>\n",
              "      <td>33.3</td>\n",
              "      <td>8267</td>\n",
              "      <td>1</td>\n",
              "      <td>0</td>\n",
              "      <td>0</td>\n",
              "      <td>0</td>\n",
              "    </tr>\n",
              "    <tr>\n",
              "      <th>74</th>\n",
              "      <td>6.74</td>\n",
              "      <td>3485</td>\n",
              "      <td>39.48</td>\n",
              "      <td>28.8</td>\n",
              "      <td>8278</td>\n",
              "      <td>1</td>\n",
              "      <td>0</td>\n",
              "      <td>0</td>\n",
              "      <td>0</td>\n",
              "    </tr>\n",
              "    <tr>\n",
              "      <th>75</th>\n",
              "      <td>10.09</td>\n",
              "      <td>8043</td>\n",
              "      <td>1.50</td>\n",
              "      <td>42.5</td>\n",
              "      <td>8311</td>\n",
              "      <td>1</td>\n",
              "      <td>0</td>\n",
              "      <td>0</td>\n",
              "      <td>0</td>\n",
              "    </tr>\n",
              "    <tr>\n",
              "      <th>76</th>\n",
              "      <td>8.81</td>\n",
              "      <td>6686</td>\n",
              "      <td>4.28</td>\n",
              "      <td>44.2</td>\n",
              "      <td>8313</td>\n",
              "      <td>1</td>\n",
              "      <td>0</td>\n",
              "      <td>0</td>\n",
              "      <td>0</td>\n",
              "    </tr>\n",
              "    <tr>\n",
              "      <th>77</th>\n",
              "      <td>8.40</td>\n",
              "      <td>6565</td>\n",
              "      <td>2.30</td>\n",
              "      <td>35.9</td>\n",
              "      <td>8333</td>\n",
              "      <td>1</td>\n",
              "      <td>0</td>\n",
              "      <td>0</td>\n",
              "      <td>0</td>\n",
              "    </tr>\n",
              "    <tr>\n",
              "      <th>78</th>\n",
              "      <td>7.92</td>\n",
              "      <td>6477</td>\n",
              "      <td>5.17</td>\n",
              "      <td>41.8</td>\n",
              "      <td>8335</td>\n",
              "      <td>1</td>\n",
              "      <td>0</td>\n",
              "      <td>0</td>\n",
              "      <td>0</td>\n",
              "    </tr>\n",
              "    <tr>\n",
              "      <th>79</th>\n",
              "      <td>8.43</td>\n",
              "      <td>5811</td>\n",
              "      <td>13.62</td>\n",
              "      <td>35.9</td>\n",
              "      <td>8513</td>\n",
              "      <td>1</td>\n",
              "      <td>0</td>\n",
              "      <td>0</td>\n",
              "      <td>0</td>\n",
              "    </tr>\n",
              "    <tr>\n",
              "      <th>80</th>\n",
              "      <td>8.78</td>\n",
              "      <td>6573</td>\n",
              "      <td>5.78</td>\n",
              "      <td>43.7</td>\n",
              "      <td>8515</td>\n",
              "      <td>1</td>\n",
              "      <td>0</td>\n",
              "      <td>0</td>\n",
              "      <td>0</td>\n",
              "    </tr>\n",
              "    <tr>\n",
              "      <th>81</th>\n",
              "      <td>8.76</td>\n",
              "      <td>3942</td>\n",
              "      <td>74.54</td>\n",
              "      <td>50.8</td>\n",
              "      <td>8534</td>\n",
              "      <td>1</td>\n",
              "      <td>0</td>\n",
              "      <td>0</td>\n",
              "      <td>0</td>\n",
              "    </tr>\n",
              "    <tr>\n",
              "      <th>82</th>\n",
              "      <td>10.29</td>\n",
              "      <td>5449</td>\n",
              "      <td>2.92</td>\n",
              "      <td>37.2</td>\n",
              "      <td>8537</td>\n",
              "      <td>1</td>\n",
              "      <td>0</td>\n",
              "      <td>0</td>\n",
              "      <td>0</td>\n",
              "    </tr>\n",
              "    <tr>\n",
              "      <th>83</th>\n",
              "      <td>6.38</td>\n",
              "      <td>2847</td>\n",
              "      <td>90.67</td>\n",
              "      <td>28.2</td>\n",
              "      <td>8563</td>\n",
              "      <td>1</td>\n",
              "      <td>0</td>\n",
              "      <td>0</td>\n",
              "      <td>0</td>\n",
              "    </tr>\n",
              "    <tr>\n",
              "      <th>84</th>\n",
              "      <td>8.10</td>\n",
              "      <td>5795</td>\n",
              "      <td>0.81</td>\n",
              "      <td>38.1</td>\n",
              "      <td>8581</td>\n",
              "      <td>1</td>\n",
              "      <td>0</td>\n",
              "      <td>0</td>\n",
              "      <td>0</td>\n",
              "    </tr>\n",
              "    <tr>\n",
              "      <th>85</th>\n",
              "      <td>10.10</td>\n",
              "      <td>7716</td>\n",
              "      <td>0.78</td>\n",
              "      <td>50.3</td>\n",
              "      <td>8582</td>\n",
              "      <td>1</td>\n",
              "      <td>0</td>\n",
              "      <td>0</td>\n",
              "      <td>0</td>\n",
              "    </tr>\n",
              "    <tr>\n",
              "      <th>86</th>\n",
              "      <td>6.67</td>\n",
              "      <td>4696</td>\n",
              "      <td>0.00</td>\n",
              "      <td>27.3</td>\n",
              "      <td>8715</td>\n",
              "      <td>1</td>\n",
              "      <td>0</td>\n",
              "      <td>0</td>\n",
              "      <td>0</td>\n",
              "    </tr>\n",
              "    <tr>\n",
              "      <th>87</th>\n",
              "      <td>9.05</td>\n",
              "      <td>8316</td>\n",
              "      <td>1.34</td>\n",
              "      <td>40.9</td>\n",
              "      <td>8731</td>\n",
              "      <td>1</td>\n",
              "      <td>0</td>\n",
              "      <td>0</td>\n",
              "      <td>0</td>\n",
              "    </tr>\n",
              "    <tr>\n",
              "      <th>88</th>\n",
              "      <td>9.93</td>\n",
              "      <td>7147</td>\n",
              "      <td>0.99</td>\n",
              "      <td>50.2</td>\n",
              "      <td>8733</td>\n",
              "      <td>1</td>\n",
              "      <td>0</td>\n",
              "      <td>0</td>\n",
              "      <td>0</td>\n",
              "    </tr>\n",
              "    <tr>\n",
              "      <th>89</th>\n",
              "      <td>8.24</td>\n",
              "      <td>8880</td>\n",
              "      <td>0.65</td>\n",
              "      <td>51.1</td>\n",
              "      <td>8780</td>\n",
              "      <td>1</td>\n",
              "      <td>0</td>\n",
              "      <td>0</td>\n",
              "      <td>0</td>\n",
              "    </tr>\n",
              "    <tr>\n",
              "      <th>90</th>\n",
              "      <td>6.92</td>\n",
              "      <td>5299</td>\n",
              "      <td>0.56</td>\n",
              "      <td>38.9</td>\n",
              "      <td>8781</td>\n",
              "      <td>1</td>\n",
              "      <td>0</td>\n",
              "      <td>0</td>\n",
              "      <td>0</td>\n",
              "    </tr>\n",
              "    <tr>\n",
              "      <th>91</th>\n",
              "      <td>6.60</td>\n",
              "      <td>5959</td>\n",
              "      <td>0.52</td>\n",
              "      <td>36.2</td>\n",
              "      <td>8782</td>\n",
              "      <td>1</td>\n",
              "      <td>0</td>\n",
              "      <td>0</td>\n",
              "      <td>0</td>\n",
              "    </tr>\n",
              "    <tr>\n",
              "      <th>92</th>\n",
              "      <td>7.81</td>\n",
              "      <td>4549</td>\n",
              "      <td>2.46</td>\n",
              "      <td>29.9</td>\n",
              "      <td>8785</td>\n",
              "      <td>1</td>\n",
              "      <td>0</td>\n",
              "      <td>0</td>\n",
              "      <td>0</td>\n",
              "    </tr>\n",
              "    <tr>\n",
              "      <th>93</th>\n",
              "      <td>8.33</td>\n",
              "      <td>6928</td>\n",
              "      <td>0.61</td>\n",
              "      <td>42.9</td>\n",
              "      <td>8791</td>\n",
              "      <td>1</td>\n",
              "      <td>0</td>\n",
              "      <td>0</td>\n",
              "      <td>0</td>\n",
              "    </tr>\n",
              "    <tr>\n",
              "      <th>94</th>\n",
              "      <td>7.52</td>\n",
              "      <td>3910</td>\n",
              "      <td>1.09</td>\n",
              "      <td>26.5</td>\n",
              "      <td>8798</td>\n",
              "      <td>1</td>\n",
              "      <td>0</td>\n",
              "      <td>0</td>\n",
              "      <td>0</td>\n",
              "    </tr>\n",
              "    <tr>\n",
              "      <th>95</th>\n",
              "      <td>12.27</td>\n",
              "      <td>14032</td>\n",
              "      <td>0.58</td>\n",
              "      <td>66.1</td>\n",
              "      <td>9111</td>\n",
              "      <td>0</td>\n",
              "      <td>0</td>\n",
              "      <td>1</td>\n",
              "      <td>0</td>\n",
              "    </tr>\n",
              "    <tr>\n",
              "      <th>96</th>\n",
              "      <td>8.49</td>\n",
              "      <td>8845</td>\n",
              "      <td>0.00</td>\n",
              "      <td>48.9</td>\n",
              "      <td>9131</td>\n",
              "      <td>1</td>\n",
              "      <td>0</td>\n",
              "      <td>0</td>\n",
              "      <td>0</td>\n",
              "    </tr>\n",
              "    <tr>\n",
              "      <th>97</th>\n",
              "      <td>7.58</td>\n",
              "      <td>5562</td>\n",
              "      <td>9.47</td>\n",
              "      <td>35.9</td>\n",
              "      <td>9171</td>\n",
              "      <td>1</td>\n",
              "      <td>0</td>\n",
              "      <td>0</td>\n",
              "      <td>0</td>\n",
              "    </tr>\n",
              "    <tr>\n",
              "      <th>98</th>\n",
              "      <td>7.93</td>\n",
              "      <td>4224</td>\n",
              "      <td>3.59</td>\n",
              "      <td>25.1</td>\n",
              "      <td>9173</td>\n",
              "      <td>1</td>\n",
              "      <td>0</td>\n",
              "      <td>0</td>\n",
              "      <td>0</td>\n",
              "    </tr>\n",
              "    <tr>\n",
              "      <th>99</th>\n",
              "      <td>8.37</td>\n",
              "      <td>4753</td>\n",
              "      <td>0.00</td>\n",
              "      <td>26.1</td>\n",
              "      <td>9313</td>\n",
              "      <td>1</td>\n",
              "      <td>0</td>\n",
              "      <td>0</td>\n",
              "      <td>0</td>\n",
              "    </tr>\n",
              "    <tr>\n",
              "      <th>100</th>\n",
              "      <td>10.00</td>\n",
              "      <td>6462</td>\n",
              "      <td>13.58</td>\n",
              "      <td>42.2</td>\n",
              "      <td>9511</td>\n",
              "      <td>1</td>\n",
              "      <td>0</td>\n",
              "      <td>0</td>\n",
              "      <td>0</td>\n",
              "    </tr>\n",
              "    <tr>\n",
              "      <th>101</th>\n",
              "      <td>8.55</td>\n",
              "      <td>3617</td>\n",
              "      <td>70.87</td>\n",
              "      <td>35.2</td>\n",
              "      <td>9517</td>\n",
              "      <td>1</td>\n",
              "      <td>0</td>\n",
              "      <td>0</td>\n",
              "      <td>0</td>\n",
              "    </tr>\n",
              "  </tbody>\n",
              "</table>\n",
              "<p>102 rows × 9 columns</p>\n",
              "</div>"
            ]
          },
          "metadata": {
            "tags": []
          },
          "execution_count": 40
        }
      ]
    },
    {
      "cell_type": "code",
      "metadata": {
        "id": "fZOlXnjV7TuO"
      },
      "source": [
        ""
      ],
      "execution_count": null,
      "outputs": []
    }
  ]
}